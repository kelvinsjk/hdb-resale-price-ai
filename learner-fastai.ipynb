{
 "cells": [
  {
   "cell_type": "code",
   "execution_count": 3,
   "metadata": {},
   "outputs": [
    {
     "data": {
      "text/html": [
       "<div>\n",
       "<style scoped>\n",
       "    .dataframe tbody tr th:only-of-type {\n",
       "        vertical-align: middle;\n",
       "    }\n",
       "\n",
       "    .dataframe tbody tr th {\n",
       "        vertical-align: top;\n",
       "    }\n",
       "\n",
       "    .dataframe thead th {\n",
       "        text-align: right;\n",
       "    }\n",
       "</style>\n",
       "<table border=\"1\" class=\"dataframe\">\n",
       "  <thead>\n",
       "    <tr style=\"text-align: right;\">\n",
       "      <th></th>\n",
       "      <th>floor</th>\n",
       "      <th>area</th>\n",
       "      <th>year</th>\n",
       "      <th>lease</th>\n",
       "      <th>price</th>\n",
       "      <th>date</th>\n",
       "      <th>lat</th>\n",
       "      <th>long</th>\n",
       "    </tr>\n",
       "  </thead>\n",
       "  <tbody>\n",
       "    <tr>\n",
       "      <th>0</th>\n",
       "      <td>2.0</td>\n",
       "      <td>67.0</td>\n",
       "      <td>1977</td>\n",
       "      <td>53.166667</td>\n",
       "      <td>300500.0</td>\n",
       "      <td>738641.0</td>\n",
       "      <td>1.44154</td>\n",
       "      <td>103.77210</td>\n",
       "    </tr>\n",
       "    <tr>\n",
       "      <th>1</th>\n",
       "      <td>11.0</td>\n",
       "      <td>65.0</td>\n",
       "      <td>1976</td>\n",
       "      <td>51.750000</td>\n",
       "      <td>315000.0</td>\n",
       "      <td>738641.0</td>\n",
       "      <td>1.44198</td>\n",
       "      <td>103.77847</td>\n",
       "    </tr>\n",
       "    <tr>\n",
       "      <th>2</th>\n",
       "      <td>23.0</td>\n",
       "      <td>67.0</td>\n",
       "      <td>2015</td>\n",
       "      <td>91.250000</td>\n",
       "      <td>430000.0</td>\n",
       "      <td>738641.0</td>\n",
       "      <td>1.43913</td>\n",
       "      <td>103.77814</td>\n",
       "    </tr>\n",
       "    <tr>\n",
       "      <th>3</th>\n",
       "      <td>8.0</td>\n",
       "      <td>68.0</td>\n",
       "      <td>2018</td>\n",
       "      <td>94.416667</td>\n",
       "      <td>445000.0</td>\n",
       "      <td>738641.0</td>\n",
       "      <td>1.43834</td>\n",
       "      <td>103.80388</td>\n",
       "    </tr>\n",
       "    <tr>\n",
       "      <th>4</th>\n",
       "      <td>8.0</td>\n",
       "      <td>68.0</td>\n",
       "      <td>2018</td>\n",
       "      <td>94.416667</td>\n",
       "      <td>450000.0</td>\n",
       "      <td>738641.0</td>\n",
       "      <td>1.43862</td>\n",
       "      <td>103.80561</td>\n",
       "    </tr>\n",
       "  </tbody>\n",
       "</table>\n",
       "</div>"
      ],
      "text/plain": [
       "   floor  area  year      lease     price      date      lat       long\n",
       "0    2.0  67.0  1977  53.166667  300500.0  738641.0  1.44154  103.77210\n",
       "1   11.0  65.0  1976  51.750000  315000.0  738641.0  1.44198  103.77847\n",
       "2   23.0  67.0  2015  91.250000  430000.0  738641.0  1.43913  103.77814\n",
       "3    8.0  68.0  2018  94.416667  445000.0  738641.0  1.43834  103.80388\n",
       "4    8.0  68.0  2018  94.416667  450000.0  738641.0  1.43862  103.80561"
      ]
     },
     "execution_count": 3,
     "metadata": {},
     "output_type": "execute_result"
    }
   ],
   "source": [
    "# Import libraries\n",
    "import numpy as np\n",
    "import pandas as pd\n",
    "import re\n",
    "import torch\n",
    "import matplotlib.pyplot as plt\n",
    "import fastai.tabular.all as fastai\n",
    "np.set_printoptions(linewidth=130)\n",
    "\n",
    "# dictionary: block and street to lat/long\n",
    "latLong = {\n",
    "  '212 Marsiling Cres': [1.44622, 103.77311],\n",
    "  '1 Marsiling Dr': [1.44067, 103.77571],\n",
    "  '2 Marsiling Dr': [1.43995, 103.77655],\n",
    "  '6 Marsiling Dr': [1.44208, 103.77633],\n",
    "  '22 Marsiling Dr': [1.44191, 103.77436],\n",
    "  '23 Marsiling Dr': [1.44151, 103.77330],\n",
    "  '24 Marsiling Dr': [1.44154, 103.77210],\n",
    "  '30 Marsiling Dr': [1.44258, 103.77240],\n",
    "  '31 Marsiling Dr': [1.44305, 103.77232],\n",
    "  '32 Marsiling Dr': [1.44337, 103.77293],\n",
    "  '202 Marsiling Dr': [1.44289, 103.77487],\n",
    "  '204 Marsiling Dr': [1.44408, 103.77370],\n",
    "  '206 Marsiling Dr': [1.44537, 103.77293],\n",
    "  '12 Marsiling Lane': [1.44061, 103.77870],\n",
    "  '12A Marsiling Lane': [1.44141, 103.77849],\n",
    "  '13 Marsiling Lane': [1.44109, 103.77925],\n",
    "  '15 Marsiling Lane': [1.44198, 103.77847],\n",
    "  '17 Marsiling Lane': [1.44273, 103.77804],\n",
    "  '18 Marsiling Lane': [1.44342, 103.77787],\n",
    "  '19 Marsiling Lane': [1.44328, 103.77730],\n",
    "  '180A Marsiling Rd': [1.43913, 103.77814],\n",
    "  '180B Marsiling Rd': [1.43913, 103.77835],\n",
    "  '125 Marsiling Rise': [1.43849, 103.77953],\n",
    "  '129 Marsiling Rise': [1.43783, 103.77871],\n",
    "  '130 Marsiling Rise': [1.43812, 103.77870],\n",
    "  '131 Marsiling Rise': [1.43849, 103.77862],\n",
    "  '132 Marsiling Rise': [1.43829, 103.77803],\n",
    "  '570A Woodlands Ave 1': [1.43071, 103.79105],\n",
    "  '570B Woodlands Ave 1': [1.43091, 103.79077],\n",
    "  '571C Woodlands Ave 1': [1.43040, 103.78997],\n",
    "  '693A Woodlands Ave 6': [1.43864, 103.80377],\n",
    "  '693B Woodlands Ave 6': [1.43834, 103.80388],\n",
    "  '693C Woodlands Ave 6': [1.43793, 103.80407],\n",
    "  '780A Woodlands Cres': [1.44882, 103.80067],\n",
    "  '780B Woodlands Cres': [1.44902, 103.80102],\n",
    "  '780C Woodlands Cres': [1.44913, 103.80139],\n",
    "  '780F Woodlands Cres': [1.44788, 103.80124],\n",
    "  '782C Woodlands Cres': [1.44780, 103.80344],\n",
    "  '782D Woodlands Cres': [1.44823, 103.80283],\n",
    "  '573A Woodlands Dr 16': [1.43133, 103.79828],\n",
    "  '573B Woodlands Dr 16': [1.43094, 103.79781],\n",
    "  '573C Woodlands Dr 16': [1.43052, 103.79767],\n",
    "  '574A Woodlands Dr 16': [1.43011, 103.79710],\n",
    "  '574B Woodlands Dr 16': [1.42970, 103.79685],\n",
    "  '886A Woodlands Dr 50': [1.43830, 103.79489],\n",
    "  '886B Woodlands Dr 50': [1.43824, 103.79387],\n",
    "  '886D Woodlands Dr 50': [1.43794, 103.79490],\n",
    "  '887B Woodlands Dr 50': [1.43710, 103.79406],\n",
    "  '887C Woodlands Dr 50': [1.43697, 103.79468],\n",
    "  '694A Woodlands Dr 62': [1.43916, 103.80419],\n",
    "  '694B Woodlands Dr 62': [1.43926, 103.80517],\n",
    "  '694C Woodlands Dr 62': [1.43862, 103.80561],\n",
    "  '694D Woodlands Dr 62': [1.43843, 103.80544],\n",
    "  '717A Woodlands Dr 70': [1.44049, 103.79836],\n",
    "  '717B Woodlands Dr 70': [1.44135, 103.79861],\n",
    "  '784B Woodlands Rise': [1.44565, 103.80499],\n",
    "  '784C Woodlands Rise': [1.44602, 103.80500],\n",
    "  '785B Woodlands Rise': [1.44636, 103.80527],\n",
    "  '101 Woodlands St 13': [1.43612, 103.78206],\n",
    "  '102 Woodlands St 13': [1.43611, 103.78117],\n",
    "  '111 Woodlands St 13': [1.43784, 103.78219],\n",
    "  '145 Woodlands St 13': [1.43612, 103.77324],\n",
    "  '146 Woodlands St 13': [1.43612, 103.77409],\n",
    "  '148 Woodlands St 13': [1.43578, 103.77402],\n",
    "  '149 Woodlands St 13': [1.43578, 103.77303],\n",
    "  '151 Woodlands St 13': [1.43546, 103.77423],\n",
    "  '152 Woodlands St 13': [1.43505, 103.77424],\n",
    "  '155 Woodlands St 13': [1.43477, 103.77459],\n",
    "  '157 Woodlands St 13': [1.43437, 103.77480],\n",
    "  '158 Woodlands St 13': [1.43407, 103.77478],\n",
    "  '159 Woodlands St 13': [1.43371, 103.77459],\n",
    "  '160 Woodlands St 13': [1.43337, 103.77469],\n",
    "  '161 Woodlands St 13': [1.43337, 103.77367],\n",
    "  '166 Woodlands St 13': [1.43374, 103.77543],\n",
    "  '302A Woodlands St 31': [1.43185, 103.77527],\n",
    "  '310 Woodlands St 31': [1.43009, 103.77598],\n",
    "  '311 Woodlands St 31': [1.43185, 103.77527],\n",
    "  '313 Woodlands St 31': [1.43049, 103.77617],\n",
    "  '314 Woodlands St 31': [1.43119, 103.77607],\n",
    "  '316 Woodlands St 31': [1.43149, 103.77637],\n",
    "  '317 Woodlands St 31': [1.43190, 103.77627],\n",
    "  '318 Woodlands St 31': [1.43185, 103.77731],\n",
    "  '319 Woodlands St 31': [1.43150, 103.77740],\n",
    "  '411 Woodlands St 41': [1.42852, 103.77282],\n",
    "  '419 Woodlands St 41': [1.42852, 103.77457],\n",
    "  '818 Woodlands St 82': [1.44167, 103.79018],\n",
    "  '820 Woodlands St 82': [1.44101, 103.79014],\n",
    "  '848 Woodlands St 82': [1.44181, 103.79198],\n",
    "  '849 Woodlands St 82': [1.44147, 103.79199],\n",
    "  '834 Woodlands St 83': [1.44009, 103.79108],\n",
    "}\n",
    "\n",
    "# clean up data: area, date, floor, price\n",
    "def load_csv():\n",
    "  return pd.read_csv('./data/2305_3rm_woodlands.csv')\n",
    "def price_cleanup(df):\n",
    "  df['price'] = df.price.apply(lambda x:float(x.replace('$','').replace(',','')) if isinstance(x,str) else x)\n",
    "  return df\n",
    "def area_cleanup(df):\n",
    "  df['area'] = df.area.str.split('\\n',expand=True)[0].astype(float) if df.area.dtype != 'float64' else df.area\n",
    "  return df  \n",
    "def date_cleanup(df):\n",
    "  df['date'] = pd.to_datetime(df.date, format=\"%m/%d/%y\")\n",
    "  df['date'] = df.date.apply(lambda x:float(x.toordinal()) if not isinstance(x,float) else x)\n",
    "  return df\n",
    "floor_dict = { f'0{i*3+1} to 0{i*3+3}' if i < 3 else f'{i*3+1} to {i*3+3}': i*3+2  for i in range(11)  }\n",
    "def floor_cleanup(df):\n",
    "  df['floor'] = df.floor.apply(lambda x:float(floor_dict[x]) if isinstance(x,str) else x)\n",
    "  return df\n",
    "def lease_to_float(str):\n",
    "  result = re.search(\"(\\d+) years\\\\n(\\d+) months\", str)\n",
    "  if (result is None):\n",
    "    result = re.search(\"(\\d+) years\", str)\n",
    "    year = result.groups()[0]\n",
    "    return float(year)\n",
    "  year,month = result.groups()\n",
    "  return float(year)+float(month)/12\n",
    "def lease_cleanup(df):\n",
    "  df['lease'] = df.lease.apply(lambda x:lease_to_float(x) if isinstance(x,str) else x)\n",
    "  return df\n",
    "def lat_long(df):\n",
    "  adds = (df.block + df.street).str.replace(u'\\xa0', u' ')\n",
    "  latLongs = adds.apply(lambda x: latLong[x])\n",
    "  df['lat'] = latLongs.apply(lambda x: x[0])\n",
    "  df['long'] = latLongs.apply(lambda x: x[1])\n",
    "  df.drop(['block', 'street'], axis=1, inplace=True)\n",
    "  return df\n",
    "\n",
    "\n",
    "def load_and_cleanup():\n",
    "  df = load_csv()\n",
    "  price_cleanup(df)\n",
    "  area_cleanup(df)\n",
    "  floor_cleanup(df)\n",
    "  date_cleanup(df)\n",
    "  lease_cleanup(df)\n",
    "  lat_long(df)\n",
    "  return df\n",
    "\n",
    "df = load_and_cleanup()\n",
    "df.describe()\n",
    "df.head()\n"
   ]
  },
  {
   "cell_type": "code",
   "execution_count": 4,
   "metadata": {},
   "outputs": [],
   "source": [
    "import matplotlib.pyplot as plt\n",
    "import numpy as np\n",
    "\n",
    "def min_coords(lat,long):\n",
    "  return (np.abs((lats-lat)).argmin(), np.abs(longs-long).argmin())\n",
    "\n",
    "mrts = {\n",
    "  'Marsiling': {'coords': (1.43278,103.77397), 'marker': '<'},\n",
    "  'Woodlands': {'coords': (1.43718,103.78646), 'marker': 's'},\n",
    "  'Admiralty': {'coords': (1.44063, 103.80098), 'marker': '>'},\n",
    "  'Woodlands South': {'coords': (1.42735,103.79314), 'marker': 'v'},\n",
    "  'Woodlands North': {'coords': (1.44827,103.78536), 'marker': '^'},\n",
    "}"
   ]
  },
  {
   "cell_type": "code",
   "execution_count": 181,
   "metadata": {},
   "outputs": [
    {
     "data": {
      "text/html": [
       "<table border=\"1\" class=\"dataframe\">\n",
       "  <thead>\n",
       "    <tr style=\"text-align: right;\">\n",
       "      <th></th>\n",
       "      <th>floor</th>\n",
       "      <th>area</th>\n",
       "      <th>lease</th>\n",
       "      <th>date</th>\n",
       "      <th>lat</th>\n",
       "      <th>long</th>\n",
       "      <th>price</th>\n",
       "    </tr>\n",
       "  </thead>\n",
       "  <tbody>\n",
       "    <tr>\n",
       "      <th>0</th>\n",
       "      <td>5.0</td>\n",
       "      <td>68.0</td>\n",
       "      <td>61.333332</td>\n",
       "      <td>738490.0</td>\n",
       "      <td>1.43612</td>\n",
       "      <td>103.773239</td>\n",
       "      <td>358000.0</td>\n",
       "    </tr>\n",
       "    <tr>\n",
       "      <th>1</th>\n",
       "      <td>8.0</td>\n",
       "      <td>73.0</td>\n",
       "      <td>53.333332</td>\n",
       "      <td>738521.0</td>\n",
       "      <td>1.44258</td>\n",
       "      <td>103.772400</td>\n",
       "      <td>349000.0</td>\n",
       "    </tr>\n",
       "    <tr>\n",
       "      <th>2</th>\n",
       "      <td>5.0</td>\n",
       "      <td>65.0</td>\n",
       "      <td>51.166668</td>\n",
       "      <td>738307.0</td>\n",
       "      <td>1.44067</td>\n",
       "      <td>103.775711</td>\n",
       "      <td>315000.0</td>\n",
       "    </tr>\n",
       "    <tr>\n",
       "      <th>3</th>\n",
       "      <td>2.0</td>\n",
       "      <td>67.0</td>\n",
       "      <td>92.000000</td>\n",
       "      <td>738337.0</td>\n",
       "      <td>1.43913</td>\n",
       "      <td>103.778351</td>\n",
       "      <td>379000.0</td>\n",
       "    </tr>\n",
       "    <tr>\n",
       "      <th>4</th>\n",
       "      <td>8.0</td>\n",
       "      <td>68.0</td>\n",
       "      <td>95.166664</td>\n",
       "      <td>738307.0</td>\n",
       "      <td>1.44636</td>\n",
       "      <td>103.805267</td>\n",
       "      <td>400000.0</td>\n",
       "    </tr>\n",
       "    <tr>\n",
       "      <th>5</th>\n",
       "      <td>5.0</td>\n",
       "      <td>71.0</td>\n",
       "      <td>63.916668</td>\n",
       "      <td>738307.0</td>\n",
       "      <td>1.44328</td>\n",
       "      <td>103.777298</td>\n",
       "      <td>320000.0</td>\n",
       "    </tr>\n",
       "    <tr>\n",
       "      <th>6</th>\n",
       "      <td>5.0</td>\n",
       "      <td>67.0</td>\n",
       "      <td>61.583332</td>\n",
       "      <td>738429.0</td>\n",
       "      <td>1.43612</td>\n",
       "      <td>103.782059</td>\n",
       "      <td>348000.0</td>\n",
       "    </tr>\n",
       "    <tr>\n",
       "      <th>7</th>\n",
       "      <td>5.0</td>\n",
       "      <td>67.0</td>\n",
       "      <td>90.000000</td>\n",
       "      <td>738490.0</td>\n",
       "      <td>1.43091</td>\n",
       "      <td>103.790771</td>\n",
       "      <td>400000.0</td>\n",
       "    </tr>\n",
       "    <tr>\n",
       "      <th>8</th>\n",
       "      <td>14.0</td>\n",
       "      <td>68.0</td>\n",
       "      <td>94.416664</td>\n",
       "      <td>738552.0</td>\n",
       "      <td>1.42970</td>\n",
       "      <td>103.796852</td>\n",
       "      <td>464000.0</td>\n",
       "    </tr>\n",
       "    <tr>\n",
       "      <th>9</th>\n",
       "      <td>14.0</td>\n",
       "      <td>68.0</td>\n",
       "      <td>94.750000</td>\n",
       "      <td>738490.0</td>\n",
       "      <td>1.44565</td>\n",
       "      <td>103.804993</td>\n",
       "      <td>445000.0</td>\n",
       "    </tr>\n",
       "  </tbody>\n",
       "</table>"
      ],
      "text/plain": [
       "<IPython.core.display.HTML object>"
      ]
     },
     "metadata": {},
     "output_type": "display_data"
    }
   ],
   "source": [
    "dls = fastai.TabularDataLoaders.from_df(df,procs=[fastai.Normalize],cont_names=[\"floor\", \"area\", \"lease\", \"date\", \"lat\",\"long\"],y_names=[\"price\"],valid_idx=range(60))\n",
    "dls.show_batch()"
   ]
  },
  {
   "cell_type": "code",
   "execution_count": 182,
   "metadata": {},
   "outputs": [
    {
     "data": {
      "text/html": [],
      "text/plain": [
       "<IPython.core.display.HTML object>"
      ]
     },
     "metadata": {},
     "output_type": "display_data"
    },
    {
     "data": {
      "text/plain": [
       "SuggestedLRs(valley=0.0008317637839354575, slide=6.309573450380412e-07)"
      ]
     },
     "execution_count": 182,
     "metadata": {},
     "output_type": "execute_result"
    },
    {
     "data": {
      "image/png": "[encoded data removed]",
      "text/plain": [
       "<Figure size 640x480 with 1 Axes>"
      ]
     },
     "metadata": {},
     "output_type": "display_data"
    }
   ],
   "source": [
    "def MSE(yhat,y):\n",
    "  return torch.mean(torch.square(yhat-y))\n",
    "def RMSE(yhat,y):\n",
    "  return torch.sqrt(MSE(yhat,y))\n",
    "learn = fastai.tabular_learner(dls,y_range=(df.price.min()*0.9, df.price.max()*1.1),loss_func=MSE,metrics=RMSE)\n",
    "learn.lr_find(suggest_funcs=(fastai.valley,fastai.slide))\n"
   ]
  },
  {
   "cell_type": "code",
   "execution_count": 216,
   "metadata": {},
   "outputs": [
    {
     "data": {
      "text/html": [],
      "text/plain": [
       "<IPython.core.display.HTML object>"
      ]
     },
     "metadata": {},
     "output_type": "display_data"
    },
    {
     "name": "stdout",
     "output_type": "stream",
     "text": [
      "Better model found at epoch 0 with valid_loss value: 16341.46875.\n"
     ]
    },
    {
     "data": {
      "text/plain": [
       "(#2) [267043600.0,16341.46875]"
      ]
     },
     "execution_count": 216,
     "metadata": {},
     "output_type": "execute_result"
    }
   ],
   "source": [
    "learn = fastai.tabular_learner(\n",
    "  dls,y_range=(df.price.min()*0.9, df.price.max()*1.1),\n",
    "  loss_func=MSE,metrics=RMSE,\n",
    "  cbs=[fastai.SaveModelCallback(),fastai.EarlyStoppingCallback(patience=5)]\n",
    ")\n",
    "learn.fit_one_cycle(100,1e-2)\n",
    "learn.validate()\n"
   ]
  },
  {
   "cell_type": "code",
   "execution_count": 231,
   "metadata": {},
   "outputs": [
    {
     "data": {
      "text/html": [],
      "text/plain": [
       "<IPython.core.display.HTML object>"
      ]
     },
     "metadata": {},
     "output_type": "display_data"
    }
   ],
   "source": [
    "# predict prices on map\n",
    "row = df.drop(['price','year'], axis=1).iloc[0].copy()\n",
    "cats = ['floor', 'area', 'lease', 'date']\n",
    "for cat in cats:\n",
    "  row[cat] = df[cat].median()\n",
    "latMin, latMax = df.lat.min(),df.lat.max()\n",
    "latLeft = latMin - (latMax-latMin)/10\n",
    "latRight = latMax + (latMax-latMin)/10\n",
    "longMin, longMax = df.long.min(),df.long.max()\n",
    "longLeft = longMin - (longMax-longMin)/10\n",
    "longRight = longMax + (longMax-longMin)/10\n",
    "n1 = 5*3\n",
    "n2 = 3*3\n",
    "longs = np.linspace(longLeft, longRight, n1)\n",
    "lats = np.linspace(latLeft, latRight, n2)\n",
    "prices = np.ndarray((n2,n1))\n",
    "for i,lat in enumerate(lats):\n",
    "  row['lat'] = lat\n",
    "  for j,long in enumerate(longs):\n",
    "    row['long'] = long\n",
    "    _, yPred, _ = learn.predict(row)\n",
    "    prices[i][j] = yPred.item()"
   ]
  },
  {
   "cell_type": "code",
   "execution_count": 239,
   "metadata": {},
   "outputs": [
    {
     "data": {
      "text/html": [],
      "text/plain": [
       "<IPython.core.display.HTML object>"
      ]
     },
     "metadata": {},
     "output_type": "display_data"
    }
   ],
   "source": [
    "import itertools\n",
    "all_list = [\n",
    "  [df.floor.quantile(0.25), df.floor.quantile(0.55), df.floor.quantile(0.75),],\n",
    "  [df.area.quantile(0.25), df.area.quantile(0.55), df.area.quantile(0.75),],\n",
    "  [df.lease.quantile(0.25), df.lease.quantile(0.55), df.lease.quantile(0.75),],\n",
    "  [df.date.quantile(0.25), df.date.quantile(0.55), df.date.quantile(0.75),],\n",
    "            ]\n",
    "perm_list = list(itertools.product(*all_list))\n",
    "# predict prices on map\n",
    "row = df.drop(['price','year'], axis=1).iloc[0].copy()\n",
    "cats = ['floor', 'area', 'lease', 'date']\n",
    "for cat in cats:\n",
    "  row[cat] = df[cat].median()\n",
    "latMin, latMax = df.lat.min(),df.lat.max()\n",
    "latLeft = latMin - (latMax-latMin)/10\n",
    "latRight = latMax + (latMax-latMin)/10\n",
    "longMin, longMax = df.long.min(),df.long.max()\n",
    "longLeft = longMin - (longMax-longMin)/10\n",
    "longRight = longMax + (longMax-longMin)/10\n",
    "n1 = 5*5\n",
    "n2 = 3*5\n",
    "longs = np.linspace(longLeft, longRight, n1)\n",
    "lats = np.linspace(latLeft, latRight, n2)\n",
    "prices = np.ndarray((n2,n1))\n",
    "for i,lat in enumerate(lats):\n",
    "  row['lat'] = lat\n",
    "  for j,long in enumerate(longs):\n",
    "    row['long'] = long\n",
    "    preds = []\n",
    "    for k in perm_list:\n",
    "      row['floor'] = k[0]\n",
    "      row['area'] = k[1]\n",
    "      row['lease'] = k[2]\n",
    "      row['date'] = k[3]\n",
    "      _, yPred, _ = learn.predict(row)\n",
    "      preds.append(yPred.item())\n",
    "    prices[i][j] = np.mean(preds)"
   ]
  },
  {
   "cell_type": "code",
   "execution_count": 240,
   "metadata": {},
   "outputs": [
    {
     "data": {
      "image/png": "[encoded data removed]",
      "text/plain": [
       "<Figure size 810x480 with 2 Axes>"
      ]
     },
     "metadata": {},
     "output_type": "display_data"
    }
   ],
   "source": [
    "mrt_map = np.zeros((n2,n1))\n",
    "for mrt,x in mrts.items():\n",
    "  (i,j) = min_coords(*x['coords'])\n",
    "  mrt_map[i][j] = 1\n",
    "\n",
    "fig,ax=plt.subplots()\n",
    "#mrt\n",
    "shw2 = ax.imshow(mrt_map, extent=[longLeft, longRight, latLeft, latRight], origin='lower',cmap='Greys',alpha=1.0)\n",
    "#color map\n",
    "shw = ax.imshow(prices, extent=[longLeft, longRight, latLeft, latRight], origin='lower',alpha=0.7)\n",
    "bar = plt.colorbar(shw)\n",
    "fig.set_figwidth(8.1)\n",
    "\n",
    "plt.show()"
   ]
  },
  {
   "cell_type": "code",
   "execution_count": null,
   "metadata": {},
   "outputs": [
    {
     "data": {
      "image/png": "[encoded data removed]",
      "text/plain": [
       "<Figure size 810x480 with 2 Axes>"
      ]
     },
     "metadata": {},
     "output_type": "display_data"
    }
   ],
   "source": [
    "mrt_map = np.zeros((n2,n1))\n",
    "for mrt,x in mrts.items():\n",
    "  (i,j) = min_coords(*x['coords'])\n",
    "  mrt_map[i][j] = 1\n",
    "\n",
    "fig,ax=plt.subplots()\n",
    "#mrt\n",
    "shw2 = ax.imshow(mrt_map, extent=[longLeft, longRight, latLeft, latRight], origin='lower',cmap='Greys',alpha=1.0)\n",
    "#color map\n",
    "shw = ax.imshow(prices, extent=[longLeft, longRight, latLeft, latRight], origin='lower',alpha=0.7)\n",
    "bar = plt.colorbar(shw)\n",
    "fig.set_figwidth(8.1)\n",
    "\n",
    "plt.show()"
   ]
  },
  {
   "cell_type": "code",
   "execution_count": 74,
   "metadata": {},
   "outputs": [
    {
     "data": {
      "image/png": "[encoded data removed]",
      "text/plain": [
       "<Figure size 640x480 with 1 Axes>"
      ]
     },
     "metadata": {},
     "output_type": "display_data"
    }
   ],
   "source": [
    "fig,ax2=plt.subplots()\n",
    "\n",
    "ax2.scatter(df.long,df.lat,c='grey')\n",
    "for mrt,x in mrts.items():\n",
    "  ax2.scatter([x['coords'][1]], [x['coords'][0]],marker=x['marker'],c='black',label=mrt)\n",
    "ax2.legend(loc='upper right')\n",
    "\n",
    "plt.show()\n"
   ]
  },
  {
   "cell_type": "code",
   "execution_count": 8,
   "metadata": {},
   "outputs": [
    {
     "name": "stdout",
     "output_type": "stream",
     "text": [
      "6675.227262087143 vs 17644.10360068539.\n"
     ]
    }
   ],
   "source": [
    "from sklearn.ensemble import RandomForestRegressor as rf\n",
    "from sklearn.metrics import mean_squared_error\n",
    "m4 = rf().fit(trn_xs,trn_y)\n",
    "\n",
    "mse = mean_squared_error(val_y, m4.predict(val_xs),squared=False)\n",
    "trn_mse = mean_squared_error(trn_y, m4.predict(trn_xs), squared=False)\n",
    "print(f\"{trn_mse} vs {mse}.\")"
   ]
  },
  {
   "cell_type": "code",
   "execution_count": 14,
   "metadata": {},
   "outputs": [
    {
     "data": {
      "image/png": "[encoded data removed]",
      "text/plain": [
       "<Figure size 640x480 with 1 Axes>"
      ]
     },
     "metadata": {},
     "output_type": "display_data"
    }
   ],
   "source": [
    "expensive = df.nlargest(10,'price')\n",
    "cheapest = df.nsmallest(10,'price')\n",
    "\n",
    "largestCoords = []\n",
    "smallestCoords = []\n",
    "for i,row in expensive.iterrows():\n",
    "  largestCoords.append((df.iloc[i].lat, df.iloc[i].long))\n",
    "for i,row in cheapest.iterrows():\n",
    "  smallestCoords.append((df.iloc[i].lat, df.iloc[i].long))\n",
    "fig,ax2=plt.subplots()\n",
    "\n",
    "ax2.scatter(df.long,df.lat,c='grey')\n",
    "for mrt,x in mrts.items():\n",
    "  ax2.scatter([x['coords'][1]], [x['coords'][0]],marker=x['marker'],c='blue',label=mrt)\n",
    "ax2.scatter([y for _,y in largestCoords], [x for x,_ in largestCoords],marker='o',c='red',label='expensive')\n",
    "ax2.scatter([y for _,y in smallestCoords], [x for x,_ in smallestCoords],marker='o',c='yellow',label='cheapest')\n",
    "ax2.legend(loc='upper center')\n",
    "\n",
    "plt.show()\n",
    "\n"
   ]
  },
  {
   "cell_type": "code",
   "execution_count": 78,
   "metadata": {},
   "outputs": [
    {
     "data": {
      "text/html": [
       "<div>\n",
       "<style scoped>\n",
       "    .dataframe tbody tr th:only-of-type {\n",
       "        vertical-align: middle;\n",
       "    }\n",
       "\n",
       "    .dataframe tbody tr th {\n",
       "        vertical-align: top;\n",
       "    }\n",
       "\n",
       "    .dataframe thead th {\n",
       "        text-align: right;\n",
       "    }\n",
       "</style>\n",
       "<table border=\"1\" class=\"dataframe\">\n",
       "  <thead>\n",
       "    <tr style=\"text-align: right;\">\n",
       "      <th></th>\n",
       "      <th>floor</th>\n",
       "      <th>area</th>\n",
       "      <th>year</th>\n",
       "      <th>lease</th>\n",
       "      <th>price</th>\n",
       "      <th>date</th>\n",
       "      <th>lat</th>\n",
       "      <th>long</th>\n",
       "    </tr>\n",
       "  </thead>\n",
       "  <tbody>\n",
       "    <tr>\n",
       "      <th>count</th>\n",
       "      <td>10.00000</td>\n",
       "      <td>10.000000</td>\n",
       "      <td>10.000000</td>\n",
       "      <td>10.000000</td>\n",
       "      <td>10.000000</td>\n",
       "      <td>10.000000</td>\n",
       "      <td>10.000000</td>\n",
       "      <td>10.000000</td>\n",
       "    </tr>\n",
       "    <tr>\n",
       "      <th>mean</th>\n",
       "      <td>4.40000</td>\n",
       "      <td>65.800000</td>\n",
       "      <td>1977.400000</td>\n",
       "      <td>54.166667</td>\n",
       "      <td>274888.800000</td>\n",
       "      <td>738331.200000</td>\n",
       "      <td>1.441686</td>\n",
       "      <td>103.776144</td>\n",
       "    </tr>\n",
       "    <tr>\n",
       "      <th>std</th>\n",
       "      <td>2.75681</td>\n",
       "      <td>3.457681</td>\n",
       "      <td>3.657564</td>\n",
       "      <td>3.615382</td>\n",
       "      <td>11665.299394</td>\n",
       "      <td>73.290594</td>\n",
       "      <td>0.002054</td>\n",
       "      <td>0.002403</td>\n",
       "    </tr>\n",
       "    <tr>\n",
       "      <th>min</th>\n",
       "      <td>2.00000</td>\n",
       "      <td>60.000000</td>\n",
       "      <td>1974.000000</td>\n",
       "      <td>51.000000</td>\n",
       "      <td>248888.000000</td>\n",
       "      <td>738276.000000</td>\n",
       "      <td>1.437830</td>\n",
       "      <td>103.772100</td>\n",
       "    </tr>\n",
       "    <tr>\n",
       "      <th>25%</th>\n",
       "      <td>2.00000</td>\n",
       "      <td>65.000000</td>\n",
       "      <td>1976.000000</td>\n",
       "      <td>52.208333</td>\n",
       "      <td>268000.000000</td>\n",
       "      <td>738276.000000</td>\n",
       "      <td>1.440887</td>\n",
       "      <td>103.774698</td>\n",
       "    </tr>\n",
       "    <tr>\n",
       "      <th>50%</th>\n",
       "      <td>5.00000</td>\n",
       "      <td>65.000000</td>\n",
       "      <td>1976.000000</td>\n",
       "      <td>52.708333</td>\n",
       "      <td>280000.000000</td>\n",
       "      <td>738291.500000</td>\n",
       "      <td>1.441945</td>\n",
       "      <td>103.776020</td>\n",
       "    </tr>\n",
       "    <tr>\n",
       "      <th>75%</th>\n",
       "      <td>5.00000</td>\n",
       "      <td>66.500000</td>\n",
       "      <td>1977.000000</td>\n",
       "      <td>54.104167</td>\n",
       "      <td>282250.000000</td>\n",
       "      <td>738368.000000</td>\n",
       "      <td>1.441980</td>\n",
       "      <td>103.778470</td>\n",
       "    </tr>\n",
       "    <tr>\n",
       "      <th>max</th>\n",
       "      <td>11.00000</td>\n",
       "      <td>74.000000</td>\n",
       "      <td>1985.000000</td>\n",
       "      <td>61.666667</td>\n",
       "      <td>285000.000000</td>\n",
       "      <td>738490.000000</td>\n",
       "      <td>1.446220</td>\n",
       "      <td>103.778710</td>\n",
       "    </tr>\n",
       "  </tbody>\n",
       "</table>\n",
       "</div>"
      ],
      "text/plain": [
       "          floor       area         year      lease          price   \n",
       "count  10.00000  10.000000    10.000000  10.000000      10.000000  \\\n",
       "mean    4.40000  65.800000  1977.400000  54.166667  274888.800000   \n",
       "std     2.75681   3.457681     3.657564   3.615382   11665.299394   \n",
       "min     2.00000  60.000000  1974.000000  51.000000  248888.000000   \n",
       "25%     2.00000  65.000000  1976.000000  52.208333  268000.000000   \n",
       "50%     5.00000  65.000000  1976.000000  52.708333  280000.000000   \n",
       "75%     5.00000  66.500000  1977.000000  54.104167  282250.000000   \n",
       "max    11.00000  74.000000  1985.000000  61.666667  285000.000000   \n",
       "\n",
       "                date        lat        long  \n",
       "count      10.000000  10.000000   10.000000  \n",
       "mean   738331.200000   1.441686  103.776144  \n",
       "std        73.290594   0.002054    0.002403  \n",
       "min    738276.000000   1.437830  103.772100  \n",
       "25%    738276.000000   1.440887  103.774698  \n",
       "50%    738291.500000   1.441945  103.776020  \n",
       "75%    738368.000000   1.441980  103.778470  \n",
       "max    738490.000000   1.446220  103.778710  "
      ]
     },
     "execution_count": 78,
     "metadata": {},
     "output_type": "execute_result"
    }
   ],
   "source": [
    "cheapest.describe()"
   ]
  },
  {
   "cell_type": "code",
   "execution_count": 79,
   "metadata": {},
   "outputs": [
    {
     "data": {
      "text/html": [
       "<div>\n",
       "<style scoped>\n",
       "    .dataframe tbody tr th:only-of-type {\n",
       "        vertical-align: middle;\n",
       "    }\n",
       "\n",
       "    .dataframe tbody tr th {\n",
       "        vertical-align: top;\n",
       "    }\n",
       "\n",
       "    .dataframe thead th {\n",
       "        text-align: right;\n",
       "    }\n",
       "</style>\n",
       "<table border=\"1\" class=\"dataframe\">\n",
       "  <thead>\n",
       "    <tr style=\"text-align: right;\">\n",
       "      <th></th>\n",
       "      <th>floor</th>\n",
       "      <th>area</th>\n",
       "      <th>year</th>\n",
       "      <th>lease</th>\n",
       "      <th>price</th>\n",
       "      <th>date</th>\n",
       "      <th>lat</th>\n",
       "      <th>long</th>\n",
       "    </tr>\n",
       "  </thead>\n",
       "  <tbody>\n",
       "    <tr>\n",
       "      <th>count</th>\n",
       "      <td>10.000000</td>\n",
       "      <td>10.000000</td>\n",
       "      <td>10.000000</td>\n",
       "      <td>10.000000</td>\n",
       "      <td>10.000000</td>\n",
       "      <td>10.00000</td>\n",
       "      <td>10.000000</td>\n",
       "      <td>10.000000</td>\n",
       "    </tr>\n",
       "    <tr>\n",
       "      <th>mean</th>\n",
       "      <td>15.500000</td>\n",
       "      <td>68.000000</td>\n",
       "      <td>2017.200000</td>\n",
       "      <td>93.891667</td>\n",
       "      <td>471368.800000</td>\n",
       "      <td>738502.00000</td>\n",
       "      <td>1.434821</td>\n",
       "      <td>103.794591</td>\n",
       "    </tr>\n",
       "    <tr>\n",
       "      <th>std</th>\n",
       "      <td>7.382412</td>\n",
       "      <td>1.154701</td>\n",
       "      <td>1.135292</td>\n",
       "      <td>1.262010</td>\n",
       "      <td>12988.684005</td>\n",
       "      <td>95.19337</td>\n",
       "      <td>0.004671</td>\n",
       "      <td>0.010785</td>\n",
       "    </tr>\n",
       "    <tr>\n",
       "      <th>min</th>\n",
       "      <td>11.000000</td>\n",
       "      <td>67.000000</td>\n",
       "      <td>2015.000000</td>\n",
       "      <td>90.833333</td>\n",
       "      <td>458000.000000</td>\n",
       "      <td>738307.00000</td>\n",
       "      <td>1.429700</td>\n",
       "      <td>103.775270</td>\n",
       "    </tr>\n",
       "    <tr>\n",
       "      <th>25%</th>\n",
       "      <td>11.000000</td>\n",
       "      <td>67.250000</td>\n",
       "      <td>2016.250000</td>\n",
       "      <td>93.500000</td>\n",
       "      <td>461766.000000</td>\n",
       "      <td>738490.00000</td>\n",
       "      <td>1.430238</td>\n",
       "      <td>103.794758</td>\n",
       "    </tr>\n",
       "    <tr>\n",
       "      <th>50%</th>\n",
       "      <td>12.500000</td>\n",
       "      <td>68.000000</td>\n",
       "      <td>2018.000000</td>\n",
       "      <td>94.458333</td>\n",
       "      <td>467000.000000</td>\n",
       "      <td>738490.00000</td>\n",
       "      <td>1.434475</td>\n",
       "      <td>103.796850</td>\n",
       "    </tr>\n",
       "    <tr>\n",
       "      <th>75%</th>\n",
       "      <td>14.000000</td>\n",
       "      <td>68.000000</td>\n",
       "      <td>2018.000000</td>\n",
       "      <td>94.770833</td>\n",
       "      <td>483500.000000</td>\n",
       "      <td>738573.00000</td>\n",
       "      <td>1.439030</td>\n",
       "      <td>103.802480</td>\n",
       "    </tr>\n",
       "    <tr>\n",
       "      <th>max</th>\n",
       "      <td>32.000000</td>\n",
       "      <td>71.000000</td>\n",
       "      <td>2018.000000</td>\n",
       "      <td>94.833333</td>\n",
       "      <td>490000.000000</td>\n",
       "      <td>738611.00000</td>\n",
       "      <td>1.441350</td>\n",
       "      <td>103.804190</td>\n",
       "    </tr>\n",
       "  </tbody>\n",
       "</table>\n",
       "</div>"
      ],
      "text/plain": [
       "           floor       area         year      lease          price   \n",
       "count  10.000000  10.000000    10.000000  10.000000      10.000000  \\\n",
       "mean   15.500000  68.000000  2017.200000  93.891667  471368.800000   \n",
       "std     7.382412   1.154701     1.135292   1.262010   12988.684005   \n",
       "min    11.000000  67.000000  2015.000000  90.833333  458000.000000   \n",
       "25%    11.000000  67.250000  2016.250000  93.500000  461766.000000   \n",
       "50%    12.500000  68.000000  2018.000000  94.458333  467000.000000   \n",
       "75%    14.000000  68.000000  2018.000000  94.770833  483500.000000   \n",
       "max    32.000000  71.000000  2018.000000  94.833333  490000.000000   \n",
       "\n",
       "               date        lat        long  \n",
       "count      10.00000  10.000000   10.000000  \n",
       "mean   738502.00000   1.434821  103.794591  \n",
       "std        95.19337   0.004671    0.010785  \n",
       "min    738307.00000   1.429700  103.775270  \n",
       "25%    738490.00000   1.430238  103.794758  \n",
       "50%    738490.00000   1.434475  103.796850  \n",
       "75%    738573.00000   1.439030  103.802480  \n",
       "max    738611.00000   1.441350  103.804190  "
      ]
     },
     "execution_count": 79,
     "metadata": {},
     "output_type": "execute_result"
    }
   ],
   "source": [
    "expensive.describe()\n"
   ]
  },
  {
   "cell_type": "code",
   "execution_count": 194,
   "metadata": {},
   "outputs": [
    {
     "data": {
      "text/plain": [
       "17510.53809781898"
      ]
     },
     "execution_count": 194,
     "metadata": {},
     "output_type": "execute_result"
    }
   ],
   "source": [
    "from sklearn.linear_model import LinearRegression\n",
    "\n",
    "def rmse(y1,y2):\n",
    "  return np.sqrt(np.mean(np.square(y1-y2)))\n",
    "xs_lin = df.drop(['price','year','lat','long'], axis=1)\n",
    "y = df.price\n",
    "m = LinearRegression().fit(xs_lin,y)\n",
    "m.score(xs_lin,y)\n",
    "rmse(y,m.predict(xs_lin))"
   ]
  },
  {
   "cell_type": "code",
   "execution_count": 204,
   "metadata": {},
   "outputs": [
    {
     "name": "stdout",
     "output_type": "stream",
     "text": [
      "[318553.90553789] vs 300500.0\n"
     ]
    },
    {
     "name": "stderr",
     "output_type": "stream",
     "text": [
      "/home/kelvinsoh/mambaforge/lib/python3.10/site-packages/sklearn/base.py:439: UserWarning: X does not have valid feature names, but LinearRegression was fitted with feature names\n",
      "  warnings.warn(\n"
     ]
    }
   ],
   "source": [
    "[floor_coef, area_coef, lease_coef, date_coef] = m.coef_\n",
    "pred = m.predict(xs_lin.iloc[0].values.reshape(1,-1))\n",
    "print(f'{pred} vs {df.iloc[0].price}')"
   ]
  },
  {
   "cell_type": "code",
   "execution_count": 161,
   "metadata": {},
   "outputs": [
    {
     "data": {
      "text/html": [
       "<div>\n",
       "<style scoped>\n",
       "    .dataframe tbody tr th:only-of-type {\n",
       "        vertical-align: middle;\n",
       "    }\n",
       "\n",
       "    .dataframe tbody tr th {\n",
       "        vertical-align: top;\n",
       "    }\n",
       "\n",
       "    .dataframe thead th {\n",
       "        text-align: right;\n",
       "    }\n",
       "</style>\n",
       "<table border=\"1\" class=\"dataframe\">\n",
       "  <thead>\n",
       "    <tr style=\"text-align: right;\">\n",
       "      <th></th>\n",
       "      <th>floor</th>\n",
       "      <th>area</th>\n",
       "      <th>year</th>\n",
       "      <th>lease</th>\n",
       "      <th>price</th>\n",
       "      <th>date</th>\n",
       "      <th>lat</th>\n",
       "      <th>long</th>\n",
       "    </tr>\n",
       "  </thead>\n",
       "  <tbody>\n",
       "    <tr>\n",
       "      <th>0</th>\n",
       "      <td>2.0</td>\n",
       "      <td>67.0</td>\n",
       "      <td>1977</td>\n",
       "      <td>53.166667</td>\n",
       "      <td>340528.402538</td>\n",
       "      <td>738641.0</td>\n",
       "      <td>1.44154</td>\n",
       "      <td>103.77210</td>\n",
       "    </tr>\n",
       "    <tr>\n",
       "      <th>1</th>\n",
       "      <td>11.0</td>\n",
       "      <td>65.0</td>\n",
       "      <td>1976</td>\n",
       "      <td>51.750000</td>\n",
       "      <td>349158.055838</td>\n",
       "      <td>738641.0</td>\n",
       "      <td>1.44198</td>\n",
       "      <td>103.77847</td>\n",
       "    </tr>\n",
       "    <tr>\n",
       "      <th>2</th>\n",
       "      <td>23.0</td>\n",
       "      <td>67.0</td>\n",
       "      <td>2015</td>\n",
       "      <td>91.250000</td>\n",
       "      <td>333254.121255</td>\n",
       "      <td>738641.0</td>\n",
       "      <td>1.43913</td>\n",
       "      <td>103.77814</td>\n",
       "    </tr>\n",
       "    <tr>\n",
       "      <th>3</th>\n",
       "      <td>8.0</td>\n",
       "      <td>68.0</td>\n",
       "      <td>2018</td>\n",
       "      <td>94.416667</td>\n",
       "      <td>362461.527715</td>\n",
       "      <td>738641.0</td>\n",
       "      <td>1.43834</td>\n",
       "      <td>103.80388</td>\n",
       "    </tr>\n",
       "    <tr>\n",
       "      <th>4</th>\n",
       "      <td>8.0</td>\n",
       "      <td>68.0</td>\n",
       "      <td>2018</td>\n",
       "      <td>94.416667</td>\n",
       "      <td>367461.527715</td>\n",
       "      <td>738641.0</td>\n",
       "      <td>1.43862</td>\n",
       "      <td>103.80561</td>\n",
       "    </tr>\n",
       "  </tbody>\n",
       "</table>\n",
       "</div>"
      ],
      "text/plain": [
       "   floor  area  year      lease          price      date      lat       long\n",
       "0    2.0  67.0  1977  53.166667  340528.402538  738641.0  1.44154  103.77210\n",
       "1   11.0  65.0  1976  51.750000  349158.055838  738641.0  1.44198  103.77847\n",
       "2   23.0  67.0  2015  91.250000  333254.121255  738641.0  1.43913  103.77814\n",
       "3    8.0  68.0  2018  94.416667  362461.527715  738641.0  1.43834  103.80388\n",
       "4    8.0  68.0  2018  94.416667  367461.527715  738641.0  1.43862  103.80561"
      ]
     },
     "execution_count": 161,
     "metadata": {},
     "output_type": "execute_result"
    }
   ],
   "source": [
    "lease_median = df.lease.median()\n",
    "floor_median = df.floor.median()\n",
    "area_median = df.area.median()\n",
    "date_median = df.date.median()\n",
    "df2 = df.copy()\n",
    "df2['price'] = df.price + (lease_median-df.lease)*lease_coef + (floor_median-df.floor)*floor_coef + (area_median-df.area)*area_coef + (date_median-df.date)*date_coef\n",
    "\n",
    "df2.head()\n"
   ]
  },
  {
   "cell_type": "code",
   "execution_count": 125,
   "metadata": {},
   "outputs": [
    {
     "data": {
      "text/html": [
       "<div>\n",
       "<style scoped>\n",
       "    .dataframe tbody tr th:only-of-type {\n",
       "        vertical-align: middle;\n",
       "    }\n",
       "\n",
       "    .dataframe tbody tr th {\n",
       "        vertical-align: top;\n",
       "    }\n",
       "\n",
       "    .dataframe thead th {\n",
       "        text-align: right;\n",
       "    }\n",
       "</style>\n",
       "<table border=\"1\" class=\"dataframe\">\n",
       "  <thead>\n",
       "    <tr style=\"text-align: right;\">\n",
       "      <th></th>\n",
       "      <th>floor</th>\n",
       "      <th>area</th>\n",
       "      <th>year</th>\n",
       "      <th>lease</th>\n",
       "      <th>price</th>\n",
       "      <th>date</th>\n",
       "      <th>lat</th>\n",
       "      <th>long</th>\n",
       "    </tr>\n",
       "  </thead>\n",
       "  <tbody>\n",
       "    <tr>\n",
       "      <th>0</th>\n",
       "      <td>2.0</td>\n",
       "      <td>67.0</td>\n",
       "      <td>1977</td>\n",
       "      <td>53.166667</td>\n",
       "      <td>300500.0</td>\n",
       "      <td>738641.0</td>\n",
       "      <td>1.44154</td>\n",
       "      <td>103.77210</td>\n",
       "    </tr>\n",
       "    <tr>\n",
       "      <th>1</th>\n",
       "      <td>11.0</td>\n",
       "      <td>65.0</td>\n",
       "      <td>1976</td>\n",
       "      <td>51.750000</td>\n",
       "      <td>315000.0</td>\n",
       "      <td>738641.0</td>\n",
       "      <td>1.44198</td>\n",
       "      <td>103.77847</td>\n",
       "    </tr>\n",
       "    <tr>\n",
       "      <th>2</th>\n",
       "      <td>23.0</td>\n",
       "      <td>67.0</td>\n",
       "      <td>2015</td>\n",
       "      <td>91.250000</td>\n",
       "      <td>430000.0</td>\n",
       "      <td>738641.0</td>\n",
       "      <td>1.43913</td>\n",
       "      <td>103.77814</td>\n",
       "    </tr>\n",
       "    <tr>\n",
       "      <th>3</th>\n",
       "      <td>8.0</td>\n",
       "      <td>68.0</td>\n",
       "      <td>2018</td>\n",
       "      <td>94.416667</td>\n",
       "      <td>445000.0</td>\n",
       "      <td>738641.0</td>\n",
       "      <td>1.43834</td>\n",
       "      <td>103.80388</td>\n",
       "    </tr>\n",
       "    <tr>\n",
       "      <th>4</th>\n",
       "      <td>8.0</td>\n",
       "      <td>68.0</td>\n",
       "      <td>2018</td>\n",
       "      <td>94.416667</td>\n",
       "      <td>450000.0</td>\n",
       "      <td>738641.0</td>\n",
       "      <td>1.43862</td>\n",
       "      <td>103.80561</td>\n",
       "    </tr>\n",
       "  </tbody>\n",
       "</table>\n",
       "</div>"
      ],
      "text/plain": [
       "   floor  area  year      lease     price      date      lat       long\n",
       "0    2.0  67.0  1977  53.166667  300500.0  738641.0  1.44154  103.77210\n",
       "1   11.0  65.0  1976  51.750000  315000.0  738641.0  1.44198  103.77847\n",
       "2   23.0  67.0  2015  91.250000  430000.0  738641.0  1.43913  103.77814\n",
       "3    8.0  68.0  2018  94.416667  445000.0  738641.0  1.43834  103.80388\n",
       "4    8.0  68.0  2018  94.416667  450000.0  738641.0  1.43862  103.80561"
      ]
     },
     "execution_count": 125,
     "metadata": {},
     "output_type": "execute_result"
    }
   ],
   "source": [
    "df.head()"
   ]
  },
  {
   "cell_type": "code",
   "execution_count": 162,
   "metadata": {},
   "outputs": [
    {
     "data": {
      "text/html": [
       "<table border=\"1\" class=\"dataframe\">\n",
       "  <thead>\n",
       "    <tr style=\"text-align: right;\">\n",
       "      <th></th>\n",
       "      <th>lat</th>\n",
       "      <th>long</th>\n",
       "      <th>price</th>\n",
       "    </tr>\n",
       "  </thead>\n",
       "  <tbody>\n",
       "    <tr>\n",
       "      <th>0</th>\n",
       "      <td>1.43830</td>\n",
       "      <td>103.794891</td>\n",
       "      <td>371043.53125</td>\n",
       "    </tr>\n",
       "    <tr>\n",
       "      <th>1</th>\n",
       "      <td>1.43913</td>\n",
       "      <td>103.778351</td>\n",
       "      <td>329004.78125</td>\n",
       "    </tr>\n",
       "    <tr>\n",
       "      <th>2</th>\n",
       "      <td>1.43864</td>\n",
       "      <td>103.803772</td>\n",
       "      <td>380361.71875</td>\n",
       "    </tr>\n",
       "    <tr>\n",
       "      <th>3</th>\n",
       "      <td>1.43849</td>\n",
       "      <td>103.778618</td>\n",
       "      <td>354640.84375</td>\n",
       "    </tr>\n",
       "    <tr>\n",
       "      <th>4</th>\n",
       "      <td>1.44154</td>\n",
       "      <td>103.772102</td>\n",
       "      <td>343257.40625</td>\n",
       "    </tr>\n",
       "    <tr>\n",
       "      <th>5</th>\n",
       "      <td>1.43578</td>\n",
       "      <td>103.773033</td>\n",
       "      <td>366786.96875</td>\n",
       "    </tr>\n",
       "    <tr>\n",
       "      <th>6</th>\n",
       "      <td>1.43011</td>\n",
       "      <td>103.797096</td>\n",
       "      <td>380717.34375</td>\n",
       "    </tr>\n",
       "    <tr>\n",
       "      <th>7</th>\n",
       "      <td>1.44328</td>\n",
       "      <td>103.777298</td>\n",
       "      <td>358836.75000</td>\n",
       "    </tr>\n",
       "    <tr>\n",
       "      <th>8</th>\n",
       "      <td>1.44154</td>\n",
       "      <td>103.772102</td>\n",
       "      <td>345970.46875</td>\n",
       "    </tr>\n",
       "    <tr>\n",
       "      <th>9</th>\n",
       "      <td>1.43710</td>\n",
       "      <td>103.794060</td>\n",
       "      <td>350212.56250</td>\n",
       "    </tr>\n",
       "  </tbody>\n",
       "</table>"
      ],
      "text/plain": [
       "<IPython.core.display.HTML object>"
      ]
     },
     "metadata": {},
     "output_type": "display_data"
    }
   ],
   "source": [
    "dls = fastai.TabularDataLoaders.from_df(df2,procs=[fastai.Normalize],cont_names=[\"lat\",\"long\"],y_names=[\"price\"],valid_idx=range(60))\n",
    "dls.show_batch()"
   ]
  },
  {
   "cell_type": "code",
   "execution_count": 163,
   "metadata": {},
   "outputs": [
    {
     "data": {
      "text/html": [],
      "text/plain": [
       "<IPython.core.display.HTML object>"
      ]
     },
     "metadata": {},
     "output_type": "display_data"
    },
    {
     "data": {
      "text/plain": [
       "SuggestedLRs(valley=0.0004786300996784121, slide=6.309573450380412e-07)"
      ]
     },
     "execution_count": 163,
     "metadata": {},
     "output_type": "execute_result"
    },
    {
     "data": {
      "image/png": "[encoded data removed]",
      "text/plain": [
       "<Figure size 640x480 with 1 Axes>"
      ]
     },
     "metadata": {},
     "output_type": "display_data"
    }
   ],
   "source": [
    "learn = fastai.tabular_learner(dls,y_range=(df2.price.min()*0.9, df2.price.max()*1.1),loss_func=MSE,metrics=RMSE)\n",
    "learn.lr_find(suggest_funcs=(fastai.valley,fastai.slide))"
   ]
  },
  {
   "cell_type": "code",
   "execution_count": 164,
   "metadata": {},
   "outputs": [
    {
     "data": {
      "text/html": [
       "<table border=\"1\" class=\"dataframe\">\n",
       "  <thead>\n",
       "    <tr style=\"text-align: left;\">\n",
       "      <th>epoch</th>\n",
       "      <th>train_loss</th>\n",
       "      <th>valid_loss</th>\n",
       "      <th>RMSE</th>\n",
       "      <th>time</th>\n",
       "    </tr>\n",
       "  </thead>\n",
       "  <tbody>\n",
       "    <tr>\n",
       "      <td>0</td>\n",
       "      <td>4321917952.000000</td>\n",
       "      <td>1891045888.000000</td>\n",
       "      <td>43486.160156</td>\n",
       "      <td>00:00</td>\n",
       "    </tr>\n",
       "    <tr>\n",
       "      <td>1</td>\n",
       "      <td>3308475904.000000</td>\n",
       "      <td>344403328.000000</td>\n",
       "      <td>18558.107422</td>\n",
       "      <td>00:00</td>\n",
       "    </tr>\n",
       "    <tr>\n",
       "      <td>2</td>\n",
       "      <td>2454971392.000000</td>\n",
       "      <td>957193792.000000</td>\n",
       "      <td>30938.548828</td>\n",
       "      <td>00:00</td>\n",
       "    </tr>\n",
       "    <tr>\n",
       "      <td>3</td>\n",
       "      <td>2103816320.000000</td>\n",
       "      <td>444984736.000000</td>\n",
       "      <td>21094.662109</td>\n",
       "      <td>00:00</td>\n",
       "    </tr>\n",
       "    <tr>\n",
       "      <td>4</td>\n",
       "      <td>1721751168.000000</td>\n",
       "      <td>496566080.000000</td>\n",
       "      <td>22283.763672</td>\n",
       "      <td>00:00</td>\n",
       "    </tr>\n",
       "    <tr>\n",
       "      <td>5</td>\n",
       "      <td>1513089536.000000</td>\n",
       "      <td>445896512.000000</td>\n",
       "      <td>21116.261719</td>\n",
       "      <td>00:00</td>\n",
       "    </tr>\n",
       "    <tr>\n",
       "      <td>6</td>\n",
       "      <td>1325163648.000000</td>\n",
       "      <td>336771936.000000</td>\n",
       "      <td>18351.347656</td>\n",
       "      <td>00:00</td>\n",
       "    </tr>\n",
       "    <tr>\n",
       "      <td>7</td>\n",
       "      <td>1175310464.000000</td>\n",
       "      <td>549767552.000000</td>\n",
       "      <td>23447.123047</td>\n",
       "      <td>00:00</td>\n",
       "    </tr>\n",
       "    <tr>\n",
       "      <td>8</td>\n",
       "      <td>1072029504.000000</td>\n",
       "      <td>399908192.000000</td>\n",
       "      <td>19997.705078</td>\n",
       "      <td>00:00</td>\n",
       "    </tr>\n",
       "    <tr>\n",
       "      <td>9</td>\n",
       "      <td>964803200.000000</td>\n",
       "      <td>311927488.000000</td>\n",
       "      <td>17661.468750</td>\n",
       "      <td>00:00</td>\n",
       "    </tr>\n",
       "    <tr>\n",
       "      <td>10</td>\n",
       "      <td>888894080.000000</td>\n",
       "      <td>329938848.000000</td>\n",
       "      <td>18164.218750</td>\n",
       "      <td>00:00</td>\n",
       "    </tr>\n",
       "    <tr>\n",
       "      <td>11</td>\n",
       "      <td>817242432.000000</td>\n",
       "      <td>302998496.000000</td>\n",
       "      <td>17406.851562</td>\n",
       "      <td>00:00</td>\n",
       "    </tr>\n",
       "    <tr>\n",
       "      <td>12</td>\n",
       "      <td>759580032.000000</td>\n",
       "      <td>372245888.000000</td>\n",
       "      <td>19293.675781</td>\n",
       "      <td>00:00</td>\n",
       "    </tr>\n",
       "    <tr>\n",
       "      <td>13</td>\n",
       "      <td>713356416.000000</td>\n",
       "      <td>304607136.000000</td>\n",
       "      <td>17452.998047</td>\n",
       "      <td>00:00</td>\n",
       "    </tr>\n",
       "    <tr>\n",
       "      <td>14</td>\n",
       "      <td>667761472.000000</td>\n",
       "      <td>289590816.000000</td>\n",
       "      <td>17017.367188</td>\n",
       "      <td>00:00</td>\n",
       "    </tr>\n",
       "    <tr>\n",
       "      <td>15</td>\n",
       "      <td>633131712.000000</td>\n",
       "      <td>279336160.000000</td>\n",
       "      <td>16713.353516</td>\n",
       "      <td>00:00</td>\n",
       "    </tr>\n",
       "    <tr>\n",
       "      <td>16</td>\n",
       "      <td>599432768.000000</td>\n",
       "      <td>312145248.000000</td>\n",
       "      <td>17667.632812</td>\n",
       "      <td>00:00</td>\n",
       "    </tr>\n",
       "    <tr>\n",
       "      <td>17</td>\n",
       "      <td>571178688.000000</td>\n",
       "      <td>316821376.000000</td>\n",
       "      <td>17799.476562</td>\n",
       "      <td>00:00</td>\n",
       "    </tr>\n",
       "    <tr>\n",
       "      <td>18</td>\n",
       "      <td>543402688.000000</td>\n",
       "      <td>299361280.000000</td>\n",
       "      <td>17302.060547</td>\n",
       "      <td>00:00</td>\n",
       "    </tr>\n",
       "    <tr>\n",
       "      <td>19</td>\n",
       "      <td>518624096.000000</td>\n",
       "      <td>285656640.000000</td>\n",
       "      <td>16901.378906</td>\n",
       "      <td>00:00</td>\n",
       "    </tr>\n",
       "    <tr>\n",
       "      <td>20</td>\n",
       "      <td>497704928.000000</td>\n",
       "      <td>273958528.000000</td>\n",
       "      <td>16551.693359</td>\n",
       "      <td>00:00</td>\n",
       "    </tr>\n",
       "    <tr>\n",
       "      <td>21</td>\n",
       "      <td>474685856.000000</td>\n",
       "      <td>296923168.000000</td>\n",
       "      <td>17231.458984</td>\n",
       "      <td>00:00</td>\n",
       "    </tr>\n",
       "    <tr>\n",
       "      <td>22</td>\n",
       "      <td>457060352.000000</td>\n",
       "      <td>299775136.000000</td>\n",
       "      <td>17314.015625</td>\n",
       "      <td>00:00</td>\n",
       "    </tr>\n",
       "    <tr>\n",
       "      <td>23</td>\n",
       "      <td>440624704.000000</td>\n",
       "      <td>275360224.000000</td>\n",
       "      <td>16593.982422</td>\n",
       "      <td>00:00</td>\n",
       "    </tr>\n",
       "    <tr>\n",
       "      <td>24</td>\n",
       "      <td>426045216.000000</td>\n",
       "      <td>274891456.000000</td>\n",
       "      <td>16579.851562</td>\n",
       "      <td>00:00</td>\n",
       "    </tr>\n",
       "    <tr>\n",
       "      <td>25</td>\n",
       "      <td>412043456.000000</td>\n",
       "      <td>282686880.000000</td>\n",
       "      <td>16813.294922</td>\n",
       "      <td>00:00</td>\n",
       "    </tr>\n",
       "  </tbody>\n",
       "</table>"
      ],
      "text/plain": [
       "<IPython.core.display.HTML object>"
      ]
     },
     "metadata": {},
     "output_type": "display_data"
    }
   ],
   "source": [
    "learn = fastai.tabular_learner(\n",
    "  dls,y_range=(df2.price.min()*0.9, df2.price.max()*1.1),\n",
    "  loss_func=MSE,metrics=RMSE,\n",
    "  cbs=[fastai.SaveModelCallback(),fastai.EarlyStoppingCallback(patience=5)]\n",
    ")\n",
    "learn.fit(100,lr=1e-2)"
   ]
  },
  {
   "cell_type": "code",
   "execution_count": 165,
   "metadata": {},
   "outputs": [
    {
     "data": {
      "text/html": [],
      "text/plain": [
       "<IPython.core.display.HTML object>"
      ]
     },
     "metadata": {},
     "output_type": "display_data"
    },
    {
     "name": "stdout",
     "output_type": "stream",
     "text": [
      "Better model found at epoch 0 with valid_loss value: 16551.693359375.\n"
     ]
    },
    {
     "data": {
      "text/plain": [
       "(#2) [273958528.0,16551.693359375]"
      ]
     },
     "execution_count": 165,
     "metadata": {},
     "output_type": "execute_result"
    }
   ],
   "source": [
    "learn.validate()"
   ]
  },
  {
   "cell_type": "code",
   "execution_count": 166,
   "metadata": {},
   "outputs": [
    {
     "data": {
      "text/html": [],
      "text/plain": [
       "<IPython.core.display.HTML object>"
      ]
     },
     "metadata": {},
     "output_type": "display_data"
    }
   ],
   "source": [
    "# predict prices on map\n",
    "row = df2.drop('price', axis=1).iloc[0].copy()\n",
    "cats = ['floor', 'area', 'date']\n",
    "for cat in cats:\n",
    "  row[cat] = df[cat].median()\n",
    "latMin, latMax = df.lat.min(),df.lat.max()\n",
    "latLeft = latMin - (latMax-latMin)/10\n",
    "latRight = latMax + (latMax-latMin)/10\n",
    "longMin, longMax = df.long.min(),df.long.max()\n",
    "longLeft = longMin - (longMax-longMin)/10\n",
    "longRight = longMax + (longMax-longMin)/10\n",
    "n1 = 5*5\n",
    "n2 = 3*5\n",
    "longs = np.linspace(longLeft, longRight, n1)\n",
    "lats = np.linspace(latLeft, latRight, n2)\n",
    "prices = np.ndarray((n2,n1))\n",
    "for i,lat in enumerate(lats):\n",
    "  row['lat'] = lat\n",
    "  for j,long in enumerate(longs):\n",
    "    row['long'] = long\n",
    "    _, yPred, _ = learn.predict(row)\n",
    "    prices[i][j] = yPred.item()"
   ]
  },
  {
   "cell_type": "code",
   "execution_count": 167,
   "metadata": {},
   "outputs": [
    {
     "data": {
      "image/png": "[encoded data removed]",
      "text/plain": [
       "<Figure size 810x480 with 2 Axes>"
      ]
     },
     "metadata": {},
     "output_type": "display_data"
    }
   ],
   "source": [
    "fig,ax=plt.subplots()\n",
    "#mrt\n",
    "shw2 = ax.imshow(mrt_map, extent=[longLeft, longRight, latLeft, latRight], origin='lower',cmap='Greys',alpha=1.0)\n",
    "#color map\n",
    "shw = ax.imshow(prices, extent=[longLeft, longRight, latLeft, latRight], origin='lower',alpha=0.7)\n",
    "bar = plt.colorbar(shw)\n",
    "fig.set_figwidth(8.1)"
   ]
  },
  {
   "cell_type": "code",
   "execution_count": 132,
   "metadata": {},
   "outputs": [
    {
     "data": {
      "image/png": "[encoded data removed]",
      "text/plain": [
       "<Figure size 640x480 with 2 Axes>"
      ]
     },
     "metadata": {},
     "output_type": "display_data"
    }
   ],
   "source": [
    "\n",
    "fig,ax=plt.subplots()\n",
    "shw = ax.imshow(mrt, extent=[longLeft, longRight, latLeft, latRight], origin='lower',alpha=1,cmap='Greys')\n",
    "shw = ax.imshow(prices, extent=[longLeft, longRight, latLeft, latRight], origin='lower',alpha=0.5)\n",
    "bar = plt.colorbar(shw)\n",
    "plt.show()"
   ]
  },
  {
   "cell_type": "code",
   "execution_count": 169,
   "metadata": {},
   "outputs": [
    {
     "data": {
      "image/png": "[encoded data removed]",
      "text/plain": [
       "<Figure size 1500x480 with 3 Axes>"
      ]
     },
     "metadata": {},
     "output_type": "display_data"
    }
   ],
   "source": [
    "def min_coords(lat,long):\n",
    "  return (np.abs((lats-lat)).argmin(), np.abs(longs-long).argmin())\n",
    "\n",
    "marsiling = (1.43278,103.77397)\n",
    "woodlands = (1.43718,103.78646)\n",
    "admiralty = (1.44063, 103.80098)\n",
    "woodlands_south = (1.42735,103.79314)\n",
    "woodlands_north = (1.44827,103.78536)\n",
    "mrts = [woodlands, woodlands_north, woodlands_south, marsiling, admiralty]\n",
    "mrt_map = np.zeros((n2,n1))\n",
    "for mrt in mrts:\n",
    "  (i,j) = min_coords(*mrt)\n",
    "  mrt_map[i][j] = 1\n",
    "\n",
    "fig,(ax,ax2)=plt.subplots(1,2)\n",
    "shw2 = ax.imshow(mrt_map, extent=[longLeft, longRight, latLeft, latRight], origin='lower',cmap='Greys',alpha=1.0)\n",
    "shw = ax.imshow(prices, extent=[longLeft, longRight, latLeft, latRight], origin='lower',alpha=0.7)\n",
    "bar = plt.colorbar(shw)\n",
    "\n",
    "ax2.scatter(df.long,df.lat)\n",
    "ax2.scatter([y for _,y in mrts], [x for x,_ in mrts],marker='s',c='black',)\n",
    "fig.set_figwidth(15)\n",
    "\n",
    "plt.show()\n"
   ]
  },
  {
   "cell_type": "code",
   "execution_count": 158,
   "metadata": {},
   "outputs": [
    {
     "data": {
      "text/plain": [
       "[103.78646, 103.78536, 103.79314, 103.77397, 103.80098]"
      ]
     },
     "execution_count": 158,
     "metadata": {},
     "output_type": "execute_result"
    }
   ],
   "source": [
    "[x for x,_ in mrts]\n",
    "[y for _,y in mrts]"
   ]
  }
 ],
 "metadata": {
  "kernelspec": {
   "display_name": "base",
   "language": "python",
   "name": "python3"
  },
  "language_info": {
   "codemirror_mode": {
    "name": "ipython",
    "version": 3
   },
   "file_extension": ".py",
   "mimetype": "text/x-python",
   "name": "python",
   "nbconvert_exporter": "python",
   "pygments_lexer": "ipython3",
   "version": "3.10.10"
  },
  "orig_nbformat": 4,
  "vscode": {
   "interpreter": {
    "hash": "bc2819e0cd58e12e49d4aa9b793031ae2fcdc5314c5c901672ba6897274f5c4e"
   }
  }
 },
 "nbformat": 4,
 "nbformat_minor": 2
}
