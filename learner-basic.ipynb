{
 "cells": [
  {
   "cell_type": "code",
   "execution_count": 20,
   "metadata": {},
   "outputs": [],
   "source": [
    "# Import libraries\n",
    "import numpy as np\n",
    "import pandas as pd\n",
    "import torch\n",
    "from fastai.tabular.all import TabularDataLoaders, Normalize, tabular_learner, R2Score, rmse, Categorify\n",
    "\n",
    "# clean up data: area, date, floor, price\n",
    "def load_csv():\n",
    "  return pd.read_csv('./data/2305_3rm_woodlands.csv')\n",
    "def price_cleanup(df):\n",
    "  df['price'] = df.price.apply(lambda x:float(x.replace('$','').replace(',','')) if isinstance(x,str) else x)\n",
    "  return df\n",
    "def area_cleanup(df):\n",
    "  df['area'] = df.area.str.split('\\n',expand=True)[0].astype(float) if df.area.dtype != 'float64' else df.area\n",
    "  return df  \n",
    "def date_cleanup(df):\n",
    "  df['date'] = pd.to_datetime(df.date, format=\"%m/%d/%y\")\n",
    "  df['date'] = df.date.apply(lambda x:float(x.toordinal()) if not isinstance(x,float) else x)\n",
    "  return df\n",
    "floor_dict = { f'0{i*3+1} to 0{i*3+3}' if i < 3 else f'{i*3+1} to {i*3+3}': i*3+2  for i in range(11)  }\n",
    "def floor_cleanup(df):\n",
    "  df['floor'] = df.floor.apply(lambda x:float(floor_dict[x]) if isinstance(x,str) else x)\n",
    "  return df\n",
    "\n",
    "def load_and_cleanup():\n",
    "  df = load_csv()\n",
    "  price_cleanup(df)\n",
    "  area_cleanup(df)\n",
    "  date_cleanup(df)\n",
    "  floor_cleanup(df)\n",
    "  df.drop([\"block\", \"street\", \"lease\"], axis=1, inplace = True)\n",
    "  return df\n",
    "\n",
    "def get_xy():\n",
    "  df = load_and_cleanup()\n",
    "  y = torch.tensor(df.price)\n",
    "  df['date'] = df.date - 693595\n",
    "  means = df.mean()\n",
    "  stds = df.std()\n",
    "  df = (df-means)/stds\n",
    "  xs = torch.tensor(df.drop(\"price\", axis=1).values)\n",
    "  return (xs, y, means, stds)\n",
    "\n",
    "def f(x, params, bias):\n",
    "  return torch.sum(x*params, 1)+bias\n",
    "\n",
    "def rmse(preds, targets):\n",
    "  return ((preds-targets)**2).mean().sqrt()\n",
    "\n",
    "def loss(x, params, bias, targets):\n",
    "  return rmse(f(x, params,bias), targets)\n"
   ]
  },
  {
   "cell_type": "code",
   "execution_count": 197,
   "metadata": {},
   "outputs": [],
   "source": [
    "## initialize params and bias\n",
    "(xs, y, means, stds) = get_xy()\n",
    "\n",
    "# take mean as starting point since other params are normalized\n",
    "bias = y.mean()\n",
    "# bias_step should be different because it is not normalized\n",
    "bias_step = y.std()/100\n",
    "# random initial params\n",
    "params = torch.rand(4)\n"
   ]
  },
  {
   "cell_type": "code",
   "execution_count": 340,
   "metadata": {},
   "outputs": [
    {
     "name": "stdout",
     "output_type": "stream",
     "text": [
      "Iteration -1: loss $17510.27291863599\n",
      "100 cycles reached\n",
      "Iteration0: loss $17510.27291863599\n"
     ]
    }
   ],
   "source": [
    "## random stepper: takes a random step, and move if the loss is lower\n",
    "curr_loss = loss(xs,params,bias,y)\n",
    "print(f\"Iteration -1: loss ${curr_loss}\")    \n",
    "n = 10000\n",
    "for i in range(n):\n",
    "  new_params = params + torch.rand(4)*.1\n",
    "  new_bias = bias + torch.rand(1)*.1\n",
    "  new_loss = loss(xs,new_params,new_bias,y)\n",
    "  count = 0\n",
    "  stop = False\n",
    "  while (new_loss > curr_loss):\n",
    "    count += 1\n",
    "    if (count == 1000):\n",
    "      print(f'100 cycles reached')\n",
    "      print(f\"Iteration{i}: loss ${curr_loss}\")   \n",
    "      stop = True\n",
    "      break\n",
    "    new_params = params + torch.rand(4)\n",
    "    new_bias = bias + torch.rand(1)\n",
    "    new_loss = loss(xs,new_params,new_bias,y)\n",
    "  if (stop):\n",
    "    break\n",
    "  params = new_params\n",
    "  bias = new_bias\n",
    "  curr_loss = new_loss\n",
    "  if (i > n-5):\n",
    "    print(f\"Iteration{i}: loss ${curr_loss}\")   "
   ]
  },
  {
   "cell_type": "code",
   "execution_count": 338,
   "metadata": {},
   "outputs": [
    {
     "name": "stdout",
     "output_type": "stream",
     "text": [
      "Iteration -1: loss $17510.272923675348\n",
      "local min reached at iteration 2\n"
     ]
    }
   ],
   "source": [
    "# fine-tuning: move the params by specifying the perturbation\n",
    "curr_loss = loss(xs,params,bias,y)\n",
    "print(f\"Iteration -1: loss ${curr_loss}\")    \n",
    "n = 100\n",
    "for i in range(n):\n",
    "  params_up = params + torch.tensor([  0, 0, 0, 0])\n",
    "  params_down = params - torch.tensor([0, 0, 0, 0])\n",
    "  loss_up = loss(xs,params_up,new_bias,y)\n",
    "  loss_down = loss(xs,params_down,new_bias,y)\n",
    "  if (loss_up < curr_loss):\n",
    "    params = params_up\n",
    "    curr_loss = loss_up\n",
    "  elif (loss_down < curr_loss):\n",
    "    params = params_down\n",
    "    curr_loss = loss_down\n",
    "  else:\n",
    "    print(f\"local min reached at iteration {i}\")\n",
    "    break\n",
    "  if (i > n-5):\n",
    "    print(f\"Iteration{i}: loss ${curr_loss}\")   "
   ]
  },
  {
   "cell_type": "code",
   "execution_count": 328,
   "metadata": {},
   "outputs": [
    {
     "name": "stdout",
     "output_type": "stream",
     "text": [
      "Iteration -1: loss $17510.27389588415\n",
      "local min reached at iteration 1\n"
     ]
    }
   ],
   "source": [
    "# fine-tuning the bias\n",
    "curr_loss = loss(xs,params,bias,y)\n",
    "print(f\"Iteration -1: loss ${curr_loss}\")    \n",
    "n = 100\n",
    "for i in range(n):\n",
    "  bias_up = bias +   torch.tensor(1)\n",
    "  bias_down = bias - torch.tensor(1)\n",
    "  loss_up = loss(xs,params,  bias_up,y)\n",
    "  loss_down = loss(xs,params,bias_down,y)\n",
    "  if (loss_up < curr_loss):\n",
    "    bias = bias_down\n",
    "    curr_loss = loss_up\n",
    "  elif (loss_down < curr_loss):\n",
    "    bias = bias_down\n",
    "    curr_loss = loss_down\n",
    "  else:\n",
    "    print(f\"local min reached at iteration {i}\")\n",
    "    break\n",
    "  if (i > n-5):\n",
    "    print(f\"Iteration{i}: loss ${curr_loss}\")  "
   ]
  }
 ],
 "metadata": {
  "kernelspec": {
   "display_name": "base",
   "language": "python",
   "name": "python3"
  },
  "language_info": {
   "codemirror_mode": {
    "name": "ipython",
    "version": 3
   },
   "file_extension": ".py",
   "mimetype": "text/x-python",
   "name": "python",
   "nbconvert_exporter": "python",
   "pygments_lexer": "ipython3",
   "version": "3.10.10"
  },
  "orig_nbformat": 4,
  "vscode": {
   "interpreter": {
    "hash": "bc2819e0cd58e12e49d4aa9b793031ae2fcdc5314c5c901672ba6897274f5c4e"
   }
  }
 },
 "nbformat": 4,
 "nbformat_minor": 2
}
