{
 "cells": [
  {
   "cell_type": "code",
   "execution_count": 1,
   "metadata": {},
   "outputs": [
    {
     "data": {
      "text/plain": [
       "19116.33495582736"
      ]
     },
     "execution_count": 1,
     "metadata": {},
     "output_type": "execute_result"
    }
   ],
   "source": [
    "# Import libraries\n",
    "import numpy as np\n",
    "import pandas as pd\n",
    "from sklearn.tree import DecisionTreeRegressor, export_graphviz\n",
    "import graphviz\n",
    "from sklearn.metrics import mean_squared_error\n",
    "from fastai.imports import re\n",
    "\n",
    "# dictionary: block and street to lat/long\n",
    "latLong = {\n",
    "  '212 Marsiling Cres': [1.44622, 103.77311],\n",
    "  '1 Marsiling Dr': [1.44067, 103.77571],\n",
    "  '2 Marsiling Dr': [1.43995, 103.77655],\n",
    "  '6 Marsiling Dr': [1.44208, 103.77633],\n",
    "  '22 Marsiling Dr': [1.44191, 103.77436],\n",
    "  '23 Marsiling Dr': [1.44151, 103.77330],\n",
    "  '24 Marsiling Dr': [1.44154, 103.77210],\n",
    "  '30 Marsiling Dr': [1.44258, 103.77240],\n",
    "  '31 Marsiling Dr': [1.44305, 103.77232],\n",
    "  '32 Marsiling Dr': [1.44337, 103.77293],\n",
    "  '202 Marsiling Dr': [1.44289, 103.77487],\n",
    "  '204 Marsiling Dr': [1.44408, 103.77370],\n",
    "  '206 Marsiling Dr': [1.44537, 103.77293],\n",
    "  '12 Marsiling Lane': [1.44061, 103.77870],\n",
    "  '12A Marsiling Lane': [1.44141, 103.77849],\n",
    "  '13 Marsiling Lane': [1.44109, 103.77925],\n",
    "  '15 Marsiling Lane': [1.44198, 103.77847],\n",
    "  '17 Marsiling Lane': [1.44273, 103.77804],\n",
    "  '18 Marsiling Lane': [1.44342, 103.77787],\n",
    "  '19 Marsiling Lane': [1.44328, 103.77730],\n",
    "  '180A Marsiling Rd': [1.43913, 103.77814],\n",
    "  '180B Marsiling Rd': [1.43913, 103.77835],\n",
    "  '125 Marsiling Rise': [1.43849, 103.77953],\n",
    "  '129 Marsiling Rise': [1.43783, 103.77871],\n",
    "  '130 Marsiling Rise': [1.43812, 103.77870],\n",
    "  '131 Marsiling Rise': [1.43849, 103.77862],\n",
    "  '132 Marsiling Rise': [1.43829, 103.77803],\n",
    "  '570A Woodlands Ave 1': [1.43071, 103.79105],\n",
    "  '570B Woodlands Ave 1': [1.43091, 103.79077],\n",
    "  '571C Woodlands Ave 1': [1.43040, 103.78997],\n",
    "  '693A Woodlands Ave 6': [1.43864, 103.80377],\n",
    "  '693B Woodlands Ave 6': [1.43834, 103.80388],\n",
    "  '693C Woodlands Ave 6': [1.43793, 103.80407],\n",
    "  '780A Woodlands Cres': [1.44882, 103.80067],\n",
    "  '780B Woodlands Cres': [1.44902, 103.80102],\n",
    "  '780C Woodlands Cres': [1.44913, 103.80139],\n",
    "  '780F Woodlands Cres': [1.44788, 103.80124],\n",
    "  '782C Woodlands Cres': [1.44780, 103.80344],\n",
    "  '782D Woodlands Cres': [1.44823, 103.80283],\n",
    "  '573A Woodlands Dr 16': [1.43133, 103.79828],\n",
    "  '573B Woodlands Dr 16': [1.43094, 103.79781],\n",
    "  '573C Woodlands Dr 16': [1.43052, 103.79767],\n",
    "  '574A Woodlands Dr 16': [1.43011, 103.79710],\n",
    "  '574B Woodlands Dr 16': [1.42970, 103.79685],\n",
    "  '886A Woodlands Dr 50': [1.43830, 103.79489],\n",
    "  '886B Woodlands Dr 50': [1.43824, 103.79387],\n",
    "  '886D Woodlands Dr 50': [1.43794, 103.79490],\n",
    "  '887B Woodlands Dr 50': [1.43710, 103.79406],\n",
    "  '887C Woodlands Dr 50': [1.43697, 103.79468],\n",
    "  '694A Woodlands Dr 62': [1.43916, 103.80419],\n",
    "  '694B Woodlands Dr 62': [1.43926, 103.80517],\n",
    "  '694C Woodlands Dr 62': [1.43862, 103.80561],\n",
    "  '694D Woodlands Dr 62': [1.43843, 103.80544],\n",
    "  '717A Woodlands Dr 70': [1.44049, 103.79836],\n",
    "  '717B Woodlands Dr 70': [1.44135, 103.79861],\n",
    "  '784B Woodlands Rise': [1.44565, 103.80499],\n",
    "  '784C Woodlands Rise': [1.44602, 103.80500],\n",
    "  '785B Woodlands Rise': [1.44636, 103.80527],\n",
    "  '101 Woodlands St 13': [1.43612, 103.78206],\n",
    "  '102 Woodlands St 13': [1.43611, 103.78117],\n",
    "  '111 Woodlands St 13': [1.43784, 103.78219],\n",
    "  '145 Woodlands St 13': [1.43612, 103.77324],\n",
    "  '146 Woodlands St 13': [1.43612, 103.77409],\n",
    "  '148 Woodlands St 13': [1.43578, 103.77402],\n",
    "  '149 Woodlands St 13': [1.43578, 103.77303],\n",
    "  '151 Woodlands St 13': [1.43546, 103.77423],\n",
    "  '152 Woodlands St 13': [1.43505, 103.77424],\n",
    "  '155 Woodlands St 13': [1.43477, 103.77459],\n",
    "  '157 Woodlands St 13': [1.43437, 103.77480],\n",
    "  '158 Woodlands St 13': [1.43407, 103.77478],\n",
    "  '159 Woodlands St 13': [1.43371, 103.77459],\n",
    "  '160 Woodlands St 13': [1.43337, 103.77469],\n",
    "  '161 Woodlands St 13': [1.43337, 103.77367],\n",
    "  '166 Woodlands St 13': [1.43374, 103.77543],\n",
    "  '302A Woodlands St 31': [1.43185, 103.77527],\n",
    "  '310 Woodlands St 31': [1.43009, 103.77598],\n",
    "  '311 Woodlands St 31': [1.43185, 103.77527],\n",
    "  '313 Woodlands St 31': [1.43049, 103.77617],\n",
    "  '314 Woodlands St 31': [1.43119, 103.77607],\n",
    "  '316 Woodlands St 31': [1.43149, 103.77637],\n",
    "  '317 Woodlands St 31': [1.43190, 103.77627],\n",
    "  '318 Woodlands St 31': [1.43185, 103.77731],\n",
    "  '319 Woodlands St 31': [1.43150, 103.77740],\n",
    "  '411 Woodlands St 41': [1.42852, 103.77282],\n",
    "  '419 Woodlands St 41': [1.42852, 103.77457],\n",
    "  '818 Woodlands St 82': [1.44167, 103.79018],\n",
    "  '820 Woodlands St 82': [1.44101, 103.79014],\n",
    "  '848 Woodlands St 82': [1.44181, 103.79198],\n",
    "  '849 Woodlands St 82': [1.44147, 103.79199],\n",
    "  '834 Woodlands St 83': [1.44009, 103.79108],\n",
    "}\n",
    "\n",
    "# clean up data: area, date, floor, price\n",
    "def load_csv():\n",
    "  return pd.read_csv('./data/2305_3rm_woodlands.csv')\n",
    "def price_cleanup(df):\n",
    "  df['price'] = df.price.apply(lambda x:float(x.replace('$','').replace(',','')) if isinstance(x,str) else x)\n",
    "  return df\n",
    "def area_cleanup(df):\n",
    "  df['area'] = df.area.str.split('\\n',expand=True)[0].astype(float) if df.area.dtype != 'float64' else df.area\n",
    "  return df  \n",
    "def date_cleanup(df):\n",
    "  df['date'] = pd.to_datetime(df.date, format=\"%m/%d/%y\")\n",
    "  df['date'] = df.date.apply(lambda x:float(x.toordinal()) if not isinstance(x,float) else x)\n",
    "  return df\n",
    "floor_dict = { f'0{i*3+1} to 0{i*3+3}' if i < 3 else f'{i*3+1} to {i*3+3}': i*3+2  for i in range(11)  }\n",
    "def floor_cleanup(df):\n",
    "  df['floor'] = df.floor.apply(lambda x:float(floor_dict[x]) if isinstance(x,str) else x)\n",
    "  return df\n",
    "\n",
    "\n",
    "def load_and_cleanup():\n",
    "  df = load_csv()\n",
    "  price_cleanup(df)\n",
    "  area_cleanup(df)\n",
    "  date_cleanup(df)\n",
    "  floor_cleanup(df)\n",
    "  df.drop([\"block\", \"street\", \"lease\"], axis=1, inplace = True)\n",
    "  return df\n",
    "\n",
    "\n",
    "\n",
    "df = load_and_cleanup()\n",
    "xs = df[[\"floor\", \"area\", \"date\", \"year\"]]\n",
    "y = df[\"price\"]\n",
    "\n",
    "def draw_tree(t, df, size=10, ratio=0.6, precision=2, **kwargs):\n",
    "    s=export_graphviz(t, out_file=None, feature_names=df.columns, filled=True, rounded=True,\n",
    "                      special_characters=True, rotate=False, precision=precision, **kwargs)\n",
    "    return graphviz.Source(re.sub('Tree {', f'Tree {{ size={size}; ratio={ratio}', s))\n",
    "\n",
    "# just 8 leaf nodes for easy analysis\n",
    "m = DecisionTreeRegressor(max_leaf_nodes=8).fit(xs,y)\n",
    "mean_squared_error(y, m.predict(xs),squared=False)\n",
    "\n",
    "\n"
   ]
  },
  {
   "cell_type": "code",
   "execution_count": 4,
   "metadata": {},
   "outputs": [
    {
     "data": {
      "image/svg+xml": "<?xml version=\"1.0\" encoding=\"UTF-8\" standalone=\"no\"?>\n<!DOCTYPE svg PUBLIC \"-//W3C//DTD SVG 1.1//EN\"\n \"http://www.w3.org/Graphics/SVG/1.1/DTD/svg11.dtd\">\n<!-- Generated by graphviz version 8.0.5 (20230506.1012)\n -->\n<!-- Title: Tree Pages: 1 -->\n<svg width=\"720pt\" height=\"434pt\"\n viewBox=\"0.00 0.00 720.00 434.01\" xmlns=\"http://www.w3.org/2000/svg\" xmlns:xlink=\"http://www.w3.org/1999/xlink\">\n<g id=\"graph0\" class=\"graph\" transform=\"scale(0.476979 0.476979) rotate(0) translate(4 905.92)\">\n<title>Tree</title>\n<polygon fill=\"white\" stroke=\"none\" points=\"-4,4 -4,-905.92 1505.5,-905.92 1505.5,4 -4,4\"/>\n<!-- 0 -->\n<g id=\"node1\" class=\"node\">\n<title>0</title>\n<path fill=\"#f3c4a3\" stroke=\"black\" d=\"M611,-872.5C611,-872.5 389.5,-872.5 389.5,-872.5 383.5,-872.5 377.5,-866.5 377.5,-860.5 377.5,-860.5 377.5,-807.5 377.5,-807.5 377.5,-801.5 383.5,-795.5 389.5,-795.5 389.5,-795.5 611,-795.5 611,-795.5 617,-795.5 623,-801.5 623,-807.5 623,-807.5 623,-860.5 623,-860.5 623,-866.5 617,-872.5 611,-872.5\"/>\n<text text-anchor=\"start\" x=\"449.62\" y=\"-855.2\" font-family=\"Helvetica,sans-Serif\" font-size=\"14.00\">year ≤ 2004.0</text>\n<text text-anchor=\"start\" x=\"385.5\" y=\"-837.95\" font-family=\"Helvetica,sans-Serif\" font-size=\"14.00\">squared_error = 2847839307.49</text>\n<text text-anchor=\"start\" x=\"447.38\" y=\"-820.7\" font-family=\"Helvetica,sans-Serif\" font-size=\"14.00\">samples = 307</text>\n<text text-anchor=\"start\" x=\"432.75\" y=\"-803.45\" font-family=\"Helvetica,sans-Serif\" font-size=\"14.00\">value = 372572.59</text>\n</g>\n<!-- 1 -->\n<g id=\"node2\" class=\"node\">\n<title>1</title>\n<path fill=\"#fae8da\" stroke=\"black\" d=\"M484,-673.5C484,-673.5 262.5,-673.5 262.5,-673.5 256.5,-673.5 250.5,-667.5 250.5,-661.5 250.5,-661.5 250.5,-608.5 250.5,-608.5 250.5,-602.5 256.5,-596.5 262.5,-596.5 262.5,-596.5 484,-596.5 484,-596.5 490,-596.5 496,-602.5 496,-608.5 496,-608.5 496,-661.5 496,-661.5 496,-667.5 490,-673.5 484,-673.5\"/>\n<text text-anchor=\"start\" x=\"332\" y=\"-656.2\" font-family=\"Helvetica,sans-Serif\" font-size=\"14.00\">area ≤ 67.5</text>\n<text text-anchor=\"start\" x=\"258.5\" y=\"-638.95\" font-family=\"Helvetica,sans-Serif\" font-size=\"14.00\">squared_error = 1091488630.67</text>\n<text text-anchor=\"start\" x=\"320.38\" y=\"-621.7\" font-family=\"Helvetica,sans-Serif\" font-size=\"14.00\">samples = 170</text>\n<text text-anchor=\"start\" x=\"305.75\" y=\"-604.45\" font-family=\"Helvetica,sans-Serif\" font-size=\"14.00\">value = 332361.27</text>\n</g>\n<!-- 0&#45;&gt;1 -->\n<g id=\"edge1\" class=\"edge\">\n<title>0&#45;&gt;1</title>\n<path fill=\"none\" stroke=\"black\" d=\"M475.76,-795.02C455.12,-762.99 425.49,-717.04 403.39,-682.76\"/>\n<polygon fill=\"black\" stroke=\"black\" points=\"406.02,-681.38 397.66,-674.87 400.14,-685.17 406.02,-681.38\"/>\n<text text-anchor=\"middle\" x=\"392.38\" y=\"-693.63\" font-family=\"Helvetica,sans-Serif\" font-size=\"14.00\">True</text>\n</g>\n<!-- 2 -->\n<g id=\"node9\" class=\"node\">\n<title>2</title>\n<path fill=\"#ea995e\" stroke=\"black\" d=\"M852,-673.5C852,-673.5 648.5,-673.5 648.5,-673.5 642.5,-673.5 636.5,-667.5 636.5,-661.5 636.5,-661.5 636.5,-608.5 636.5,-608.5 636.5,-602.5 642.5,-596.5 648.5,-596.5 648.5,-596.5 852,-596.5 852,-596.5 858,-596.5 864,-602.5 864,-608.5 864,-608.5 864,-661.5 864,-661.5 864,-667.5 858,-673.5 852,-673.5\"/>\n<text text-anchor=\"start\" x=\"712.75\" y=\"-656.2\" font-family=\"Helvetica,sans-Serif\" font-size=\"14.00\">floor ≤ 9.5</text>\n<text text-anchor=\"start\" x=\"644.5\" y=\"-638.95\" font-family=\"Helvetica,sans-Serif\" font-size=\"14.00\">squared_error = 531082491.1</text>\n<text text-anchor=\"start\" x=\"697.38\" y=\"-621.7\" font-family=\"Helvetica,sans-Serif\" font-size=\"14.00\">samples = 137</text>\n<text text-anchor=\"start\" x=\"682.75\" y=\"-604.45\" font-family=\"Helvetica,sans-Serif\" font-size=\"14.00\">value = 422469.84</text>\n</g>\n<!-- 0&#45;&gt;2 -->\n<g id=\"edge8\" class=\"edge\">\n<title>0&#45;&gt;2</title>\n<path fill=\"none\" stroke=\"black\" d=\"M548.45,-795.02C589.96,-762.31 649.9,-715.08 693.67,-680.59\"/>\n<polygon fill=\"black\" stroke=\"black\" points=\"695.51,-682.81 701.2,-673.87 691.17,-677.31 695.51,-682.81\"/>\n<text text-anchor=\"middle\" x=\"699.25\" y=\"-694.02\" font-family=\"Helvetica,sans-Serif\" font-size=\"14.00\">False</text>\n</g>\n<!-- 3 -->\n<g id=\"node3\" class=\"node\">\n<title>3</title>\n<path fill=\"#ffffff\" stroke=\"black\" d=\"M224.5,-465.88C224.5,-465.88 12,-465.88 12,-465.88 6,-465.88 0,-459.88 0,-453.88 0,-453.88 0,-418.12 0,-418.12 0,-412.12 6,-406.12 12,-406.12 12,-406.12 224.5,-406.12 224.5,-406.12 230.5,-406.12 236.5,-412.12 236.5,-418.12 236.5,-418.12 236.5,-453.88 236.5,-453.88 236.5,-459.88 230.5,-465.88 224.5,-465.88\"/>\n<text text-anchor=\"start\" x=\"8\" y=\"-448.57\" font-family=\"Helvetica,sans-Serif\" font-size=\"14.00\">squared_error = 428414206.01</text>\n<text text-anchor=\"start\" x=\"69.88\" y=\"-431.32\" font-family=\"Helvetica,sans-Serif\" font-size=\"14.00\">samples = 66</text>\n<text text-anchor=\"start\" x=\"50.75\" y=\"-414.07\" font-family=\"Helvetica,sans-Serif\" font-size=\"14.00\">value = 305763.45</text>\n</g>\n<!-- 1&#45;&gt;3 -->\n<g id=\"edge2\" class=\"edge\">\n<title>1&#45;&gt;3</title>\n<path fill=\"none\" stroke=\"black\" d=\"M324.08,-596.02C278.09,-560.48 209.89,-507.79 164.77,-472.94\"/>\n<polygon fill=\"black\" stroke=\"black\" points=\"167.12,-469.56 157.06,-466.21 162.84,-475.1 167.12,-469.56\"/>\n</g>\n<!-- 4 -->\n<g id=\"node4\" class=\"node\">\n<title>4</title>\n<path fill=\"#f7d9c3\" stroke=\"black\" d=\"M479.5,-474.5C479.5,-474.5 267,-474.5 267,-474.5 261,-474.5 255,-468.5 255,-462.5 255,-462.5 255,-409.5 255,-409.5 255,-403.5 261,-397.5 267,-397.5 267,-397.5 479.5,-397.5 479.5,-397.5 485.5,-397.5 491.5,-403.5 491.5,-409.5 491.5,-409.5 491.5,-462.5 491.5,-462.5 491.5,-468.5 485.5,-474.5 479.5,-474.5\"/>\n<text text-anchor=\"start\" x=\"322.62\" y=\"-457.2\" font-family=\"Helvetica,sans-Serif\" font-size=\"14.00\">year ≤ 1984.5</text>\n<text text-anchor=\"start\" x=\"263\" y=\"-439.95\" font-family=\"Helvetica,sans-Serif\" font-size=\"14.00\">squared_error = 778417551.73</text>\n<text text-anchor=\"start\" x=\"320.38\" y=\"-422.7\" font-family=\"Helvetica,sans-Serif\" font-size=\"14.00\">samples = 104</text>\n<text text-anchor=\"start\" x=\"305.75\" y=\"-405.45\" font-family=\"Helvetica,sans-Serif\" font-size=\"14.00\">value = 349240.65</text>\n</g>\n<!-- 1&#45;&gt;4 -->\n<g id=\"edge3\" class=\"edge\">\n<title>1&#45;&gt;4</title>\n<path fill=\"none\" stroke=\"black\" d=\"M373.25,-596.02C373.25,-564.54 373.25,-519.6 373.25,-485.52\"/>\n<polygon fill=\"black\" stroke=\"black\" points=\"376.75,-485.87 373.25,-475.87 369.75,-485.87 376.75,-485.87\"/>\n</g>\n<!-- 5 -->\n<g id=\"node5\" class=\"node\">\n<title>5</title>\n<path fill=\"#fbebe0\" stroke=\"black\" d=\"M224.5,-266.88C224.5,-266.88 12,-266.88 12,-266.88 6,-266.88 0,-260.88 0,-254.88 0,-254.88 0,-219.12 0,-219.12 0,-213.12 6,-207.12 12,-207.12 12,-207.12 224.5,-207.12 224.5,-207.12 230.5,-207.12 236.5,-213.12 236.5,-219.12 236.5,-219.12 236.5,-254.88 236.5,-254.88 236.5,-260.88 230.5,-266.88 224.5,-266.88\"/>\n<text text-anchor=\"start\" x=\"8\" y=\"-249.57\" font-family=\"Helvetica,sans-Serif\" font-size=\"14.00\">squared_error = 501170853.28</text>\n<text text-anchor=\"start\" x=\"69.88\" y=\"-232.32\" font-family=\"Helvetica,sans-Serif\" font-size=\"14.00\">samples = 36</text>\n<text text-anchor=\"start\" x=\"50.75\" y=\"-215.07\" font-family=\"Helvetica,sans-Serif\" font-size=\"14.00\">value = 328351.78</text>\n</g>\n<!-- 4&#45;&gt;5 -->\n<g id=\"edge4\" class=\"edge\">\n<title>4&#45;&gt;5</title>\n<path fill=\"none\" stroke=\"black\" d=\"M324.08,-397.02C278.09,-361.48 209.89,-308.79 164.77,-273.94\"/>\n<polygon fill=\"black\" stroke=\"black\" points=\"167.12,-270.56 157.06,-267.21 162.84,-276.1 167.12,-270.56\"/>\n</g>\n<!-- 6 -->\n<g id=\"node6\" class=\"node\">\n<title>6</title>\n<path fill=\"#f5cfb4\" stroke=\"black\" d=\"M479.5,-275.5C479.5,-275.5 267,-275.5 267,-275.5 261,-275.5 255,-269.5 255,-263.5 255,-263.5 255,-210.5 255,-210.5 255,-204.5 261,-198.5 267,-198.5 267,-198.5 479.5,-198.5 479.5,-198.5 485.5,-198.5 491.5,-204.5 491.5,-210.5 491.5,-210.5 491.5,-263.5 491.5,-263.5 491.5,-269.5 485.5,-275.5 479.5,-275.5\"/>\n<text text-anchor=\"start\" x=\"313.62\" y=\"-258.2\" font-family=\"Helvetica,sans-Serif\" font-size=\"14.00\">date ≤ 738475.0</text>\n<text text-anchor=\"start\" x=\"263\" y=\"-240.95\" font-family=\"Helvetica,sans-Serif\" font-size=\"14.00\">squared_error = 571891535.48</text>\n<text text-anchor=\"start\" x=\"324.88\" y=\"-223.7\" font-family=\"Helvetica,sans-Serif\" font-size=\"14.00\">samples = 68</text>\n<text text-anchor=\"start\" x=\"305.75\" y=\"-206.45\" font-family=\"Helvetica,sans-Serif\" font-size=\"14.00\">value = 360299.47</text>\n</g>\n<!-- 4&#45;&gt;6 -->\n<g id=\"edge5\" class=\"edge\">\n<title>4&#45;&gt;6</title>\n<path fill=\"none\" stroke=\"black\" d=\"M373.25,-397.02C373.25,-365.54 373.25,-320.6 373.25,-286.52\"/>\n<polygon fill=\"black\" stroke=\"black\" points=\"376.75,-286.87 373.25,-276.87 369.75,-286.87 376.75,-286.87\"/>\n</g>\n<!-- 11 -->\n<g id=\"node7\" class=\"node\">\n<title>11</title>\n<path fill=\"#f8dbc6\" stroke=\"black\" d=\"M352.5,-82.88C352.5,-82.88 140,-82.88 140,-82.88 134,-82.88 128,-76.88 128,-70.88 128,-70.88 128,-35.12 128,-35.12 128,-29.12 134,-23.12 140,-23.12 140,-23.12 352.5,-23.12 352.5,-23.12 358.5,-23.12 364.5,-29.12 364.5,-35.12 364.5,-35.12 364.5,-70.88 364.5,-70.88 364.5,-76.88 358.5,-82.88 352.5,-82.88\"/>\n<text text-anchor=\"start\" x=\"136\" y=\"-65.58\" font-family=\"Helvetica,sans-Serif\" font-size=\"14.00\">squared_error = 532363975.58</text>\n<text text-anchor=\"start\" x=\"197.88\" y=\"-48.33\" font-family=\"Helvetica,sans-Serif\" font-size=\"14.00\">samples = 33</text>\n<text text-anchor=\"start\" x=\"178.75\" y=\"-31.07\" font-family=\"Helvetica,sans-Serif\" font-size=\"14.00\">value = 346890.55</text>\n</g>\n<!-- 6&#45;&gt;11 -->\n<g id=\"edge6\" class=\"edge\">\n<title>6&#45;&gt;11</title>\n<path fill=\"none\" stroke=\"black\" d=\"M346.94,-198.29C325.25,-167.21 294.62,-123.32 272.85,-92.12\"/>\n<polygon fill=\"black\" stroke=\"black\" points=\"275.27,-90.48 266.68,-84.28 269.53,-94.48 275.27,-90.48\"/>\n</g>\n<!-- 12 -->\n<g id=\"node8\" class=\"node\">\n<title>12</title>\n<path fill=\"#f3c4a2\" stroke=\"black\" d=\"M607.5,-82.88C607.5,-82.88 395,-82.88 395,-82.88 389,-82.88 383,-76.88 383,-70.88 383,-70.88 383,-35.12 383,-35.12 383,-29.12 389,-23.12 395,-23.12 395,-23.12 607.5,-23.12 607.5,-23.12 613.5,-23.12 619.5,-29.12 619.5,-35.12 619.5,-35.12 619.5,-70.88 619.5,-70.88 619.5,-76.88 613.5,-82.88 607.5,-82.88\"/>\n<text text-anchor=\"start\" x=\"391\" y=\"-65.58\" font-family=\"Helvetica,sans-Serif\" font-size=\"14.00\">squared_error = 279797464.08</text>\n<text text-anchor=\"start\" x=\"452.88\" y=\"-48.33\" font-family=\"Helvetica,sans-Serif\" font-size=\"14.00\">samples = 35</text>\n<text text-anchor=\"start\" x=\"433.75\" y=\"-31.07\" font-family=\"Helvetica,sans-Serif\" font-size=\"14.00\">value = 372942.17</text>\n</g>\n<!-- 6&#45;&gt;12 -->\n<g id=\"edge7\" class=\"edge\">\n<title>6&#45;&gt;12</title>\n<path fill=\"none\" stroke=\"black\" d=\"M399.77,-198.29C421.63,-167.21 452.5,-123.32 474.44,-92.12\"/>\n<polygon fill=\"black\" stroke=\"black\" points=\"477.77,-94.47 480.66,-84.28 472.04,-90.45 477.77,-94.47\"/>\n</g>\n<!-- 7 -->\n<g id=\"node10\" class=\"node\">\n<title>7</title>\n<path fill=\"#eba069\" stroke=\"black\" d=\"M856.5,-474.5C856.5,-474.5 644,-474.5 644,-474.5 638,-474.5 632,-468.5 632,-462.5 632,-462.5 632,-409.5 632,-409.5 632,-403.5 638,-397.5 644,-397.5 644,-397.5 856.5,-397.5 856.5,-397.5 862.5,-397.5 868.5,-403.5 868.5,-409.5 868.5,-409.5 868.5,-462.5 868.5,-462.5 868.5,-468.5 862.5,-474.5 856.5,-474.5\"/>\n<text text-anchor=\"start\" x=\"699.62\" y=\"-457.2\" font-family=\"Helvetica,sans-Serif\" font-size=\"14.00\">year ≤ 2015.5</text>\n<text text-anchor=\"start\" x=\"640\" y=\"-439.95\" font-family=\"Helvetica,sans-Serif\" font-size=\"14.00\">squared_error = 360506419.34</text>\n<text text-anchor=\"start\" x=\"701.88\" y=\"-422.7\" font-family=\"Helvetica,sans-Serif\" font-size=\"14.00\">samples = 79</text>\n<text text-anchor=\"start\" x=\"682.75\" y=\"-405.45\" font-family=\"Helvetica,sans-Serif\" font-size=\"14.00\">value = 414340.56</text>\n</g>\n<!-- 2&#45;&gt;7 -->\n<g id=\"edge9\" class=\"edge\">\n<title>2&#45;&gt;7</title>\n<path fill=\"none\" stroke=\"black\" d=\"M750.25,-596.02C750.25,-564.54 750.25,-519.6 750.25,-485.52\"/>\n<polygon fill=\"black\" stroke=\"black\" points=\"753.75,-485.87 750.25,-475.87 746.75,-485.87 753.75,-485.87\"/>\n</g>\n<!-- 8 -->\n<g id=\"node13\" class=\"node\">\n<title>8</title>\n<path fill=\"#e88f4f\" stroke=\"black\" d=\"M1234.5,-474.5C1234.5,-474.5 1022,-474.5 1022,-474.5 1016,-474.5 1010,-468.5 1010,-462.5 1010,-462.5 1010,-409.5 1010,-409.5 1010,-403.5 1016,-397.5 1022,-397.5 1022,-397.5 1234.5,-397.5 1234.5,-397.5 1240.5,-397.5 1246.5,-403.5 1246.5,-409.5 1246.5,-409.5 1246.5,-462.5 1246.5,-462.5 1246.5,-468.5 1240.5,-474.5 1234.5,-474.5\"/>\n<text text-anchor=\"start\" x=\"1077.62\" y=\"-457.2\" font-family=\"Helvetica,sans-Serif\" font-size=\"14.00\">year ≤ 2015.5</text>\n<text text-anchor=\"start\" x=\"1018\" y=\"-439.95\" font-family=\"Helvetica,sans-Serif\" font-size=\"14.00\">squared_error = 550802788.87</text>\n<text text-anchor=\"start\" x=\"1079.88\" y=\"-422.7\" font-family=\"Helvetica,sans-Serif\" font-size=\"14.00\">samples = 58</text>\n<text text-anchor=\"start\" x=\"1060.75\" y=\"-405.45\" font-family=\"Helvetica,sans-Serif\" font-size=\"14.00\">value = 433542.48</text>\n</g>\n<!-- 2&#45;&gt;8 -->\n<g id=\"edge12\" class=\"edge\">\n<title>2&#45;&gt;8</title>\n<path fill=\"none\" stroke=\"black\" d=\"M823.13,-596.02C886.93,-562.77 979.55,-514.5 1045.99,-479.87\"/>\n<polygon fill=\"black\" stroke=\"black\" points=\"1047.34,-482.59 1054.59,-474.87 1044.11,-476.38 1047.34,-482.59\"/>\n</g>\n<!-- 13 -->\n<g id=\"node11\" class=\"node\">\n<title>13</title>\n<path fill=\"#efb286\" stroke=\"black\" d=\"M734.5,-266.88C734.5,-266.88 522,-266.88 522,-266.88 516,-266.88 510,-260.88 510,-254.88 510,-254.88 510,-219.12 510,-219.12 510,-213.12 516,-207.12 522,-207.12 522,-207.12 734.5,-207.12 734.5,-207.12 740.5,-207.12 746.5,-213.12 746.5,-219.12 746.5,-219.12 746.5,-254.88 746.5,-254.88 746.5,-260.88 740.5,-266.88 734.5,-266.88\"/>\n<text text-anchor=\"start\" x=\"518\" y=\"-249.57\" font-family=\"Helvetica,sans-Serif\" font-size=\"14.00\">squared_error = 208703596.96</text>\n<text text-anchor=\"start\" x=\"579.88\" y=\"-232.32\" font-family=\"Helvetica,sans-Serif\" font-size=\"14.00\">samples = 17</text>\n<text text-anchor=\"start\" x=\"560.75\" y=\"-215.07\" font-family=\"Helvetica,sans-Serif\" font-size=\"14.00\">value = 393471.53</text>\n</g>\n<!-- 7&#45;&gt;13 -->\n<g id=\"edge10\" class=\"edge\">\n<title>7&#45;&gt;13</title>\n<path fill=\"none\" stroke=\"black\" d=\"M726.73,-397.02C705.18,-362.22 673.45,-310.98 651.87,-276.14\"/>\n<polygon fill=\"black\" stroke=\"black\" points=\"654.58,-274.87 646.34,-268.21 648.63,-278.56 654.58,-274.87\"/>\n</g>\n<!-- 14 -->\n<g id=\"node12\" class=\"node\">\n<title>14</title>\n<path fill=\"#ea9b61\" stroke=\"black\" d=\"M980,-266.88C980,-266.88 776.5,-266.88 776.5,-266.88 770.5,-266.88 764.5,-260.88 764.5,-254.88 764.5,-254.88 764.5,-219.12 764.5,-219.12 764.5,-213.12 770.5,-207.12 776.5,-207.12 776.5,-207.12 980,-207.12 980,-207.12 986,-207.12 992,-213.12 992,-219.12 992,-219.12 992,-254.88 992,-254.88 992,-260.88 986,-266.88 980,-266.88\"/>\n<text text-anchor=\"start\" x=\"772.5\" y=\"-249.57\" font-family=\"Helvetica,sans-Serif\" font-size=\"14.00\">squared_error = 249970979.5</text>\n<text text-anchor=\"start\" x=\"829.88\" y=\"-232.32\" font-family=\"Helvetica,sans-Serif\" font-size=\"14.00\">samples = 62</text>\n<text text-anchor=\"start\" x=\"810.75\" y=\"-215.07\" font-family=\"Helvetica,sans-Serif\" font-size=\"14.00\">value = 420062.71</text>\n</g>\n<!-- 7&#45;&gt;14 -->\n<g id=\"edge11\" class=\"edge\">\n<title>7&#45;&gt;14</title>\n<path fill=\"none\" stroke=\"black\" d=\"M774.93,-397.02C797.54,-362.22 830.83,-310.98 853.47,-276.14\"/>\n<polygon fill=\"black\" stroke=\"black\" points=\"856.75,-278.51 859.27,-268.21 850.89,-274.69 856.75,-278.51\"/>\n</g>\n<!-- 9 -->\n<g id=\"node14\" class=\"node\">\n<title>9</title>\n<path fill=\"#ea9b62\" stroke=\"black\" d=\"M1234.5,-266.88C1234.5,-266.88 1022,-266.88 1022,-266.88 1016,-266.88 1010,-260.88 1010,-254.88 1010,-254.88 1010,-219.12 1010,-219.12 1010,-213.12 1016,-207.12 1022,-207.12 1022,-207.12 1234.5,-207.12 1234.5,-207.12 1240.5,-207.12 1246.5,-213.12 1246.5,-219.12 1246.5,-219.12 1246.5,-254.88 1246.5,-254.88 1246.5,-260.88 1240.5,-266.88 1234.5,-266.88\"/>\n<text text-anchor=\"start\" x=\"1018\" y=\"-249.57\" font-family=\"Helvetica,sans-Serif\" font-size=\"14.00\">squared_error = 329158206.37</text>\n<text text-anchor=\"start\" x=\"1079.88\" y=\"-232.32\" font-family=\"Helvetica,sans-Serif\" font-size=\"14.00\">samples = 31</text>\n<text text-anchor=\"start\" x=\"1060.75\" y=\"-215.07\" font-family=\"Helvetica,sans-Serif\" font-size=\"14.00\">value = 419851.23</text>\n</g>\n<!-- 8&#45;&gt;9 -->\n<g id=\"edge13\" class=\"edge\">\n<title>8&#45;&gt;9</title>\n<path fill=\"none\" stroke=\"black\" d=\"M1128.25,-397.02C1128.25,-362.81 1128.25,-312.72 1128.25,-277.93\"/>\n<polygon fill=\"black\" stroke=\"black\" points=\"1131.75,-278.21 1128.25,-268.21 1124.75,-278.21 1131.75,-278.21\"/>\n</g>\n<!-- 10 -->\n<g id=\"node15\" class=\"node\">\n<title>10</title>\n<path fill=\"#e58139\" stroke=\"black\" d=\"M1489.5,-266.88C1489.5,-266.88 1277,-266.88 1277,-266.88 1271,-266.88 1265,-260.88 1265,-254.88 1265,-254.88 1265,-219.12 1265,-219.12 1265,-213.12 1271,-207.12 1277,-207.12 1277,-207.12 1489.5,-207.12 1489.5,-207.12 1495.5,-207.12 1501.5,-213.12 1501.5,-219.12 1501.5,-219.12 1501.5,-254.88 1501.5,-254.88 1501.5,-260.88 1495.5,-266.88 1489.5,-266.88\"/>\n<text text-anchor=\"start\" x=\"1273\" y=\"-249.57\" font-family=\"Helvetica,sans-Serif\" font-size=\"14.00\">squared_error = 342957090.81</text>\n<text text-anchor=\"start\" x=\"1334.88\" y=\"-232.32\" font-family=\"Helvetica,sans-Serif\" font-size=\"14.00\">samples = 27</text>\n<text text-anchor=\"start\" x=\"1315.75\" y=\"-215.07\" font-family=\"Helvetica,sans-Serif\" font-size=\"14.00\">value = 449262.07</text>\n</g>\n<!-- 8&#45;&gt;10 -->\n<g id=\"edge14\" class=\"edge\">\n<title>8&#45;&gt;10</title>\n<path fill=\"none\" stroke=\"black\" d=\"M1177.42,-397.02C1223.41,-361.48 1291.61,-308.79 1336.73,-273.94\"/>\n<polygon fill=\"black\" stroke=\"black\" points=\"1338.66,-276.1 1344.44,-267.21 1334.38,-270.56 1338.66,-276.1\"/>\n</g>\n</g>\n</svg>\n",
      "text/plain": [
       "<graphviz.sources.Source at 0x7f4120504160>"
      ]
     },
     "execution_count": 4,
     "metadata": {},
     "output_type": "execute_result"
    }
   ],
   "source": [
    "draw_tree(m, xs, size=10)"
   ]
  },
  {
   "cell_type": "code",
   "execution_count": 14,
   "metadata": {},
   "outputs": [
    {
     "data": {
      "text/plain": [
       "Timestamp('2022-11-16 00:00:00')"
      ]
     },
     "execution_count": 14,
     "metadata": {},
     "output_type": "execute_result"
    }
   ],
   "source": [
    "pd.Timestamp.fromordinal(738475)"
   ]
  },
  {
   "cell_type": "code",
   "execution_count": 2,
   "metadata": {},
   "outputs": [
    {
     "name": "stdout",
     "output_type": "stream",
     "text": [
      "17330.64515258035 vs 20932.093036743863. full data mse: 16374.267551863188\n"
     ]
    },
    {
     "data": {
      "image/svg+xml": "<?xml version=\"1.0\" encoding=\"UTF-8\" standalone=\"no\"?>\n<!DOCTYPE svg PUBLIC \"-//W3C//DTD SVG 1.1//EN\"\n \"http://www.w3.org/Graphics/SVG/1.1/DTD/svg11.dtd\">\n<!-- Generated by graphviz version 8.0.5 (20230506.1012)\n -->\n<!-- Title: Tree Pages: 1 -->\n<svg width=\"1080pt\" height=\"650pt\"\n viewBox=\"0.00 0.00 1080.00 650.22\" xmlns=\"http://www.w3.org/2000/svg\" xmlns:xlink=\"http://www.w3.org/1999/xlink\">\n<g id=\"graph0\" class=\"graph\" transform=\"scale(0.450563 0.450563) rotate(0) translate(4 1439.12)\">\n<title>Tree</title>\n<polygon fill=\"white\" stroke=\"none\" points=\"-4,4 -4,-1439.12 2393,-1439.12 2393,4 -4,4\"/>\n<!-- 0 -->\n<g id=\"node1\" class=\"node\">\n<title>0</title>\n<path fill=\"#f2bf9a\" stroke=\"black\" d=\"M1484,-1385.5C1484,-1385.5 1271.5,-1385.5 1271.5,-1385.5 1265.5,-1385.5 1259.5,-1379.5 1259.5,-1373.5 1259.5,-1373.5 1259.5,-1320.5 1259.5,-1320.5 1259.5,-1314.5 1265.5,-1308.5 1271.5,-1308.5 1271.5,-1308.5 1484,-1308.5 1484,-1308.5 1490,-1308.5 1496,-1314.5 1496,-1320.5 1496,-1320.5 1496,-1373.5 1496,-1373.5 1496,-1379.5 1490,-1385.5 1484,-1385.5\"/>\n<text text-anchor=\"start\" x=\"1327.12\" y=\"-1368.2\" font-family=\"Helvetica,sans-Serif\" font-size=\"14.00\">year ≤ 2004.0</text>\n<text text-anchor=\"start\" x=\"1267.5\" y=\"-1350.95\" font-family=\"Helvetica,sans-Serif\" font-size=\"14.00\">squared_error = 2843011316.5</text>\n<text text-anchor=\"start\" x=\"1324.88\" y=\"-1333.7\" font-family=\"Helvetica,sans-Serif\" font-size=\"14.00\">samples = 247</text>\n<text text-anchor=\"start\" x=\"1310.25\" y=\"-1316.45\" font-family=\"Helvetica,sans-Serif\" font-size=\"14.00\">value = 369634.69</text>\n</g>\n<!-- 1 -->\n<g id=\"node2\" class=\"node\">\n<title>1</title>\n<path fill=\"#f9e0ce\" stroke=\"black\" d=\"M1229,-1125.5C1229,-1125.5 1016.5,-1125.5 1016.5,-1125.5 1010.5,-1125.5 1004.5,-1119.5 1004.5,-1113.5 1004.5,-1113.5 1004.5,-1060.5 1004.5,-1060.5 1004.5,-1054.5 1010.5,-1048.5 1016.5,-1048.5 1016.5,-1048.5 1229,-1048.5 1229,-1048.5 1235,-1048.5 1241,-1054.5 1241,-1060.5 1241,-1060.5 1241,-1113.5 1241,-1113.5 1241,-1119.5 1235,-1125.5 1229,-1125.5\"/>\n<text text-anchor=\"start\" x=\"1081.5\" y=\"-1108.2\" font-family=\"Helvetica,sans-Serif\" font-size=\"14.00\">area ≤ 67.5</text>\n<text text-anchor=\"start\" x=\"1012.5\" y=\"-1090.95\" font-family=\"Helvetica,sans-Serif\" font-size=\"14.00\">squared_error = 977657757.03</text>\n<text text-anchor=\"start\" x=\"1069.88\" y=\"-1073.7\" font-family=\"Helvetica,sans-Serif\" font-size=\"14.00\">samples = 135</text>\n<text text-anchor=\"start\" x=\"1055.25\" y=\"-1056.45\" font-family=\"Helvetica,sans-Serif\" font-size=\"14.00\">value = 328037.24</text>\n</g>\n<!-- 0&#45;&gt;1 -->\n<g id=\"edge1\" class=\"edge\">\n<title>0&#45;&gt;1</title>\n<path fill=\"none\" stroke=\"black\" d=\"M1340.4,-1308.21C1294.57,-1261.84 1216.93,-1183.29 1167.83,-1133.61\"/>\n<polygon fill=\"black\" stroke=\"black\" points=\"1170.72,-1131.54 1161.2,-1126.89 1165.74,-1136.47 1170.72,-1131.54\"/>\n<text text-anchor=\"middle\" x=\"1160.06\" y=\"-1146.22\" font-family=\"Helvetica,sans-Serif\" font-size=\"14.00\">True</text>\n</g>\n<!-- 16 -->\n<g id=\"node17\" class=\"node\">\n<title>16</title>\n<path fill=\"#e9975b\" stroke=\"black\" d=\"M1739,-1125.5C1739,-1125.5 1526.5,-1125.5 1526.5,-1125.5 1520.5,-1125.5 1514.5,-1119.5 1514.5,-1113.5 1514.5,-1113.5 1514.5,-1060.5 1514.5,-1060.5 1514.5,-1054.5 1520.5,-1048.5 1526.5,-1048.5 1526.5,-1048.5 1739,-1048.5 1739,-1048.5 1745,-1048.5 1751,-1054.5 1751,-1060.5 1751,-1060.5 1751,-1113.5 1751,-1113.5 1751,-1119.5 1745,-1125.5 1739,-1125.5\"/>\n<text text-anchor=\"start\" x=\"1595.25\" y=\"-1108.2\" font-family=\"Helvetica,sans-Serif\" font-size=\"14.00\">floor ≤ 9.5</text>\n<text text-anchor=\"start\" x=\"1522.5\" y=\"-1090.95\" font-family=\"Helvetica,sans-Serif\" font-size=\"14.00\">squared_error = 491744897.21</text>\n<text text-anchor=\"start\" x=\"1579.88\" y=\"-1073.7\" font-family=\"Helvetica,sans-Serif\" font-size=\"14.00\">samples = 112</text>\n<text text-anchor=\"start\" x=\"1565.25\" y=\"-1056.45\" font-family=\"Helvetica,sans-Serif\" font-size=\"14.00\">value = 419774.46</text>\n</g>\n<!-- 0&#45;&gt;16 -->\n<g id=\"edge16\" class=\"edge\">\n<title>0&#45;&gt;16</title>\n<path fill=\"none\" stroke=\"black\" d=\"M1415.1,-1308.21C1460.93,-1261.84 1538.57,-1183.29 1587.67,-1133.61\"/>\n<polygon fill=\"black\" stroke=\"black\" points=\"1589.76,-1136.47 1594.3,-1126.89 1584.78,-1131.54 1589.76,-1136.47\"/>\n<text text-anchor=\"middle\" x=\"1595.44\" y=\"-1146.22\" font-family=\"Helvetica,sans-Serif\" font-size=\"14.00\">False</text>\n</g>\n<!-- 2 -->\n<g id=\"node3\" class=\"node\">\n<title>2</title>\n<path fill=\"#fdf3ed\" stroke=\"black\" d=\"M847,-866.5C847,-866.5 634.5,-866.5 634.5,-866.5 628.5,-866.5 622.5,-860.5 622.5,-854.5 622.5,-854.5 622.5,-801.5 622.5,-801.5 622.5,-795.5 628.5,-789.5 634.5,-789.5 634.5,-789.5 847,-789.5 847,-789.5 853,-789.5 859,-795.5 859,-801.5 859,-801.5 859,-854.5 859,-854.5 859,-860.5 853,-866.5 847,-866.5\"/>\n<text text-anchor=\"start\" x=\"690.12\" y=\"-849.2\" font-family=\"Helvetica,sans-Serif\" font-size=\"14.00\">year ≤ 1984.5</text>\n<text text-anchor=\"start\" x=\"630.5\" y=\"-831.95\" font-family=\"Helvetica,sans-Serif\" font-size=\"14.00\">squared_error = 453072442.96</text>\n<text text-anchor=\"start\" x=\"692.38\" y=\"-814.7\" font-family=\"Helvetica,sans-Serif\" font-size=\"14.00\">samples = 53</text>\n<text text-anchor=\"start\" x=\"673.25\" y=\"-797.45\" font-family=\"Helvetica,sans-Serif\" font-size=\"14.00\">value = 303903.55</text>\n</g>\n<!-- 1&#45;&gt;2 -->\n<g id=\"edge2\" class=\"edge\">\n<title>1&#45;&gt;2</title>\n<path fill=\"none\" stroke=\"black\" d=\"M1066.38,-1048.08C996.88,-1001.32 878.99,-922 805.74,-872.72\"/>\n<polygon fill=\"black\" stroke=\"black\" points=\"808.29,-869.55 798.04,-866.87 804.38,-875.35 808.29,-869.55\"/>\n</g>\n<!-- 9 -->\n<g id=\"node10\" class=\"node\">\n<title>9</title>\n<path fill=\"#f6d4bb\" stroke=\"black\" d=\"M1229,-866.5C1229,-866.5 1016.5,-866.5 1016.5,-866.5 1010.5,-866.5 1004.5,-860.5 1004.5,-854.5 1004.5,-854.5 1004.5,-801.5 1004.5,-801.5 1004.5,-795.5 1010.5,-789.5 1016.5,-789.5 1016.5,-789.5 1229,-789.5 1229,-789.5 1235,-789.5 1241,-795.5 1241,-801.5 1241,-801.5 1241,-854.5 1241,-854.5 1241,-860.5 1235,-866.5 1229,-866.5\"/>\n<text text-anchor=\"start\" x=\"1072.12\" y=\"-849.2\" font-family=\"Helvetica,sans-Serif\" font-size=\"14.00\">year ≤ 1984.5</text>\n<text text-anchor=\"start\" x=\"1012.5\" y=\"-831.95\" font-family=\"Helvetica,sans-Serif\" font-size=\"14.00\">squared_error = 696950274.52</text>\n<text text-anchor=\"start\" x=\"1074.38\" y=\"-814.7\" font-family=\"Helvetica,sans-Serif\" font-size=\"14.00\">samples = 82</text>\n<text text-anchor=\"start\" x=\"1055.25\" y=\"-797.45\" font-family=\"Helvetica,sans-Serif\" font-size=\"14.00\">value = 343635.85</text>\n</g>\n<!-- 1&#45;&gt;9 -->\n<g id=\"edge9\" class=\"edge\">\n<title>1&#45;&gt;9</title>\n<path fill=\"none\" stroke=\"black\" d=\"M1122.75,-1048.08C1122.75,-1002.78 1122.75,-926.91 1122.75,-877.41\"/>\n<polygon fill=\"black\" stroke=\"black\" points=\"1126.25,-877.66 1122.75,-867.66 1119.25,-877.66 1126.25,-877.66\"/>\n</g>\n<!-- 3 -->\n<g id=\"node4\" class=\"node\">\n<title>3</title>\n<path fill=\"#fef8f4\" stroke=\"black\" d=\"M592,-606.5C592,-606.5 379.5,-606.5 379.5,-606.5 373.5,-606.5 367.5,-600.5 367.5,-594.5 367.5,-594.5 367.5,-541.5 367.5,-541.5 367.5,-535.5 373.5,-529.5 379.5,-529.5 379.5,-529.5 592,-529.5 592,-529.5 598,-529.5 604,-535.5 604,-541.5 604,-541.5 604,-594.5 604,-594.5 604,-600.5 598,-606.5 592,-606.5\"/>\n<text text-anchor=\"start\" x=\"426.12\" y=\"-589.2\" font-family=\"Helvetica,sans-Serif\" font-size=\"14.00\">date ≤ 738505.5</text>\n<text text-anchor=\"start\" x=\"375.5\" y=\"-571.95\" font-family=\"Helvetica,sans-Serif\" font-size=\"14.00\">squared_error = 165825484.76</text>\n<text text-anchor=\"start\" x=\"437.38\" y=\"-554.7\" font-family=\"Helvetica,sans-Serif\" font-size=\"14.00\">samples = 38</text>\n<text text-anchor=\"start\" x=\"418.25\" y=\"-537.45\" font-family=\"Helvetica,sans-Serif\" font-size=\"14.00\">value = 298263.16</text>\n</g>\n<!-- 2&#45;&gt;3 -->\n<g id=\"edge3\" class=\"edge\">\n<title>2&#45;&gt;3</title>\n<path fill=\"none\" stroke=\"black\" d=\"M703.4,-789.21C657.57,-742.84 579.93,-664.29 530.83,-614.61\"/>\n<polygon fill=\"black\" stroke=\"black\" points=\"533.72,-612.54 524.2,-607.89 528.74,-617.47 533.72,-612.54\"/>\n</g>\n<!-- 8 -->\n<g id=\"node9\" class=\"node\">\n<title>8</title>\n<path fill=\"#fae8db\" stroke=\"black\" d=\"M847,-597.88C847,-597.88 634.5,-597.88 634.5,-597.88 628.5,-597.88 622.5,-591.88 622.5,-585.88 622.5,-585.88 622.5,-550.12 622.5,-550.12 622.5,-544.12 628.5,-538.12 634.5,-538.12 634.5,-538.12 847,-538.12 847,-538.12 853,-538.12 859,-544.12 859,-550.12 859,-550.12 859,-585.88 859,-585.88 859,-591.88 853,-597.88 847,-597.88\"/>\n<text text-anchor=\"start\" x=\"630.5\" y=\"-580.58\" font-family=\"Helvetica,sans-Serif\" font-size=\"14.00\">squared_error = 895994167.18</text>\n<text text-anchor=\"start\" x=\"692.38\" y=\"-563.33\" font-family=\"Helvetica,sans-Serif\" font-size=\"14.00\">samples = 15</text>\n<text text-anchor=\"start\" x=\"673.25\" y=\"-546.08\" font-family=\"Helvetica,sans-Serif\" font-size=\"14.00\">value = 318192.53</text>\n</g>\n<!-- 2&#45;&gt;8 -->\n<g id=\"edge8\" class=\"edge\">\n<title>2&#45;&gt;8</title>\n<path fill=\"none\" stroke=\"black\" d=\"M740.75,-789.21C740.75,-741.03 740.75,-658.11 740.75,-608.93\"/>\n<polygon fill=\"black\" stroke=\"black\" points=\"744.25,-609.09 740.75,-599.09 737.25,-609.09 744.25,-609.09\"/>\n</g>\n<!-- 4 -->\n<g id=\"node5\" class=\"node\">\n<title>4</title>\n<path fill=\"#fef9f6\" stroke=\"black\" d=\"M345,-346.5C345,-346.5 132.5,-346.5 132.5,-346.5 126.5,-346.5 120.5,-340.5 120.5,-334.5 120.5,-334.5 120.5,-281.5 120.5,-281.5 120.5,-275.5 126.5,-269.5 132.5,-269.5 132.5,-269.5 345,-269.5 345,-269.5 351,-269.5 357,-275.5 357,-281.5 357,-281.5 357,-334.5 357,-334.5 357,-340.5 351,-346.5 345,-346.5\"/>\n<text text-anchor=\"start\" x=\"201.25\" y=\"-329.2\" font-family=\"Helvetica,sans-Serif\" font-size=\"14.00\">floor ≤ 3.5</text>\n<text text-anchor=\"start\" x=\"128.5\" y=\"-311.95\" font-family=\"Helvetica,sans-Serif\" font-size=\"14.00\">squared_error = 143301038.06</text>\n<text text-anchor=\"start\" x=\"190.38\" y=\"-294.7\" font-family=\"Helvetica,sans-Serif\" font-size=\"14.00\">samples = 34</text>\n<text text-anchor=\"start\" x=\"171.25\" y=\"-277.45\" font-family=\"Helvetica,sans-Serif\" font-size=\"14.00\">value = 296588.24</text>\n</g>\n<!-- 3&#45;&gt;4 -->\n<g id=\"edge4\" class=\"edge\">\n<title>3&#45;&gt;4</title>\n<path fill=\"none\" stroke=\"black\" d=\"M449.57,-529.21C405.18,-482.84 329.97,-404.29 282.41,-354.61\"/>\n<polygon fill=\"black\" stroke=\"black\" points=\"285.47,-352.7 276.03,-347.89 280.41,-357.54 285.47,-352.7\"/>\n</g>\n<!-- 7 -->\n<g id=\"node8\" class=\"node\">\n<title>7</title>\n<path fill=\"#fbede2\" stroke=\"black\" d=\"M590.5,-337.88C590.5,-337.88 387,-337.88 387,-337.88 381,-337.88 375,-331.88 375,-325.88 375,-325.88 375,-290.12 375,-290.12 375,-284.12 381,-278.12 387,-278.12 387,-278.12 590.5,-278.12 590.5,-278.12 596.5,-278.12 602.5,-284.12 602.5,-290.12 602.5,-290.12 602.5,-325.88 602.5,-325.88 602.5,-331.88 596.5,-337.88 590.5,-337.88\"/>\n<text text-anchor=\"start\" x=\"383\" y=\"-320.57\" font-family=\"Helvetica,sans-Serif\" font-size=\"14.00\">squared_error = 130750000.0</text>\n<text text-anchor=\"start\" x=\"444.88\" y=\"-303.32\" font-family=\"Helvetica,sans-Serif\" font-size=\"14.00\">samples = 4</text>\n<text text-anchor=\"start\" x=\"425.75\" y=\"-286.07\" font-family=\"Helvetica,sans-Serif\" font-size=\"14.00\">value = 312500.0</text>\n</g>\n<!-- 3&#45;&gt;7 -->\n<g id=\"edge7\" class=\"edge\">\n<title>3&#45;&gt;7</title>\n<path fill=\"none\" stroke=\"black\" d=\"M486.19,-529.21C486.75,-481.03 487.71,-398.11 488.29,-348.93\"/>\n<polygon fill=\"black\" stroke=\"black\" points=\"491.8,-349.13 488.41,-339.09 484.8,-349.05 491.8,-349.13\"/>\n</g>\n<!-- 5 -->\n<g id=\"node6\" class=\"node\">\n<title>5</title>\n<path fill=\"#ffffff\" stroke=\"black\" d=\"M215.5,-98.88C215.5,-98.88 12,-98.88 12,-98.88 6,-98.88 0,-92.88 0,-86.88 0,-86.88 0,-51.12 0,-51.12 0,-45.12 6,-39.12 12,-39.12 12,-39.12 215.5,-39.12 215.5,-39.12 221.5,-39.12 227.5,-45.12 227.5,-51.12 227.5,-51.12 227.5,-86.88 227.5,-86.88 227.5,-92.88 221.5,-98.88 215.5,-98.88\"/>\n<text text-anchor=\"start\" x=\"8\" y=\"-81.58\" font-family=\"Helvetica,sans-Serif\" font-size=\"14.00\">squared_error = 77916666.67</text>\n<text text-anchor=\"start\" x=\"69.88\" y=\"-64.33\" font-family=\"Helvetica,sans-Serif\" font-size=\"14.00\">samples = 6</text>\n<text text-anchor=\"start\" x=\"50.75\" y=\"-47.08\" font-family=\"Helvetica,sans-Serif\" font-size=\"14.00\">value = 289500.0</text>\n</g>\n<!-- 4&#45;&gt;5 -->\n<g id=\"edge5\" class=\"edge\">\n<title>4&#45;&gt;5</title>\n<path fill=\"none\" stroke=\"black\" d=\"M218.81,-269.18C195.61,-225.2 157.52,-152.98 134.13,-108.65\"/>\n<polygon fill=\"black\" stroke=\"black\" points=\"136.85,-107.3 129.09,-100.09 130.66,-110.57 136.85,-107.3\"/>\n</g>\n<!-- 6 -->\n<g id=\"node7\" class=\"node\">\n<title>6</title>\n<path fill=\"#fef8f4\" stroke=\"black\" d=\"M470,-98.88C470,-98.88 257.5,-98.88 257.5,-98.88 251.5,-98.88 245.5,-92.88 245.5,-86.88 245.5,-86.88 245.5,-51.12 245.5,-51.12 245.5,-45.12 251.5,-39.12 257.5,-39.12 257.5,-39.12 470,-39.12 470,-39.12 476,-39.12 482,-45.12 482,-51.12 482,-51.12 482,-86.88 482,-86.88 482,-92.88 476,-98.88 470,-98.88\"/>\n<text text-anchor=\"start\" x=\"253.5\" y=\"-81.58\" font-family=\"Helvetica,sans-Serif\" font-size=\"14.00\">squared_error = 144238520.41</text>\n<text text-anchor=\"start\" x=\"315.38\" y=\"-64.33\" font-family=\"Helvetica,sans-Serif\" font-size=\"14.00\">samples = 28</text>\n<text text-anchor=\"start\" x=\"296.25\" y=\"-47.08\" font-family=\"Helvetica,sans-Serif\" font-size=\"14.00\">value = 298107.14</text>\n</g>\n<!-- 4&#45;&gt;6 -->\n<g id=\"edge6\" class=\"edge\">\n<title>4&#45;&gt;6</title>\n<path fill=\"none\" stroke=\"black\" d=\"M258.69,-269.18C281.89,-225.2 319.98,-152.98 343.37,-108.65\"/>\n<polygon fill=\"black\" stroke=\"black\" points=\"346.84,-110.57 348.41,-100.09 340.65,-107.3 346.84,-110.57\"/>\n</g>\n<!-- 10 -->\n<g id=\"node11\" class=\"node\">\n<title>10</title>\n<path fill=\"#f9e2d1\" stroke=\"black\" d=\"M1102,-606.5C1102,-606.5 889.5,-606.5 889.5,-606.5 883.5,-606.5 877.5,-600.5 877.5,-594.5 877.5,-594.5 877.5,-541.5 877.5,-541.5 877.5,-535.5 883.5,-529.5 889.5,-529.5 889.5,-529.5 1102,-529.5 1102,-529.5 1108,-529.5 1114,-535.5 1114,-541.5 1114,-541.5 1114,-594.5 1114,-594.5 1114,-600.5 1108,-606.5 1102,-606.5\"/>\n<text text-anchor=\"start\" x=\"954.5\" y=\"-589.2\" font-family=\"Helvetica,sans-Serif\" font-size=\"14.00\">area ≤ 75.5</text>\n<text text-anchor=\"start\" x=\"885.5\" y=\"-571.95\" font-family=\"Helvetica,sans-Serif\" font-size=\"14.00\">squared_error = 448398166.18</text>\n<text text-anchor=\"start\" x=\"947.38\" y=\"-554.7\" font-family=\"Helvetica,sans-Serif\" font-size=\"14.00\">samples = 31</text>\n<text text-anchor=\"start\" x=\"928.25\" y=\"-537.45\" font-family=\"Helvetica,sans-Serif\" font-size=\"14.00\">value = 325827.87</text>\n</g>\n<!-- 9&#45;&gt;10 -->\n<g id=\"edge10\" class=\"edge\">\n<title>9&#45;&gt;10</title>\n<path fill=\"none\" stroke=\"black\" d=\"M1104.15,-789.21C1081.6,-743.41 1043.61,-666.22 1019.11,-616.46\"/>\n<polygon fill=\"black\" stroke=\"black\" points=\"1021.96,-615.32 1014.4,-607.89 1015.68,-618.41 1021.96,-615.32\"/>\n</g>\n<!-- 13 -->\n<g id=\"node14\" class=\"node\">\n<title>13</title>\n<path fill=\"#f4cbad\" stroke=\"black\" d=\"M1357,-606.5C1357,-606.5 1144.5,-606.5 1144.5,-606.5 1138.5,-606.5 1132.5,-600.5 1132.5,-594.5 1132.5,-594.5 1132.5,-541.5 1132.5,-541.5 1132.5,-535.5 1138.5,-529.5 1144.5,-529.5 1144.5,-529.5 1357,-529.5 1357,-529.5 1363,-529.5 1369,-535.5 1369,-541.5 1369,-541.5 1369,-594.5 1369,-594.5 1369,-600.5 1363,-606.5 1357,-606.5\"/>\n<text text-anchor=\"start\" x=\"1209.5\" y=\"-589.2\" font-family=\"Helvetica,sans-Serif\" font-size=\"14.00\">area ≤ 72.0</text>\n<text text-anchor=\"start\" x=\"1140.5\" y=\"-571.95\" font-family=\"Helvetica,sans-Serif\" font-size=\"14.00\">squared_error = 538100234.57</text>\n<text text-anchor=\"start\" x=\"1202.38\" y=\"-554.7\" font-family=\"Helvetica,sans-Serif\" font-size=\"14.00\">samples = 51</text>\n<text text-anchor=\"start\" x=\"1183.25\" y=\"-537.45\" font-family=\"Helvetica,sans-Serif\" font-size=\"14.00\">value = 354460.31</text>\n</g>\n<!-- 9&#45;&gt;13 -->\n<g id=\"edge13\" class=\"edge\">\n<title>9&#45;&gt;13</title>\n<path fill=\"none\" stroke=\"black\" d=\"M1141.5,-789.21C1164.22,-743.41 1202.52,-666.22 1227.2,-616.46\"/>\n<polygon fill=\"black\" stroke=\"black\" points=\"1230.64,-618.41 1231.95,-607.89 1224.37,-615.3 1230.64,-618.41\"/>\n</g>\n<!-- 11 -->\n<g id=\"node12\" class=\"node\">\n<title>11</title>\n<path fill=\"#fae8db\" stroke=\"black\" d=\"M847,-337.88C847,-337.88 634.5,-337.88 634.5,-337.88 628.5,-337.88 622.5,-331.88 622.5,-325.88 622.5,-325.88 622.5,-290.12 622.5,-290.12 622.5,-284.12 628.5,-278.12 634.5,-278.12 634.5,-278.12 847,-278.12 847,-278.12 853,-278.12 859,-284.12 859,-290.12 859,-290.12 859,-325.88 859,-325.88 859,-331.88 853,-337.88 847,-337.88\"/>\n<text text-anchor=\"start\" x=\"630.5\" y=\"-320.57\" font-family=\"Helvetica,sans-Serif\" font-size=\"14.00\">squared_error = 408189162.52</text>\n<text text-anchor=\"start\" x=\"692.38\" y=\"-303.32\" font-family=\"Helvetica,sans-Serif\" font-size=\"14.00\">samples = 21</text>\n<text text-anchor=\"start\" x=\"673.25\" y=\"-286.07\" font-family=\"Helvetica,sans-Serif\" font-size=\"14.00\">value = 317703.62</text>\n</g>\n<!-- 10&#45;&gt;11 -->\n<g id=\"edge11\" class=\"edge\">\n<title>10&#45;&gt;11</title>\n<path fill=\"none\" stroke=\"black\" d=\"M958.4,-529.21C909.78,-480.02 825.36,-394.61 777.2,-345.87\"/>\n<polygon fill=\"black\" stroke=\"black\" points=\"780.02,-343.74 770.5,-339.09 775.04,-348.66 780.02,-343.74\"/>\n</g>\n<!-- 12 -->\n<g id=\"node13\" class=\"node\">\n<title>12</title>\n<path fill=\"#f6d4bc\" stroke=\"black\" d=\"M1102,-337.88C1102,-337.88 889.5,-337.88 889.5,-337.88 883.5,-337.88 877.5,-331.88 877.5,-325.88 877.5,-325.88 877.5,-290.12 877.5,-290.12 877.5,-284.12 883.5,-278.12 889.5,-278.12 889.5,-278.12 1102,-278.12 1102,-278.12 1108,-278.12 1114,-284.12 1114,-290.12 1114,-290.12 1114,-325.88 1114,-325.88 1114,-331.88 1108,-337.88 1102,-337.88\"/>\n<text text-anchor=\"start\" x=\"885.5\" y=\"-320.57\" font-family=\"Helvetica,sans-Serif\" font-size=\"14.00\">squared_error = 103154488.96</text>\n<text text-anchor=\"start\" x=\"947.38\" y=\"-303.32\" font-family=\"Helvetica,sans-Serif\" font-size=\"14.00\">samples = 10</text>\n<text text-anchor=\"start\" x=\"932.75\" y=\"-286.07\" font-family=\"Helvetica,sans-Serif\" font-size=\"14.00\">value = 342888.8</text>\n</g>\n<!-- 10&#45;&gt;12 -->\n<g id=\"edge12\" class=\"edge\">\n<title>10&#45;&gt;12</title>\n<path fill=\"none\" stroke=\"black\" d=\"M995.75,-529.21C995.75,-481.03 995.75,-398.11 995.75,-348.93\"/>\n<polygon fill=\"black\" stroke=\"black\" points=\"999.25,-349.09 995.75,-339.09 992.25,-349.09 999.25,-349.09\"/>\n</g>\n<!-- 14 -->\n<g id=\"node15\" class=\"node\">\n<title>14</title>\n<path fill=\"#f6d6be\" stroke=\"black\" d=\"M1357,-337.88C1357,-337.88 1144.5,-337.88 1144.5,-337.88 1138.5,-337.88 1132.5,-331.88 1132.5,-325.88 1132.5,-325.88 1132.5,-290.12 1132.5,-290.12 1132.5,-284.12 1138.5,-278.12 1144.5,-278.12 1144.5,-278.12 1357,-278.12 1357,-278.12 1363,-278.12 1369,-284.12 1369,-290.12 1369,-290.12 1369,-325.88 1369,-325.88 1369,-331.88 1363,-337.88 1357,-337.88\"/>\n<text text-anchor=\"start\" x=\"1140.5\" y=\"-320.57\" font-family=\"Helvetica,sans-Serif\" font-size=\"14.00\">squared_error = 317457046.74</text>\n<text text-anchor=\"start\" x=\"1202.38\" y=\"-303.32\" font-family=\"Helvetica,sans-Serif\" font-size=\"14.00\">samples = 22</text>\n<text text-anchor=\"start\" x=\"1183.25\" y=\"-286.07\" font-family=\"Helvetica,sans-Serif\" font-size=\"14.00\">value = 341231.27</text>\n</g>\n<!-- 13&#45;&gt;14 -->\n<g id=\"edge14\" class=\"edge\">\n<title>13&#45;&gt;14</title>\n<path fill=\"none\" stroke=\"black\" d=\"M1250.75,-529.21C1250.75,-481.03 1250.75,-398.11 1250.75,-348.93\"/>\n<polygon fill=\"black\" stroke=\"black\" points=\"1254.25,-349.09 1250.75,-339.09 1247.25,-349.09 1254.25,-349.09\"/>\n</g>\n<!-- 15 -->\n<g id=\"node16\" class=\"node\">\n<title>15</title>\n<path fill=\"#f3c3a1\" stroke=\"black\" d=\"M1612,-337.88C1612,-337.88 1399.5,-337.88 1399.5,-337.88 1393.5,-337.88 1387.5,-331.88 1387.5,-325.88 1387.5,-325.88 1387.5,-290.12 1387.5,-290.12 1387.5,-284.12 1393.5,-278.12 1399.5,-278.12 1399.5,-278.12 1612,-278.12 1612,-278.12 1618,-278.12 1624,-284.12 1624,-290.12 1624,-290.12 1624,-325.88 1624,-325.88 1624,-331.88 1618,-337.88 1612,-337.88\"/>\n<text text-anchor=\"start\" x=\"1395.5\" y=\"-320.57\" font-family=\"Helvetica,sans-Serif\" font-size=\"14.00\">squared_error = 472002624.53</text>\n<text text-anchor=\"start\" x=\"1457.38\" y=\"-303.32\" font-family=\"Helvetica,sans-Serif\" font-size=\"14.00\">samples = 29</text>\n<text text-anchor=\"start\" x=\"1438.25\" y=\"-286.07\" font-family=\"Helvetica,sans-Serif\" font-size=\"14.00\">value = 364496.14</text>\n</g>\n<!-- 13&#45;&gt;15 -->\n<g id=\"edge15\" class=\"edge\">\n<title>13&#45;&gt;15</title>\n<path fill=\"none\" stroke=\"black\" d=\"M1288.1,-529.21C1336.72,-480.02 1421.14,-394.61 1469.3,-345.87\"/>\n<polygon fill=\"black\" stroke=\"black\" points=\"1471.46,-348.66 1476,-339.09 1466.48,-343.74 1471.46,-348.66\"/>\n</g>\n<!-- 17 -->\n<g id=\"node18\" class=\"node\">\n<title>17</title>\n<path fill=\"#eb9d65\" stroke=\"black\" d=\"M1739,-866.5C1739,-866.5 1526.5,-866.5 1526.5,-866.5 1520.5,-866.5 1514.5,-860.5 1514.5,-854.5 1514.5,-854.5 1514.5,-801.5 1514.5,-801.5 1514.5,-795.5 1520.5,-789.5 1526.5,-789.5 1526.5,-789.5 1739,-789.5 1739,-789.5 1745,-789.5 1751,-795.5 1751,-801.5 1751,-801.5 1751,-854.5 1751,-854.5 1751,-860.5 1745,-866.5 1739,-866.5\"/>\n<text text-anchor=\"start\" x=\"1582.12\" y=\"-849.2\" font-family=\"Helvetica,sans-Serif\" font-size=\"14.00\">year ≤ 2015.5</text>\n<text text-anchor=\"start\" x=\"1522.5\" y=\"-831.95\" font-family=\"Helvetica,sans-Serif\" font-size=\"14.00\">squared_error = 341675630.31</text>\n<text text-anchor=\"start\" x=\"1584.38\" y=\"-814.7\" font-family=\"Helvetica,sans-Serif\" font-size=\"14.00\">samples = 66</text>\n<text text-anchor=\"start\" x=\"1565.25\" y=\"-797.45\" font-family=\"Helvetica,sans-Serif\" font-size=\"14.00\">value = 412087.52</text>\n</g>\n<!-- 16&#45;&gt;17 -->\n<g id=\"edge17\" class=\"edge\">\n<title>16&#45;&gt;17</title>\n<path fill=\"none\" stroke=\"black\" d=\"M1632.75,-1048.08C1632.75,-1002.78 1632.75,-926.91 1632.75,-877.41\"/>\n<polygon fill=\"black\" stroke=\"black\" points=\"1636.25,-877.66 1632.75,-867.66 1629.25,-877.66 1636.25,-877.66\"/>\n</g>\n<!-- 22 -->\n<g id=\"node23\" class=\"node\">\n<title>22</title>\n<path fill=\"#e88e4d\" stroke=\"black\" d=\"M2122,-866.5C2122,-866.5 1909.5,-866.5 1909.5,-866.5 1903.5,-866.5 1897.5,-860.5 1897.5,-854.5 1897.5,-854.5 1897.5,-801.5 1897.5,-801.5 1897.5,-795.5 1903.5,-789.5 1909.5,-789.5 1909.5,-789.5 2122,-789.5 2122,-789.5 2128,-789.5 2134,-795.5 2134,-801.5 2134,-801.5 2134,-854.5 2134,-854.5 2134,-860.5 2128,-866.5 2122,-866.5\"/>\n<text text-anchor=\"start\" x=\"1965.12\" y=\"-849.2\" font-family=\"Helvetica,sans-Serif\" font-size=\"14.00\">year ≤ 2015.5</text>\n<text text-anchor=\"start\" x=\"1905.5\" y=\"-831.95\" font-family=\"Helvetica,sans-Serif\" font-size=\"14.00\">squared_error = 500640466.25</text>\n<text text-anchor=\"start\" x=\"1967.38\" y=\"-814.7\" font-family=\"Helvetica,sans-Serif\" font-size=\"14.00\">samples = 46</text>\n<text text-anchor=\"start\" x=\"1948.25\" y=\"-797.45\" font-family=\"Helvetica,sans-Serif\" font-size=\"14.00\">value = 430803.57</text>\n</g>\n<!-- 16&#45;&gt;22 -->\n<g id=\"edge22\" class=\"edge\">\n<title>16&#45;&gt;22</title>\n<path fill=\"none\" stroke=\"black\" d=\"M1689.26,-1048.08C1758.95,-1001.32 1877.15,-922 1950.59,-872.72\"/>\n<polygon fill=\"black\" stroke=\"black\" points=\"1951.96,-875.35 1958.32,-866.87 1948.06,-869.53 1951.96,-875.35\"/>\n</g>\n<!-- 18 -->\n<g id=\"node19\" class=\"node\">\n<title>18</title>\n<path fill=\"#eeac7c\" stroke=\"black\" d=\"M1612,-597.88C1612,-597.88 1399.5,-597.88 1399.5,-597.88 1393.5,-597.88 1387.5,-591.88 1387.5,-585.88 1387.5,-585.88 1387.5,-550.12 1387.5,-550.12 1387.5,-544.12 1393.5,-538.12 1399.5,-538.12 1399.5,-538.12 1612,-538.12 1612,-538.12 1618,-538.12 1624,-544.12 1624,-550.12 1624,-550.12 1624,-585.88 1624,-585.88 1624,-591.88 1618,-597.88 1612,-597.88\"/>\n<text text-anchor=\"start\" x=\"1395.5\" y=\"-580.58\" font-family=\"Helvetica,sans-Serif\" font-size=\"14.00\">squared_error = 233573047.18</text>\n<text text-anchor=\"start\" x=\"1457.38\" y=\"-563.33\" font-family=\"Helvetica,sans-Serif\" font-size=\"14.00\">samples = 15</text>\n<text text-anchor=\"start\" x=\"1438.25\" y=\"-546.08\" font-family=\"Helvetica,sans-Serif\" font-size=\"14.00\">value = 393325.87</text>\n</g>\n<!-- 17&#45;&gt;18 -->\n<g id=\"edge18\" class=\"edge\">\n<title>17&#45;&gt;18</title>\n<path fill=\"none\" stroke=\"black\" d=\"M1614.15,-789.21C1590.23,-740.63 1548.93,-656.72 1524.8,-607.7\"/>\n<polygon fill=\"black\" stroke=\"black\" points=\"1527.63,-606.52 1520.07,-599.09 1521.35,-609.61 1527.63,-606.52\"/>\n</g>\n<!-- 19 -->\n<g id=\"node20\" class=\"node\">\n<title>19</title>\n<path fill=\"#ea985e\" stroke=\"black\" d=\"M1867,-606.5C1867,-606.5 1654.5,-606.5 1654.5,-606.5 1648.5,-606.5 1642.5,-600.5 1642.5,-594.5 1642.5,-594.5 1642.5,-541.5 1642.5,-541.5 1642.5,-535.5 1648.5,-529.5 1654.5,-529.5 1654.5,-529.5 1867,-529.5 1867,-529.5 1873,-529.5 1879,-535.5 1879,-541.5 1879,-541.5 1879,-594.5 1879,-594.5 1879,-600.5 1873,-606.5 1867,-606.5\"/>\n<text text-anchor=\"start\" x=\"1723.25\" y=\"-589.2\" font-family=\"Helvetica,sans-Serif\" font-size=\"14.00\">floor ≤ 3.5</text>\n<text text-anchor=\"start\" x=\"1650.5\" y=\"-571.95\" font-family=\"Helvetica,sans-Serif\" font-size=\"14.00\">squared_error = 239491476.82</text>\n<text text-anchor=\"start\" x=\"1712.38\" y=\"-554.7\" font-family=\"Helvetica,sans-Serif\" font-size=\"14.00\">samples = 51</text>\n<text text-anchor=\"start\" x=\"1693.25\" y=\"-537.45\" font-family=\"Helvetica,sans-Serif\" font-size=\"14.00\">value = 417605.65</text>\n</g>\n<!-- 17&#45;&gt;19 -->\n<g id=\"edge19\" class=\"edge\">\n<title>17&#45;&gt;19</title>\n<path fill=\"none\" stroke=\"black\" d=\"M1651.5,-789.21C1674.22,-743.41 1712.52,-666.22 1737.2,-616.46\"/>\n<polygon fill=\"black\" stroke=\"black\" points=\"1740.64,-618.41 1741.95,-607.89 1734.37,-615.3 1740.64,-618.41\"/>\n</g>\n<!-- 20 -->\n<g id=\"node21\" class=\"node\">\n<title>20</title>\n<path fill=\"#eb9f68\" stroke=\"black\" d=\"M1867,-337.88C1867,-337.88 1654.5,-337.88 1654.5,-337.88 1648.5,-337.88 1642.5,-331.88 1642.5,-325.88 1642.5,-325.88 1642.5,-290.12 1642.5,-290.12 1642.5,-284.12 1648.5,-278.12 1654.5,-278.12 1654.5,-278.12 1867,-278.12 1867,-278.12 1873,-278.12 1879,-284.12 1879,-290.12 1879,-290.12 1879,-325.88 1879,-325.88 1879,-331.88 1873,-337.88 1867,-337.88\"/>\n<text text-anchor=\"start\" x=\"1650.5\" y=\"-320.57\" font-family=\"Helvetica,sans-Serif\" font-size=\"14.00\">squared_error = 178979850.05</text>\n<text text-anchor=\"start\" x=\"1712.38\" y=\"-303.32\" font-family=\"Helvetica,sans-Serif\" font-size=\"14.00\">samples = 22</text>\n<text text-anchor=\"start\" x=\"1693.25\" y=\"-286.07\" font-family=\"Helvetica,sans-Serif\" font-size=\"14.00\">value = 409540.36</text>\n</g>\n<!-- 19&#45;&gt;20 -->\n<g id=\"edge20\" class=\"edge\">\n<title>19&#45;&gt;20</title>\n<path fill=\"none\" stroke=\"black\" d=\"M1760.75,-529.21C1760.75,-481.03 1760.75,-398.11 1760.75,-348.93\"/>\n<polygon fill=\"black\" stroke=\"black\" points=\"1764.25,-349.09 1760.75,-339.09 1757.25,-349.09 1764.25,-349.09\"/>\n</g>\n<!-- 21 -->\n<g id=\"node22\" class=\"node\">\n<title>21</title>\n<path fill=\"#e99356\" stroke=\"black\" d=\"M2122,-337.88C2122,-337.88 1909.5,-337.88 1909.5,-337.88 1903.5,-337.88 1897.5,-331.88 1897.5,-325.88 1897.5,-325.88 1897.5,-290.12 1897.5,-290.12 1897.5,-284.12 1903.5,-278.12 1909.5,-278.12 1909.5,-278.12 2122,-278.12 2122,-278.12 2128,-278.12 2134,-284.12 2134,-290.12 2134,-290.12 2134,-325.88 2134,-325.88 2134,-331.88 2128,-337.88 2122,-337.88\"/>\n<text text-anchor=\"start\" x=\"1905.5\" y=\"-320.57\" font-family=\"Helvetica,sans-Serif\" font-size=\"14.00\">squared_error = 198613555.29</text>\n<text text-anchor=\"start\" x=\"1967.38\" y=\"-303.32\" font-family=\"Helvetica,sans-Serif\" font-size=\"14.00\">samples = 29</text>\n<text text-anchor=\"start\" x=\"1948.25\" y=\"-286.07\" font-family=\"Helvetica,sans-Serif\" font-size=\"14.00\">value = 423724.14</text>\n</g>\n<!-- 19&#45;&gt;21 -->\n<g id=\"edge21\" class=\"edge\">\n<title>19&#45;&gt;21</title>\n<path fill=\"none\" stroke=\"black\" d=\"M1798.1,-529.21C1846.72,-480.02 1931.14,-394.61 1979.3,-345.87\"/>\n<polygon fill=\"black\" stroke=\"black\" points=\"1981.46,-348.66 1986,-339.09 1976.48,-343.74 1981.46,-348.66\"/>\n</g>\n<!-- 23 -->\n<g id=\"node24\" class=\"node\">\n<title>23</title>\n<path fill=\"#ea9a60\" stroke=\"black\" d=\"M2122,-597.88C2122,-597.88 1909.5,-597.88 1909.5,-597.88 1903.5,-597.88 1897.5,-591.88 1897.5,-585.88 1897.5,-585.88 1897.5,-550.12 1897.5,-550.12 1897.5,-544.12 1903.5,-538.12 1909.5,-538.12 1909.5,-538.12 2122,-538.12 2122,-538.12 2128,-538.12 2134,-544.12 2134,-550.12 2134,-550.12 2134,-585.88 2134,-585.88 2134,-591.88 2128,-597.88 2122,-597.88\"/>\n<text text-anchor=\"start\" x=\"1905.5\" y=\"-580.58\" font-family=\"Helvetica,sans-Serif\" font-size=\"14.00\">squared_error = 204384011.31</text>\n<text text-anchor=\"start\" x=\"1967.38\" y=\"-563.33\" font-family=\"Helvetica,sans-Serif\" font-size=\"14.00\">samples = 24</text>\n<text text-anchor=\"start\" x=\"1948.25\" y=\"-546.08\" font-family=\"Helvetica,sans-Serif\" font-size=\"14.00\">value = 416141.17</text>\n</g>\n<!-- 22&#45;&gt;23 -->\n<g id=\"edge23\" class=\"edge\">\n<title>22&#45;&gt;23</title>\n<path fill=\"none\" stroke=\"black\" d=\"M2015.75,-789.21C2015.75,-741.03 2015.75,-658.11 2015.75,-608.93\"/>\n<polygon fill=\"black\" stroke=\"black\" points=\"2019.25,-609.09 2015.75,-599.09 2012.25,-609.09 2019.25,-609.09\"/>\n</g>\n<!-- 24 -->\n<g id=\"node25\" class=\"node\">\n<title>24</title>\n<path fill=\"#e58139\" stroke=\"black\" d=\"M2377,-597.88C2377,-597.88 2164.5,-597.88 2164.5,-597.88 2158.5,-597.88 2152.5,-591.88 2152.5,-585.88 2152.5,-585.88 2152.5,-550.12 2152.5,-550.12 2152.5,-544.12 2158.5,-538.12 2164.5,-538.12 2164.5,-538.12 2377,-538.12 2377,-538.12 2383,-538.12 2389,-544.12 2389,-550.12 2389,-550.12 2389,-585.88 2389,-585.88 2389,-591.88 2383,-597.88 2377,-597.88\"/>\n<text text-anchor=\"start\" x=\"2160.5\" y=\"-580.58\" font-family=\"Helvetica,sans-Serif\" font-size=\"14.00\">squared_error = 333448193.72</text>\n<text text-anchor=\"start\" x=\"2222.38\" y=\"-563.33\" font-family=\"Helvetica,sans-Serif\" font-size=\"14.00\">samples = 22</text>\n<text text-anchor=\"start\" x=\"2203.25\" y=\"-546.08\" font-family=\"Helvetica,sans-Serif\" font-size=\"14.00\">value = 446798.91</text>\n</g>\n<!-- 22&#45;&gt;24 -->\n<g id=\"edge24\" class=\"edge\">\n<title>22&#45;&gt;24</title>\n<path fill=\"none\" stroke=\"black\" d=\"M2053.1,-789.21C2101.72,-740.02 2186.14,-654.61 2234.3,-605.87\"/>\n<polygon fill=\"black\" stroke=\"black\" points=\"2236.46,-608.66 2241,-599.09 2231.48,-603.74 2236.46,-608.66\"/>\n</g>\n</g>\n</svg>\n",
      "text/plain": [
       "<graphviz.sources.Source at 0x7f4407df6a40>"
      ]
     },
     "execution_count": 2,
     "metadata": {},
     "output_type": "execute_result"
    }
   ],
   "source": [
    "# training vs validation\n",
    "trn_xs, trn_y = (xs[60:], y[60:])\n",
    "val_xs, val_y = (xs[:60], y[:60])\n",
    "\n",
    "m2 = DecisionTreeRegressor(min_samples_split=30).fit(trn_xs,trn_y)\n",
    "m3 = DecisionTreeRegressor(min_samples_split=30).fit(xs,y)\n",
    "full_data_mse = mean_squared_error(y, m3.predict(xs),squared=False)\n",
    "mse = mean_squared_error(val_y, m2.predict(val_xs),squared=False)\n",
    "trn_mse = mean_squared_error(trn_y, m2.predict(trn_xs), squared=False)\n",
    "print(f\"{trn_mse} vs {mse}. full data mse: {full_data_mse}\")\n",
    "draw_tree(m2, val_xs, size=15)"
   ]
  },
  {
   "cell_type": "code",
   "execution_count": 4,
   "metadata": {},
   "outputs": [
    {
     "name": "stdout",
     "output_type": "stream",
     "text": [
      "8659.993131696054 vs 16524.79868590435.\n"
     ]
    }
   ],
   "source": [
    "from sklearn.ensemble import RandomForestRegressor as rf\n",
    "m4 = rf().fit(trn_xs,trn_y)\n",
    "\n",
    "mse = mean_squared_error(val_y, m4.predict(val_xs),squared=False)\n",
    "trn_mse = mean_squared_error(trn_y, m4.predict(trn_xs), squared=False)\n",
    "print(f\"{trn_mse} vs {mse}.\")"
   ]
  },
  {
   "cell_type": "code",
   "execution_count": 50,
   "metadata": {},
   "outputs": [],
   "source": [
    "def get_tree(prop=0.75,replace=True):\n",
    "  n = len(trn_y)\n",
    "  idxs = np.random.choice(n, int(n*prop), replace=replace)\n",
    "  return DecisionTreeRegressor(min_samples_split=30).fit(trn_xs.iloc[idxs], trn_y.iloc[idxs])"
   ]
  },
  {
   "cell_type": "code",
   "execution_count": 51,
   "metadata": {},
   "outputs": [
    {
     "name": "stdout",
     "output_type": "stream",
     "text": [
      "validation error for forests 18951.848770577904 vs 20932.093036743863\n"
     ]
    }
   ],
   "source": [
    "# random forests\n",
    "trees = [get_tree(0.75) for t in range(100)]\n",
    "all = [t.predict(val_xs) for t in trees]\n",
    "avg = np.stack(all).mean(0)\n",
    "\n",
    "forest_mse = mean_squared_error(val_y, avg,squared=False)\n",
    "print(f\"validation error for forests {forest_mse} vs {mse}\")"
   ]
  },
  {
   "cell_type": "code",
   "execution_count": 22,
   "metadata": {},
   "outputs": [
    {
     "data": {
      "text/html": [
       "<div>\n",
       "<style scoped>\n",
       "    .dataframe tbody tr th:only-of-type {\n",
       "        vertical-align: middle;\n",
       "    }\n",
       "\n",
       "    .dataframe tbody tr th {\n",
       "        vertical-align: top;\n",
       "    }\n",
       "\n",
       "    .dataframe thead th {\n",
       "        text-align: right;\n",
       "    }\n",
       "</style>\n",
       "<table border=\"1\" class=\"dataframe\">\n",
       "  <thead>\n",
       "    <tr style=\"text-align: right;\">\n",
       "      <th></th>\n",
       "      <th>floor</th>\n",
       "      <th>area</th>\n",
       "      <th>lease</th>\n",
       "      <th>price</th>\n",
       "      <th>date</th>\n",
       "      <th>lat</th>\n",
       "      <th>long</th>\n",
       "    </tr>\n",
       "  </thead>\n",
       "  <tbody>\n",
       "    <tr>\n",
       "      <th>0</th>\n",
       "      <td>2.0</td>\n",
       "      <td>67.0</td>\n",
       "      <td>53.166667</td>\n",
       "      <td>300500.0</td>\n",
       "      <td>738641.0</td>\n",
       "      <td>1.44154</td>\n",
       "      <td>103.77210</td>\n",
       "    </tr>\n",
       "    <tr>\n",
       "      <th>1</th>\n",
       "      <td>11.0</td>\n",
       "      <td>65.0</td>\n",
       "      <td>51.750000</td>\n",
       "      <td>315000.0</td>\n",
       "      <td>738641.0</td>\n",
       "      <td>1.44198</td>\n",
       "      <td>103.77847</td>\n",
       "    </tr>\n",
       "    <tr>\n",
       "      <th>2</th>\n",
       "      <td>23.0</td>\n",
       "      <td>67.0</td>\n",
       "      <td>91.250000</td>\n",
       "      <td>430000.0</td>\n",
       "      <td>738641.0</td>\n",
       "      <td>1.43913</td>\n",
       "      <td>103.77814</td>\n",
       "    </tr>\n",
       "    <tr>\n",
       "      <th>3</th>\n",
       "      <td>8.0</td>\n",
       "      <td>68.0</td>\n",
       "      <td>94.416667</td>\n",
       "      <td>445000.0</td>\n",
       "      <td>738641.0</td>\n",
       "      <td>1.43834</td>\n",
       "      <td>103.80388</td>\n",
       "    </tr>\n",
       "    <tr>\n",
       "      <th>4</th>\n",
       "      <td>8.0</td>\n",
       "      <td>68.0</td>\n",
       "      <td>94.416667</td>\n",
       "      <td>450000.0</td>\n",
       "      <td>738641.0</td>\n",
       "      <td>1.43862</td>\n",
       "      <td>103.80561</td>\n",
       "    </tr>\n",
       "    <tr>\n",
       "      <th>...</th>\n",
       "      <td>...</td>\n",
       "      <td>...</td>\n",
       "      <td>...</td>\n",
       "      <td>...</td>\n",
       "      <td>...</td>\n",
       "      <td>...</td>\n",
       "      <td>...</td>\n",
       "    </tr>\n",
       "    <tr>\n",
       "      <th>302</th>\n",
       "      <td>8.0</td>\n",
       "      <td>67.0</td>\n",
       "      <td>92.166667</td>\n",
       "      <td>395000.0</td>\n",
       "      <td>738276.0</td>\n",
       "      <td>1.44780</td>\n",
       "      <td>103.80344</td>\n",
       "    </tr>\n",
       "    <tr>\n",
       "      <th>303</th>\n",
       "      <td>14.0</td>\n",
       "      <td>67.0</td>\n",
       "      <td>91.750000</td>\n",
       "      <td>420000.0</td>\n",
       "      <td>738276.0</td>\n",
       "      <td>1.43830</td>\n",
       "      <td>103.79489</td>\n",
       "    </tr>\n",
       "    <tr>\n",
       "      <th>304</th>\n",
       "      <td>5.0</td>\n",
       "      <td>71.0</td>\n",
       "      <td>94.666667</td>\n",
       "      <td>420000.0</td>\n",
       "      <td>738276.0</td>\n",
       "      <td>1.44049</td>\n",
       "      <td>103.79836</td>\n",
       "    </tr>\n",
       "    <tr>\n",
       "      <th>305</th>\n",
       "      <td>8.0</td>\n",
       "      <td>68.0</td>\n",
       "      <td>95.250000</td>\n",
       "      <td>400000.0</td>\n",
       "      <td>738276.0</td>\n",
       "      <td>1.44636</td>\n",
       "      <td>103.80527</td>\n",
       "    </tr>\n",
       "    <tr>\n",
       "      <th>306</th>\n",
       "      <td>5.0</td>\n",
       "      <td>73.0</td>\n",
       "      <td>67.000000</td>\n",
       "      <td>358000.0</td>\n",
       "      <td>738276.0</td>\n",
       "      <td>1.43407</td>\n",
       "      <td>103.77478</td>\n",
       "    </tr>\n",
       "  </tbody>\n",
       "</table>\n",
       "<p>307 rows × 7 columns</p>\n",
       "</div>"
      ],
      "text/plain": [
       "     floor  area      lease     price      date      lat       long\n",
       "0      2.0  67.0  53.166667  300500.0  738641.0  1.44154  103.77210\n",
       "1     11.0  65.0  51.750000  315000.0  738641.0  1.44198  103.77847\n",
       "2     23.0  67.0  91.250000  430000.0  738641.0  1.43913  103.77814\n",
       "3      8.0  68.0  94.416667  445000.0  738641.0  1.43834  103.80388\n",
       "4      8.0  68.0  94.416667  450000.0  738641.0  1.43862  103.80561\n",
       "..     ...   ...        ...       ...       ...      ...        ...\n",
       "302    8.0  67.0  92.166667  395000.0  738276.0  1.44780  103.80344\n",
       "303   14.0  67.0  91.750000  420000.0  738276.0  1.43830  103.79489\n",
       "304    5.0  71.0  94.666667  420000.0  738276.0  1.44049  103.79836\n",
       "305    8.0  68.0  95.250000  400000.0  738276.0  1.44636  103.80527\n",
       "306    5.0  73.0  67.000000  358000.0  738276.0  1.43407  103.77478\n",
       "\n",
       "[307 rows x 7 columns]"
      ]
     },
     "execution_count": 22,
     "metadata": {},
     "output_type": "execute_result"
    }
   ],
   "source": [
    "def lease_to_float(str):\n",
    "  result = re.search(\"(\\d+) years\\\\n(\\d+) months\", str)\n",
    "  if (result is None):\n",
    "    result = re.search(\"(\\d+) years\", str)\n",
    "    year = result.groups()[0]\n",
    "    return float(year)\n",
    "  year,month = result.groups()\n",
    "  return float(year)+float(month)/12\n",
    "def lease_cleanup(df):\n",
    "  df['lease'] = df.lease.apply(lambda x:lease_to_float(x) if isinstance(x,str) else x)\n",
    "  return df\n",
    "def lat_long(df):\n",
    "  adds = (df.block + df.street).str.replace(u'\\xa0', u' ')\n",
    "  latLongs = adds.apply(lambda x: latLong[x])\n",
    "  df['lat'] = latLongs.apply(lambda x: x[0])\n",
    "  df['long'] = latLongs.apply(lambda x: x[1])\n",
    "  df.drop(['block', 'street'], axis=1, inplace=True)\n",
    "  return df\n",
    "\n",
    "# use lat/long and lease data\n",
    "def load_and_cleanup():\n",
    "  df = load_csv()\n",
    "  price_cleanup(df)\n",
    "  area_cleanup(df)\n",
    "  date_cleanup(df)\n",
    "  floor_cleanup(df)\n",
    "  lease_cleanup(df)\n",
    "  lat_long(df)\n",
    "  df.drop([\"year\"], axis=1, inplace = True)\n",
    "  return df\n",
    "df2 = load_and_cleanup()\n",
    "df2\n",
    "\n",
    "\n"
   ]
  },
  {
   "cell_type": "code",
   "execution_count": 35,
   "metadata": {},
   "outputs": [
    {
     "name": "stdout",
     "output_type": "stream",
     "text": [
      "15590.498502237007 vs 19921.728257665978\n"
     ]
    },
    {
     "data": {
      "image/svg+xml": "<?xml version=\"1.0\" encoding=\"UTF-8\" standalone=\"no\"?>\n<!DOCTYPE svg PUBLIC \"-//W3C//DTD SVG 1.1//EN\"\n \"http://www.w3.org/Graphics/SVG/1.1/DTD/svg11.dtd\">\n<!-- Generated by graphviz version 8.0.5 (20230506.1012)\n -->\n<!-- Title: Tree Pages: 1 -->\n<svg width=\"1080pt\" height=\"650pt\"\n viewBox=\"0.00 0.00 1080.00 650.49\" xmlns=\"http://www.w3.org/2000/svg\" xmlns:xlink=\"http://www.w3.org/1999/xlink\">\n<g id=\"graph0\" class=\"graph\" transform=\"scale(0.532151 0.532151) rotate(0) translate(4 1218.38)\">\n<title>Tree</title>\n<polygon fill=\"white\" stroke=\"none\" points=\"-4,4 -4,-1218.38 2025.5,-1218.38 2025.5,4 -4,4\"/>\n<!-- 0 -->\n<g id=\"node1\" class=\"node\">\n<title>0</title>\n<path fill=\"#f2c09c\" stroke=\"black\" d=\"M1116.5,-1161.5C1116.5,-1161.5 904,-1161.5 904,-1161.5 898,-1161.5 892,-1155.5 892,-1149.5 892,-1149.5 892,-1096.5 892,-1096.5 892,-1090.5 898,-1084.5 904,-1084.5 904,-1084.5 1116.5,-1084.5 1116.5,-1084.5 1122.5,-1084.5 1128.5,-1090.5 1128.5,-1096.5 1128.5,-1096.5 1128.5,-1149.5 1128.5,-1149.5 1128.5,-1155.5 1122.5,-1161.5 1116.5,-1161.5\"/>\n<text text-anchor=\"start\" x=\"961.5\" y=\"-1144.2\" font-family=\"Helvetica,sans-Serif\" font-size=\"14.00\">lease ≤ 80.79</text>\n<text text-anchor=\"start\" x=\"900\" y=\"-1126.95\" font-family=\"Helvetica,sans-Serif\" font-size=\"14.00\">squared_error = 2843011316.5</text>\n<text text-anchor=\"start\" x=\"957.38\" y=\"-1109.7\" font-family=\"Helvetica,sans-Serif\" font-size=\"14.00\">samples = 247</text>\n<text text-anchor=\"start\" x=\"942.75\" y=\"-1092.45\" font-family=\"Helvetica,sans-Serif\" font-size=\"14.00\">value = 369634.69</text>\n</g>\n<!-- 1 -->\n<g id=\"node2\" class=\"node\">\n<title>1</title>\n<path fill=\"#f9e2d2\" stroke=\"black\" d=\"M861.5,-893.5C861.5,-893.5 649,-893.5 649,-893.5 643,-893.5 637,-887.5 637,-881.5 637,-881.5 637,-828.5 637,-828.5 637,-822.5 643,-816.5 649,-816.5 649,-816.5 861.5,-816.5 861.5,-816.5 867.5,-816.5 873.5,-822.5 873.5,-828.5 873.5,-828.5 873.5,-881.5 873.5,-881.5 873.5,-887.5 867.5,-893.5 861.5,-893.5\"/>\n<text text-anchor=\"start\" x=\"720.38\" y=\"-876.2\" font-family=\"Helvetica,sans-Serif\" font-size=\"14.00\">lat ≤ 1.44</text>\n<text text-anchor=\"start\" x=\"645\" y=\"-858.95\" font-family=\"Helvetica,sans-Serif\" font-size=\"14.00\">squared_error = 977657757.03</text>\n<text text-anchor=\"start\" x=\"702.38\" y=\"-841.7\" font-family=\"Helvetica,sans-Serif\" font-size=\"14.00\">samples = 135</text>\n<text text-anchor=\"start\" x=\"687.75\" y=\"-824.45\" font-family=\"Helvetica,sans-Serif\" font-size=\"14.00\">value = 328037.24</text>\n</g>\n<!-- 0&#45;&gt;1 -->\n<g id=\"edge1\" class=\"edge\">\n<title>0&#45;&gt;1</title>\n<path fill=\"none\" stroke=\"black\" d=\"M973.99,-1084.17C927.82,-1036.01 848.13,-952.89 798.75,-901.37\"/>\n<polygon fill=\"black\" stroke=\"black\" points=\"801.84,-899.5 792.39,-894.7 796.78,-904.34 801.84,-899.5\"/>\n<text text-anchor=\"middle\" x=\"790.86\" y=\"-914.02\" font-family=\"Helvetica,sans-Serif\" font-size=\"14.00\">True</text>\n</g>\n<!-- 12 -->\n<g id=\"node13\" class=\"node\">\n<title>12</title>\n<path fill=\"#ea975c\" stroke=\"black\" d=\"M1371.5,-893.5C1371.5,-893.5 1159,-893.5 1159,-893.5 1153,-893.5 1147,-887.5 1147,-881.5 1147,-881.5 1147,-828.5 1147,-828.5 1147,-822.5 1153,-816.5 1159,-816.5 1159,-816.5 1371.5,-816.5 1371.5,-816.5 1377.5,-816.5 1383.5,-822.5 1383.5,-828.5 1383.5,-828.5 1383.5,-881.5 1383.5,-881.5 1383.5,-887.5 1377.5,-893.5 1371.5,-893.5\"/>\n<text text-anchor=\"start\" x=\"1227.75\" y=\"-876.2\" font-family=\"Helvetica,sans-Serif\" font-size=\"14.00\">floor ≤ 9.5</text>\n<text text-anchor=\"start\" x=\"1155\" y=\"-858.95\" font-family=\"Helvetica,sans-Serif\" font-size=\"14.00\">squared_error = 491744897.21</text>\n<text text-anchor=\"start\" x=\"1212.38\" y=\"-841.7\" font-family=\"Helvetica,sans-Serif\" font-size=\"14.00\">samples = 112</text>\n<text text-anchor=\"start\" x=\"1197.75\" y=\"-824.45\" font-family=\"Helvetica,sans-Serif\" font-size=\"14.00\">value = 419774.46</text>\n</g>\n<!-- 0&#45;&gt;12 -->\n<g id=\"edge12\" class=\"edge\">\n<title>0&#45;&gt;12</title>\n<path fill=\"none\" stroke=\"black\" d=\"M1046.51,-1084.17C1092.68,-1036.01 1172.37,-952.89 1221.75,-901.37\"/>\n<polygon fill=\"black\" stroke=\"black\" points=\"1223.72,-904.34 1228.11,-894.7 1218.66,-899.5 1223.72,-904.34\"/>\n<text text-anchor=\"middle\" x=\"1229.64\" y=\"-914.02\" font-family=\"Helvetica,sans-Serif\" font-size=\"14.00\">False</text>\n</g>\n<!-- 2 -->\n<g id=\"node3\" class=\"node\">\n<title>2</title>\n<path fill=\"#f3c6a6\" stroke=\"black\" d=\"M479.5,-625.5C479.5,-625.5 267,-625.5 267,-625.5 261,-625.5 255,-619.5 255,-613.5 255,-613.5 255,-560.5 255,-560.5 255,-554.5 261,-548.5 267,-548.5 267,-548.5 479.5,-548.5 479.5,-548.5 485.5,-548.5 491.5,-554.5 491.5,-560.5 491.5,-560.5 491.5,-613.5 491.5,-613.5 491.5,-619.5 485.5,-625.5 479.5,-625.5\"/>\n<text text-anchor=\"start\" x=\"338.38\" y=\"-608.2\" font-family=\"Helvetica,sans-Serif\" font-size=\"14.00\">lat ≤ 1.43</text>\n<text text-anchor=\"start\" x=\"263\" y=\"-590.95\" font-family=\"Helvetica,sans-Serif\" font-size=\"14.00\">squared_error = 315425569.16</text>\n<text text-anchor=\"start\" x=\"324.88\" y=\"-573.7\" font-family=\"Helvetica,sans-Serif\" font-size=\"14.00\">samples = 41</text>\n<text text-anchor=\"start\" x=\"310.25\" y=\"-556.45\" font-family=\"Helvetica,sans-Serif\" font-size=\"14.00\">value = 361911.9</text>\n</g>\n<!-- 1&#45;&gt;2 -->\n<g id=\"edge2\" class=\"edge\">\n<title>1&#45;&gt;2</title>\n<path fill=\"none\" stroke=\"black\" d=\"M700.92,-816.17C631.15,-767.59 510.28,-683.42 436.46,-632.02\"/>\n<polygon fill=\"black\" stroke=\"black\" points=\"438.9,-628.76 428.7,-625.91 434.9,-634.5 438.9,-628.76\"/>\n</g>\n<!-- 5 -->\n<g id=\"node6\" class=\"node\">\n<title>5</title>\n<path fill=\"#fceee5\" stroke=\"black\" d=\"M861.5,-625.5C861.5,-625.5 649,-625.5 649,-625.5 643,-625.5 637,-619.5 637,-613.5 637,-613.5 637,-560.5 637,-560.5 637,-554.5 643,-548.5 649,-548.5 649,-548.5 861.5,-548.5 861.5,-548.5 867.5,-548.5 873.5,-554.5 873.5,-560.5 873.5,-560.5 873.5,-613.5 873.5,-613.5 873.5,-619.5 867.5,-625.5 861.5,-625.5\"/>\n<text text-anchor=\"start\" x=\"714\" y=\"-608.2\" font-family=\"Helvetica,sans-Serif\" font-size=\"14.00\">area ≤ 67.5</text>\n<text text-anchor=\"start\" x=\"645\" y=\"-590.95\" font-family=\"Helvetica,sans-Serif\" font-size=\"14.00\">squared_error = 547697607.39</text>\n<text text-anchor=\"start\" x=\"706.88\" y=\"-573.7\" font-family=\"Helvetica,sans-Serif\" font-size=\"14.00\">samples = 94</text>\n<text text-anchor=\"start\" x=\"687.75\" y=\"-556.45\" font-family=\"Helvetica,sans-Serif\" font-size=\"14.00\">value = 313262.13</text>\n</g>\n<!-- 1&#45;&gt;5 -->\n<g id=\"edge5\" class=\"edge\">\n<title>1&#45;&gt;5</title>\n<path fill=\"none\" stroke=\"black\" d=\"M755.25,-816.17C755.25,-769 755.25,-688.29 755.25,-636.59\"/>\n<polygon fill=\"black\" stroke=\"black\" points=\"758.75,-636.7 755.25,-626.7 751.75,-636.7 758.75,-636.7\"/>\n</g>\n<!-- 3 -->\n<g id=\"node4\" class=\"node\">\n<title>3</title>\n<path fill=\"#f2c09c\" stroke=\"black\" d=\"M224.5,-348.88C224.5,-348.88 12,-348.88 12,-348.88 6,-348.88 0,-342.88 0,-336.88 0,-336.88 0,-301.12 0,-301.12 0,-295.12 6,-289.12 12,-289.12 12,-289.12 224.5,-289.12 224.5,-289.12 230.5,-289.12 236.5,-295.12 236.5,-301.12 236.5,-301.12 236.5,-336.88 236.5,-336.88 236.5,-342.88 230.5,-348.88 224.5,-348.88\"/>\n<text text-anchor=\"start\" x=\"8\" y=\"-331.57\" font-family=\"Helvetica,sans-Serif\" font-size=\"14.00\">squared_error = 253706432.69</text>\n<text text-anchor=\"start\" x=\"69.88\" y=\"-314.32\" font-family=\"Helvetica,sans-Serif\" font-size=\"14.00\">samples = 22</text>\n<text text-anchor=\"start\" x=\"50.75\" y=\"-297.07\" font-family=\"Helvetica,sans-Serif\" font-size=\"14.00\">value = 369972.18</text>\n</g>\n<!-- 2&#45;&gt;3 -->\n<g id=\"edge3\" class=\"edge\">\n<title>2&#45;&gt;3</title>\n<path fill=\"none\" stroke=\"black\" d=\"M336.99,-548.17C288.17,-497.25 201.89,-407.25 153.57,-356.84\"/>\n<polygon fill=\"black\" stroke=\"black\" points=\"156.59,-354.9 147.15,-350.1 151.54,-359.74 156.59,-354.9\"/>\n</g>\n<!-- 4 -->\n<g id=\"node5\" class=\"node\">\n<title>4</title>\n<path fill=\"#f5ceb2\" stroke=\"black\" d=\"M479.5,-348.88C479.5,-348.88 267,-348.88 267,-348.88 261,-348.88 255,-342.88 255,-336.88 255,-336.88 255,-301.12 255,-301.12 255,-295.12 261,-289.12 267,-289.12 267,-289.12 479.5,-289.12 479.5,-289.12 485.5,-289.12 491.5,-295.12 491.5,-301.12 491.5,-301.12 491.5,-336.88 491.5,-336.88 491.5,-342.88 485.5,-348.88 479.5,-348.88\"/>\n<text text-anchor=\"start\" x=\"263\" y=\"-331.57\" font-family=\"Helvetica,sans-Serif\" font-size=\"14.00\">squared_error = 224559556.79</text>\n<text text-anchor=\"start\" x=\"324.88\" y=\"-314.32\" font-family=\"Helvetica,sans-Serif\" font-size=\"14.00\">samples = 19</text>\n<text text-anchor=\"start\" x=\"305.75\" y=\"-297.07\" font-family=\"Helvetica,sans-Serif\" font-size=\"14.00\">value = 352578.95</text>\n</g>\n<!-- 2&#45;&gt;4 -->\n<g id=\"edge4\" class=\"edge\">\n<title>2&#45;&gt;4</title>\n<path fill=\"none\" stroke=\"black\" d=\"M373.25,-548.17C373.25,-498.3 373.25,-410.93 373.25,-360\"/>\n<polygon fill=\"black\" stroke=\"black\" points=\"376.75,-360.1 373.25,-350.1 369.75,-360.1 376.75,-360.1\"/>\n</g>\n<!-- 6 -->\n<g id=\"node7\" class=\"node\">\n<title>6</title>\n<path fill=\"#fef9f6\" stroke=\"black\" d=\"M734.5,-357.5C734.5,-357.5 522,-357.5 522,-357.5 516,-357.5 510,-351.5 510,-345.5 510,-345.5 510,-292.5 510,-292.5 510,-286.5 516,-280.5 522,-280.5 522,-280.5 734.5,-280.5 734.5,-280.5 740.5,-280.5 746.5,-286.5 746.5,-292.5 746.5,-292.5 746.5,-345.5 746.5,-345.5 746.5,-351.5 740.5,-357.5 734.5,-357.5\"/>\n<text text-anchor=\"start\" x=\"568.62\" y=\"-340.2\" font-family=\"Helvetica,sans-Serif\" font-size=\"14.00\">date ≤ 738383.5</text>\n<text text-anchor=\"start\" x=\"518\" y=\"-322.95\" font-family=\"Helvetica,sans-Serif\" font-size=\"14.00\">squared_error = 239693511.92</text>\n<text text-anchor=\"start\" x=\"579.88\" y=\"-305.7\" font-family=\"Helvetica,sans-Serif\" font-size=\"14.00\">samples = 49</text>\n<text text-anchor=\"start\" x=\"560.75\" y=\"-288.45\" font-family=\"Helvetica,sans-Serif\" font-size=\"14.00\">value = 299609.96</text>\n</g>\n<!-- 5&#45;&gt;6 -->\n<g id=\"edge6\" class=\"edge\">\n<title>5&#45;&gt;6</title>\n<path fill=\"none\" stroke=\"black\" d=\"M737.19,-548.17C714.53,-500.7 675.65,-419.27 650.98,-367.61\"/>\n<polygon fill=\"black\" stroke=\"black\" points=\"653.72,-366.21 646.25,-358.7 647.4,-369.23 653.72,-366.21\"/>\n</g>\n<!-- 9 -->\n<g id=\"node10\" class=\"node\">\n<title>9</title>\n<path fill=\"#f9e2d1\" stroke=\"black\" d=\"M989.5,-357.5C989.5,-357.5 777,-357.5 777,-357.5 771,-357.5 765,-351.5 765,-345.5 765,-345.5 765,-292.5 765,-292.5 765,-286.5 771,-280.5 777,-280.5 777,-280.5 989.5,-280.5 989.5,-280.5 995.5,-280.5 1001.5,-286.5 1001.5,-292.5 1001.5,-292.5 1001.5,-345.5 1001.5,-345.5 1001.5,-351.5 995.5,-357.5 989.5,-357.5\"/>\n<text text-anchor=\"start\" x=\"848.38\" y=\"-340.2\" font-family=\"Helvetica,sans-Serif\" font-size=\"14.00\">lat ≤ 1.44</text>\n<text text-anchor=\"start\" x=\"773\" y=\"-322.95\" font-family=\"Helvetica,sans-Serif\" font-size=\"14.00\">squared_error = 459142003.17</text>\n<text text-anchor=\"start\" x=\"834.88\" y=\"-305.7\" font-family=\"Helvetica,sans-Serif\" font-size=\"14.00\">samples = 45</text>\n<text text-anchor=\"start\" x=\"815.75\" y=\"-288.45\" font-family=\"Helvetica,sans-Serif\" font-size=\"14.00\">value = 328127.82</text>\n</g>\n<!-- 5&#45;&gt;9 -->\n<g id=\"edge9\" class=\"edge\">\n<title>5&#45;&gt;9</title>\n<path fill=\"none\" stroke=\"black\" d=\"M773.45,-548.17C796.34,-500.6 835.64,-418.93 860.49,-367.29\"/>\n<polygon fill=\"black\" stroke=\"black\" points=\"863.93,-369.23 865.11,-358.7 857.62,-366.19 863.93,-369.23\"/>\n</g>\n<!-- 7 -->\n<g id=\"node8\" class=\"node\">\n<title>7</title>\n<path fill=\"#ffffff\" stroke=\"black\" d=\"M485,-100.88C485,-100.88 281.5,-100.88 281.5,-100.88 275.5,-100.88 269.5,-94.88 269.5,-88.88 269.5,-88.88 269.5,-53.12 269.5,-53.12 269.5,-47.12 275.5,-41.12 281.5,-41.12 281.5,-41.12 485,-41.12 485,-41.12 491,-41.12 497,-47.12 497,-53.12 497,-53.12 497,-88.88 497,-88.88 497,-94.88 491,-100.88 485,-100.88\"/>\n<text text-anchor=\"start\" x=\"277.5\" y=\"-83.58\" font-family=\"Helvetica,sans-Serif\" font-size=\"14.00\">squared_error = 224463612.0</text>\n<text text-anchor=\"start\" x=\"334.88\" y=\"-66.33\" font-family=\"Helvetica,sans-Serif\" font-size=\"14.00\">samples = 24</text>\n<text text-anchor=\"start\" x=\"320.25\" y=\"-49.08\" font-family=\"Helvetica,sans-Serif\" font-size=\"14.00\">value = 292662.0</text>\n</g>\n<!-- 6&#45;&gt;7 -->\n<g id=\"edge7\" class=\"edge\">\n<title>6&#45;&gt;7</title>\n<path fill=\"none\" stroke=\"black\" d=\"M590.51,-280.1C544.07,-233.47 465.75,-154.83 419.84,-108.74\"/>\n<polygon fill=\"black\" stroke=\"black\" points=\"422.75,-106.7 413.21,-102.08 417.79,-111.64 422.75,-106.7\"/>\n</g>\n<!-- 8 -->\n<g id=\"node9\" class=\"node\">\n<title>8</title>\n<path fill=\"#fdf4ee\" stroke=\"black\" d=\"M731,-100.88C731,-100.88 527.5,-100.88 527.5,-100.88 521.5,-100.88 515.5,-94.88 515.5,-88.88 515.5,-88.88 515.5,-53.12 515.5,-53.12 515.5,-47.12 521.5,-41.12 527.5,-41.12 527.5,-41.12 731,-41.12 731,-41.12 737,-41.12 743,-47.12 743,-53.12 743,-53.12 743,-88.88 743,-88.88 743,-94.88 737,-100.88 731,-100.88\"/>\n<text text-anchor=\"start\" x=\"523.5\" y=\"-83.58\" font-family=\"Helvetica,sans-Serif\" font-size=\"14.00\">squared_error = 163481600.0</text>\n<text text-anchor=\"start\" x=\"580.88\" y=\"-66.33\" font-family=\"Helvetica,sans-Serif\" font-size=\"14.00\">samples = 25</text>\n<text text-anchor=\"start\" x=\"566.25\" y=\"-49.08\" font-family=\"Helvetica,sans-Serif\" font-size=\"14.00\">value = 306280.0</text>\n</g>\n<!-- 6&#45;&gt;8 -->\n<g id=\"edge8\" class=\"edge\">\n<title>6&#45;&gt;8</title>\n<path fill=\"none\" stroke=\"black\" d=\"M628.4,-280.1C628.59,-234.53 628.9,-158.39 629.09,-111.93\"/>\n<polygon fill=\"black\" stroke=\"black\" points=\"632.59,-112.1 629.13,-102.08 625.59,-112.07 632.59,-112.1\"/>\n</g>\n<!-- 10 -->\n<g id=\"node11\" class=\"node\">\n<title>10</title>\n<path fill=\"#f7d9c3\" stroke=\"black\" d=\"M987.5,-100.88C987.5,-100.88 775,-100.88 775,-100.88 769,-100.88 763,-94.88 763,-88.88 763,-88.88 763,-53.12 763,-53.12 763,-47.12 769,-41.12 775,-41.12 775,-41.12 987.5,-41.12 987.5,-41.12 993.5,-41.12 999.5,-47.12 999.5,-53.12 999.5,-53.12 999.5,-88.88 999.5,-88.88 999.5,-94.88 993.5,-100.88 987.5,-100.88\"/>\n<text text-anchor=\"start\" x=\"771\" y=\"-83.58\" font-family=\"Helvetica,sans-Serif\" font-size=\"14.00\">squared_error = 284961102.81</text>\n<text text-anchor=\"start\" x=\"832.88\" y=\"-66.33\" font-family=\"Helvetica,sans-Serif\" font-size=\"14.00\">samples = 22</text>\n<text text-anchor=\"start\" x=\"813.75\" y=\"-49.08\" font-family=\"Helvetica,sans-Serif\" font-size=\"14.00\">value = 339317.09</text>\n</g>\n<!-- 9&#45;&gt;10 -->\n<g id=\"edge10\" class=\"edge\">\n<title>9&#45;&gt;10</title>\n<path fill=\"none\" stroke=\"black\" d=\"M882.94,-280.1C882.57,-234.53 881.95,-158.39 881.57,-111.93\"/>\n<polygon fill=\"black\" stroke=\"black\" points=\"885.07,-112.05 881.49,-102.08 878.07,-112.11 885.07,-112.05\"/>\n</g>\n<!-- 11 -->\n<g id=\"node12\" class=\"node\">\n<title>11</title>\n<path fill=\"#fbebdf\" stroke=\"black\" d=\"M1233,-100.88C1233,-100.88 1029.5,-100.88 1029.5,-100.88 1023.5,-100.88 1017.5,-94.88 1017.5,-88.88 1017.5,-88.88 1017.5,-53.12 1017.5,-53.12 1017.5,-47.12 1023.5,-41.12 1029.5,-41.12 1029.5,-41.12 1233,-41.12 1233,-41.12 1239,-41.12 1245,-47.12 1245,-53.12 1245,-53.12 1245,-88.88 1245,-88.88 1245,-94.88 1239,-100.88 1233,-100.88\"/>\n<text text-anchor=\"start\" x=\"1025.5\" y=\"-83.58\" font-family=\"Helvetica,sans-Serif\" font-size=\"14.00\">squared_error = 391444081.0</text>\n<text text-anchor=\"start\" x=\"1082.88\" y=\"-66.33\" font-family=\"Helvetica,sans-Serif\" font-size=\"14.00\">samples = 23</text>\n<text text-anchor=\"start\" x=\"1063.75\" y=\"-49.08\" font-family=\"Helvetica,sans-Serif\" font-size=\"14.00\">value = 317425.04</text>\n</g>\n<!-- 9&#45;&gt;11 -->\n<g id=\"edge11\" class=\"edge\">\n<title>9&#45;&gt;11</title>\n<path fill=\"none\" stroke=\"black\" d=\"M921.46,-280.1C968.47,-233.47 1047.74,-154.83 1094.21,-108.74\"/>\n<polygon fill=\"black\" stroke=\"black\" points=\"1096.3,-111.61 1100.93,-102.08 1091.37,-106.64 1096.3,-111.61\"/>\n</g>\n<!-- 13 -->\n<g id=\"node14\" class=\"node\">\n<title>13</title>\n<path fill=\"#eb9d66\" stroke=\"black\" d=\"M1371.5,-625.5C1371.5,-625.5 1159,-625.5 1159,-625.5 1153,-625.5 1147,-619.5 1147,-613.5 1147,-613.5 1147,-560.5 1147,-560.5 1147,-554.5 1153,-548.5 1159,-548.5 1159,-548.5 1371.5,-548.5 1371.5,-548.5 1377.5,-548.5 1383.5,-554.5 1383.5,-560.5 1383.5,-560.5 1383.5,-613.5 1383.5,-613.5 1383.5,-619.5 1377.5,-625.5 1371.5,-625.5\"/>\n<text text-anchor=\"start\" x=\"1221\" y=\"-608.2\" font-family=\"Helvetica,sans-Serif\" font-size=\"14.00\">lease ≤ 92.5</text>\n<text text-anchor=\"start\" x=\"1155\" y=\"-590.95\" font-family=\"Helvetica,sans-Serif\" font-size=\"14.00\">squared_error = 341675630.31</text>\n<text text-anchor=\"start\" x=\"1216.88\" y=\"-573.7\" font-family=\"Helvetica,sans-Serif\" font-size=\"14.00\">samples = 66</text>\n<text text-anchor=\"start\" x=\"1197.75\" y=\"-556.45\" font-family=\"Helvetica,sans-Serif\" font-size=\"14.00\">value = 412087.52</text>\n</g>\n<!-- 12&#45;&gt;13 -->\n<g id=\"edge13\" class=\"edge\">\n<title>12&#45;&gt;13</title>\n<path fill=\"none\" stroke=\"black\" d=\"M1265.25,-816.17C1265.25,-769 1265.25,-688.29 1265.25,-636.59\"/>\n<polygon fill=\"black\" stroke=\"black\" points=\"1268.75,-636.7 1265.25,-626.7 1261.75,-636.7 1268.75,-636.7\"/>\n</g>\n<!-- 18 -->\n<g id=\"node19\" class=\"node\">\n<title>18</title>\n<path fill=\"#e88e4e\" stroke=\"black\" d=\"M1754.5,-625.5C1754.5,-625.5 1542,-625.5 1542,-625.5 1536,-625.5 1530,-619.5 1530,-613.5 1530,-613.5 1530,-560.5 1530,-560.5 1530,-554.5 1536,-548.5 1542,-548.5 1542,-548.5 1754.5,-548.5 1754.5,-548.5 1760.5,-548.5 1766.5,-554.5 1766.5,-560.5 1766.5,-560.5 1766.5,-613.5 1766.5,-613.5 1766.5,-619.5 1760.5,-625.5 1754.5,-625.5\"/>\n<text text-anchor=\"start\" x=\"1599.5\" y=\"-608.2\" font-family=\"Helvetica,sans-Serif\" font-size=\"14.00\">lease ≤ 92.54</text>\n<text text-anchor=\"start\" x=\"1538\" y=\"-590.95\" font-family=\"Helvetica,sans-Serif\" font-size=\"14.00\">squared_error = 500640466.25</text>\n<text text-anchor=\"start\" x=\"1599.88\" y=\"-573.7\" font-family=\"Helvetica,sans-Serif\" font-size=\"14.00\">samples = 46</text>\n<text text-anchor=\"start\" x=\"1580.75\" y=\"-556.45\" font-family=\"Helvetica,sans-Serif\" font-size=\"14.00\">value = 430803.57</text>\n</g>\n<!-- 12&#45;&gt;18 -->\n<g id=\"edge18\" class=\"edge\">\n<title>12&#45;&gt;18</title>\n<path fill=\"none\" stroke=\"black\" d=\"M1319.72,-816.17C1389.67,-767.59 1510.86,-683.42 1584.87,-632.02\"/>\n<polygon fill=\"black\" stroke=\"black\" points=\"1586.44,-634.49 1592.66,-625.91 1582.45,-628.74 1586.44,-634.49\"/>\n</g>\n<!-- 14 -->\n<g id=\"node15\" class=\"node\">\n<title>14</title>\n<path fill=\"#eead7e\" stroke=\"black\" d=\"M1244.5,-348.88C1244.5,-348.88 1032,-348.88 1032,-348.88 1026,-348.88 1020,-342.88 1020,-336.88 1020,-336.88 1020,-301.12 1020,-301.12 1020,-295.12 1026,-289.12 1032,-289.12 1032,-289.12 1244.5,-289.12 1244.5,-289.12 1250.5,-289.12 1256.5,-295.12 1256.5,-301.12 1256.5,-301.12 1256.5,-336.88 1256.5,-336.88 1256.5,-342.88 1250.5,-348.88 1244.5,-348.88\"/>\n<text text-anchor=\"start\" x=\"1028\" y=\"-331.57\" font-family=\"Helvetica,sans-Serif\" font-size=\"14.00\">squared_error = 233573047.18</text>\n<text text-anchor=\"start\" x=\"1089.88\" y=\"-314.32\" font-family=\"Helvetica,sans-Serif\" font-size=\"14.00\">samples = 15</text>\n<text text-anchor=\"start\" x=\"1070.75\" y=\"-297.07\" font-family=\"Helvetica,sans-Serif\" font-size=\"14.00\">value = 393325.87</text>\n</g>\n<!-- 13&#45;&gt;14 -->\n<g id=\"edge14\" class=\"edge\">\n<title>13&#45;&gt;14</title>\n<path fill=\"none\" stroke=\"black\" d=\"M1247.19,-548.17C1223.18,-497.88 1180.96,-409.46 1156.74,-358.72\"/>\n<polygon fill=\"black\" stroke=\"black\" points=\"1159.61,-357.62 1152.14,-350.1 1153.29,-360.63 1159.61,-357.62\"/>\n</g>\n<!-- 15 -->\n<g id=\"node16\" class=\"node\">\n<title>15</title>\n<path fill=\"#ea995f\" stroke=\"black\" d=\"M1499.5,-357.5C1499.5,-357.5 1287,-357.5 1287,-357.5 1281,-357.5 1275,-351.5 1275,-345.5 1275,-345.5 1275,-292.5 1275,-292.5 1275,-286.5 1281,-280.5 1287,-280.5 1287,-280.5 1499.5,-280.5 1499.5,-280.5 1505.5,-280.5 1511.5,-286.5 1511.5,-292.5 1511.5,-292.5 1511.5,-345.5 1511.5,-345.5 1511.5,-351.5 1505.5,-357.5 1499.5,-357.5\"/>\n<text text-anchor=\"start\" x=\"1355.75\" y=\"-340.2\" font-family=\"Helvetica,sans-Serif\" font-size=\"14.00\">floor ≤ 3.5</text>\n<text text-anchor=\"start\" x=\"1283\" y=\"-322.95\" font-family=\"Helvetica,sans-Serif\" font-size=\"14.00\">squared_error = 239491476.82</text>\n<text text-anchor=\"start\" x=\"1344.88\" y=\"-305.7\" font-family=\"Helvetica,sans-Serif\" font-size=\"14.00\">samples = 51</text>\n<text text-anchor=\"start\" x=\"1325.75\" y=\"-288.45\" font-family=\"Helvetica,sans-Serif\" font-size=\"14.00\">value = 417605.65</text>\n</g>\n<!-- 13&#45;&gt;15 -->\n<g id=\"edge15\" class=\"edge\">\n<title>13&#45;&gt;15</title>\n<path fill=\"none\" stroke=\"black\" d=\"M1283.45,-548.17C1306.34,-500.6 1345.64,-418.93 1370.49,-367.29\"/>\n<polygon fill=\"black\" stroke=\"black\" points=\"1373.93,-369.23 1375.11,-358.7 1367.62,-366.19 1373.93,-369.23\"/>\n</g>\n<!-- 16 -->\n<g id=\"node17\" class=\"node\">\n<title>16</title>\n<path fill=\"#eb9f69\" stroke=\"black\" d=\"M1493.5,-100.88C1493.5,-100.88 1281,-100.88 1281,-100.88 1275,-100.88 1269,-94.88 1269,-88.88 1269,-88.88 1269,-53.12 1269,-53.12 1269,-47.12 1275,-41.12 1281,-41.12 1281,-41.12 1493.5,-41.12 1493.5,-41.12 1499.5,-41.12 1505.5,-47.12 1505.5,-53.12 1505.5,-53.12 1505.5,-88.88 1505.5,-88.88 1505.5,-94.88 1499.5,-100.88 1493.5,-100.88\"/>\n<text text-anchor=\"start\" x=\"1277\" y=\"-83.58\" font-family=\"Helvetica,sans-Serif\" font-size=\"14.00\">squared_error = 178979850.05</text>\n<text text-anchor=\"start\" x=\"1338.88\" y=\"-66.33\" font-family=\"Helvetica,sans-Serif\" font-size=\"14.00\">samples = 22</text>\n<text text-anchor=\"start\" x=\"1319.75\" y=\"-49.08\" font-family=\"Helvetica,sans-Serif\" font-size=\"14.00\">value = 409540.36</text>\n</g>\n<!-- 15&#45;&gt;16 -->\n<g id=\"edge16\" class=\"edge\">\n<title>15&#45;&gt;16</title>\n<path fill=\"none\" stroke=\"black\" d=\"M1392.33,-280.1C1391.21,-234.53 1389.36,-158.39 1388.22,-111.93\"/>\n<polygon fill=\"black\" stroke=\"black\" points=\"1391.7,-111.99 1387.96,-102.08 1384.7,-112.16 1391.7,-111.99\"/>\n</g>\n<!-- 17 -->\n<g id=\"node18\" class=\"node\">\n<title>17</title>\n<path fill=\"#e99457\" stroke=\"black\" d=\"M1748.5,-100.88C1748.5,-100.88 1536,-100.88 1536,-100.88 1530,-100.88 1524,-94.88 1524,-88.88 1524,-88.88 1524,-53.12 1524,-53.12 1524,-47.12 1530,-41.12 1536,-41.12 1536,-41.12 1748.5,-41.12 1748.5,-41.12 1754.5,-41.12 1760.5,-47.12 1760.5,-53.12 1760.5,-53.12 1760.5,-88.88 1760.5,-88.88 1760.5,-94.88 1754.5,-100.88 1748.5,-100.88\"/>\n<text text-anchor=\"start\" x=\"1532\" y=\"-83.58\" font-family=\"Helvetica,sans-Serif\" font-size=\"14.00\">squared_error = 198613555.29</text>\n<text text-anchor=\"start\" x=\"1593.88\" y=\"-66.33\" font-family=\"Helvetica,sans-Serif\" font-size=\"14.00\">samples = 29</text>\n<text text-anchor=\"start\" x=\"1574.75\" y=\"-49.08\" font-family=\"Helvetica,sans-Serif\" font-size=\"14.00\">value = 423724.14</text>\n</g>\n<!-- 15&#45;&gt;17 -->\n<g id=\"edge17\" class=\"edge\">\n<title>15&#45;&gt;17</title>\n<path fill=\"none\" stroke=\"black\" d=\"M1431.61,-280.1C1478.81,-233.47 1558.41,-154.83 1605.06,-108.74\"/>\n<polygon fill=\"black\" stroke=\"black\" points=\"1607.16,-111.6 1611.81,-102.08 1602.24,-106.62 1607.16,-111.6\"/>\n</g>\n<!-- 19 -->\n<g id=\"node20\" class=\"node\">\n<title>19</title>\n<path fill=\"#ea9a60\" stroke=\"black\" d=\"M1754.5,-348.88C1754.5,-348.88 1542,-348.88 1542,-348.88 1536,-348.88 1530,-342.88 1530,-336.88 1530,-336.88 1530,-301.12 1530,-301.12 1530,-295.12 1536,-289.12 1542,-289.12 1542,-289.12 1754.5,-289.12 1754.5,-289.12 1760.5,-289.12 1766.5,-295.12 1766.5,-301.12 1766.5,-301.12 1766.5,-336.88 1766.5,-336.88 1766.5,-342.88 1760.5,-348.88 1754.5,-348.88\"/>\n<text text-anchor=\"start\" x=\"1538\" y=\"-331.57\" font-family=\"Helvetica,sans-Serif\" font-size=\"14.00\">squared_error = 204384011.31</text>\n<text text-anchor=\"start\" x=\"1599.88\" y=\"-314.32\" font-family=\"Helvetica,sans-Serif\" font-size=\"14.00\">samples = 24</text>\n<text text-anchor=\"start\" x=\"1580.75\" y=\"-297.07\" font-family=\"Helvetica,sans-Serif\" font-size=\"14.00\">value = 416141.17</text>\n</g>\n<!-- 18&#45;&gt;19 -->\n<g id=\"edge19\" class=\"edge\">\n<title>18&#45;&gt;19</title>\n<path fill=\"none\" stroke=\"black\" d=\"M1648.25,-548.17C1648.25,-498.3 1648.25,-410.93 1648.25,-360\"/>\n<polygon fill=\"black\" stroke=\"black\" points=\"1651.75,-360.1 1648.25,-350.1 1644.75,-360.1 1651.75,-360.1\"/>\n</g>\n<!-- 20 -->\n<g id=\"node21\" class=\"node\">\n<title>20</title>\n<path fill=\"#e58139\" stroke=\"black\" d=\"M2009.5,-348.88C2009.5,-348.88 1797,-348.88 1797,-348.88 1791,-348.88 1785,-342.88 1785,-336.88 1785,-336.88 1785,-301.12 1785,-301.12 1785,-295.12 1791,-289.12 1797,-289.12 1797,-289.12 2009.5,-289.12 2009.5,-289.12 2015.5,-289.12 2021.5,-295.12 2021.5,-301.12 2021.5,-301.12 2021.5,-336.88 2021.5,-336.88 2021.5,-342.88 2015.5,-348.88 2009.5,-348.88\"/>\n<text text-anchor=\"start\" x=\"1793\" y=\"-331.57\" font-family=\"Helvetica,sans-Serif\" font-size=\"14.00\">squared_error = 333448193.72</text>\n<text text-anchor=\"start\" x=\"1854.88\" y=\"-314.32\" font-family=\"Helvetica,sans-Serif\" font-size=\"14.00\">samples = 22</text>\n<text text-anchor=\"start\" x=\"1835.75\" y=\"-297.07\" font-family=\"Helvetica,sans-Serif\" font-size=\"14.00\">value = 446798.91</text>\n</g>\n<!-- 18&#45;&gt;20 -->\n<g id=\"edge20\" class=\"edge\">\n<title>18&#45;&gt;20</title>\n<path fill=\"none\" stroke=\"black\" d=\"M1684.51,-548.17C1733.33,-497.25 1819.61,-407.25 1867.93,-356.84\"/>\n<polygon fill=\"black\" stroke=\"black\" points=\"1869.96,-359.74 1874.35,-350.1 1864.91,-354.9 1869.96,-359.74\"/>\n</g>\n</g>\n</svg>\n",
      "text/plain": [
       "<graphviz.sources.Source at 0x7f413bdfe800>"
      ]
     },
     "execution_count": 35,
     "metadata": {},
     "output_type": "execute_result"
    }
   ],
   "source": [
    "xs2 = df2[[\"floor\", \"area\", \"date\", \"lease\", 'lat', 'long']]\n",
    "y2 = df2[\"price\"]\n",
    "\n",
    "# just 8 leaf nodes for easy analysis\n",
    "m2 = DecisionTreeRegressor(max_leaf_nodes=8).fit(xs2,y2)\n",
    "whole_error = mean_squared_error(y2, m2.predict(xs2),squared=False)\n",
    "\n",
    "# training vs validation\n",
    "trn_xs, trn_y = (xs2[60:], y2[60:])\n",
    "val_xs, val_y = (xs2[:60], y2[:60])\n",
    "\n",
    "m2 = DecisionTreeRegressor(min_samples_split=30).fit(trn_xs,trn_y)\n",
    "single_mse = mean_squared_error(val_y, m2.predict(val_xs),squared=False)\n",
    "trn_mse = mean_squared_error(trn_y, m2.predict(trn_xs), squared=False)\n",
    "print(f\"{trn_mse} vs {single_mse}\")\n",
    "draw_tree(m2, val_xs, size=15)"
   ]
  },
  {
   "cell_type": "code",
   "execution_count": 41,
   "metadata": {},
   "outputs": [
    {
     "name": "stdout",
     "output_type": "stream",
     "text": [
      "validation error for forests 19599.759570479047 vs 19921.728257665978\n"
     ]
    }
   ],
   "source": [
    "# random forests\n",
    "trees = [get_tree(0.75) for t in range(100)]\n",
    "all = [t.predict(val_xs) for t in trees]\n",
    "avg = np.stack(all).mean(0)\n",
    "\n",
    "forest_mse = mean_squared_error(val_y, avg,squared=False)\n",
    "print(f\"validation error for forests {forest_mse} vs {single_mse}\")"
   ]
  }
 ],
 "metadata": {
  "kernelspec": {
   "display_name": "base",
   "language": "python",
   "name": "python3"
  },
  "language_info": {
   "codemirror_mode": {
    "name": "ipython",
    "version": 3
   },
   "file_extension": ".py",
   "mimetype": "text/x-python",
   "name": "python",
   "nbconvert_exporter": "python",
   "pygments_lexer": "ipython3",
   "version": "3.10.10"
  },
  "orig_nbformat": 4,
  "vscode": {
   "interpreter": {
    "hash": "bc2819e0cd58e12e49d4aa9b793031ae2fcdc5314c5c901672ba6897274f5c4e"
   }
  }
 },
 "nbformat": 4,
 "nbformat_minor": 2
}
